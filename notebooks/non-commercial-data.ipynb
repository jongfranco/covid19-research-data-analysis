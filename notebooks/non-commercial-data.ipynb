{
 "cells": [
  {
   "cell_type": "markdown",
   "metadata": {},
   "source": [
    "## Process non-commercial published papers\n",
    "\n",
    "**Name: Vidhi Gupta (vg5vc)**\n",
    "\n",
    "Some exploration and preprocessing to create one dataframe and export it as .csv.\n",
    "\n",
    "Adjusted to data from 2020-04-17."
   ]
  },
  {
   "cell_type": "markdown",
   "metadata": {},
   "source": [
    "# Load Packages"
   ]
  },
  {
   "cell_type": "code",
   "execution_count": 1,
   "metadata": {
    "_cell_guid": "79c7e3d0-c299-4dcb-8224-4455121ee9b0",
    "_kg_hide-input": true,
    "_uuid": "d629ff2d2480ee46fbb7e2d37f6b5fab8052498a"
   },
   "outputs": [],
   "source": [
    "import numpy as np \n",
    "import pandas as pd\n",
    "\n",
    "import glob\n",
    "import json"
   ]
  },
  {
   "cell_type": "markdown",
   "metadata": {},
   "source": [
    "# Load and Prepare Data"
   ]
  },
  {
   "cell_type": "markdown",
   "metadata": {},
   "source": [
    "To read the JSON files we follow [COVID EDA: Initial Exploration Tool](https://www.kaggle.com/ivanegapratama/covid-eda-initial-exploration-tool)."
   ]
  },
  {
   "cell_type": "code",
   "execution_count": 2,
   "metadata": {},
   "outputs": [
    {
     "data": {
      "text/html": [
       "<div>\n",
       "<style scoped>\n",
       "    .dataframe tbody tr th:only-of-type {\n",
       "        vertical-align: middle;\n",
       "    }\n",
       "\n",
       "    .dataframe tbody tr th {\n",
       "        vertical-align: top;\n",
       "    }\n",
       "\n",
       "    .dataframe thead th {\n",
       "        text-align: right;\n",
       "    }\n",
       "</style>\n",
       "<table border=\"1\" class=\"dataframe\">\n",
       "  <thead>\n",
       "    <tr style=\"text-align: right;\">\n",
       "      <th></th>\n",
       "      <th>cord_uid</th>\n",
       "      <th>sha</th>\n",
       "      <th>source_x</th>\n",
       "      <th>title</th>\n",
       "      <th>doi</th>\n",
       "      <th>pmcid</th>\n",
       "      <th>pubmed_id</th>\n",
       "      <th>license</th>\n",
       "      <th>abstract</th>\n",
       "      <th>publish_time</th>\n",
       "      <th>authors</th>\n",
       "      <th>journal</th>\n",
       "      <th>Microsoft Academic Paper ID</th>\n",
       "      <th>WHO #Covidence</th>\n",
       "      <th>has_pdf_parse</th>\n",
       "      <th>has_pmc_xml_parse</th>\n",
       "      <th>full_text_file</th>\n",
       "      <th>url</th>\n",
       "    </tr>\n",
       "  </thead>\n",
       "  <tbody>\n",
       "    <tr>\n",
       "      <th>0</th>\n",
       "      <td>xqhn0vbp</td>\n",
       "      <td>1e1286db212100993d03cc22374b624f7caee956</td>\n",
       "      <td>PMC</td>\n",
       "      <td>Airborne rhinovirus detection and effect of ul...</td>\n",
       "      <td>10.1186/1471-2458-3-5</td>\n",
       "      <td>PMC140314</td>\n",
       "      <td>12525263</td>\n",
       "      <td>no-cc</td>\n",
       "      <td>BACKGROUND: Rhinovirus, the most common cause ...</td>\n",
       "      <td>2003-01-13</td>\n",
       "      <td>Myatt, Theodore A; Johnston, Sebastian L; Rudn...</td>\n",
       "      <td>BMC Public Health</td>\n",
       "      <td>NaN</td>\n",
       "      <td>NaN</td>\n",
       "      <td>True</td>\n",
       "      <td>True</td>\n",
       "      <td>custom_license</td>\n",
       "      <td>https://www.ncbi.nlm.nih.gov/pmc/articles/PMC1...</td>\n",
       "    </tr>\n",
       "    <tr>\n",
       "      <th>1</th>\n",
       "      <td>gi6uaa83</td>\n",
       "      <td>8ae137c8da1607b3a8e4c946c07ca8bda67f88ac</td>\n",
       "      <td>PMC</td>\n",
       "      <td>Discovering human history from stomach bacteria</td>\n",
       "      <td>10.1186/gb-2003-4-5-213</td>\n",
       "      <td>PMC156578</td>\n",
       "      <td>12734001</td>\n",
       "      <td>no-cc</td>\n",
       "      <td>Recent analyses of human pathogens have reveal...</td>\n",
       "      <td>2003-04-28</td>\n",
       "      <td>Disotell, Todd R</td>\n",
       "      <td>Genome Biol</td>\n",
       "      <td>NaN</td>\n",
       "      <td>NaN</td>\n",
       "      <td>True</td>\n",
       "      <td>True</td>\n",
       "      <td>custom_license</td>\n",
       "      <td>https://www.ncbi.nlm.nih.gov/pmc/articles/PMC1...</td>\n",
       "    </tr>\n",
       "  </tbody>\n",
       "</table>\n",
       "</div>"
      ],
      "text/plain": [
       "   cord_uid                                       sha source_x  \\\n",
       "0  xqhn0vbp  1e1286db212100993d03cc22374b624f7caee956      PMC   \n",
       "1  gi6uaa83  8ae137c8da1607b3a8e4c946c07ca8bda67f88ac      PMC   \n",
       "\n",
       "                                               title                      doi  \\\n",
       "0  Airborne rhinovirus detection and effect of ul...    10.1186/1471-2458-3-5   \n",
       "1    Discovering human history from stomach bacteria  10.1186/gb-2003-4-5-213   \n",
       "\n",
       "       pmcid pubmed_id license  \\\n",
       "0  PMC140314  12525263   no-cc   \n",
       "1  PMC156578  12734001   no-cc   \n",
       "\n",
       "                                            abstract publish_time  \\\n",
       "0  BACKGROUND: Rhinovirus, the most common cause ...   2003-01-13   \n",
       "1  Recent analyses of human pathogens have reveal...   2003-04-28   \n",
       "\n",
       "                                             authors            journal  \\\n",
       "0  Myatt, Theodore A; Johnston, Sebastian L; Rudn...  BMC Public Health   \n",
       "1                                   Disotell, Todd R        Genome Biol   \n",
       "\n",
       "  Microsoft Academic Paper ID WHO #Covidence  has_pdf_parse  \\\n",
       "0                         NaN            NaN           True   \n",
       "1                         NaN            NaN           True   \n",
       "\n",
       "   has_pmc_xml_parse  full_text_file  \\\n",
       "0               True  custom_license   \n",
       "1               True  custom_license   \n",
       "\n",
       "                                                 url  \n",
       "0  https://www.ncbi.nlm.nih.gov/pmc/articles/PMC1...  \n",
       "1  https://www.ncbi.nlm.nih.gov/pmc/articles/PMC1...  "
      ]
     },
     "execution_count": 2,
     "metadata": {},
     "output_type": "execute_result"
    }
   ],
   "source": [
    "root_path = '../dataset/CORD-19-research-challenge/'\n",
    "meta_df = pd.read_csv(root_path+'metadata.csv', dtype={\n",
    "    'pubmed_id': str,\n",
    "    'Microsoft Academic Paper ID': str, \n",
    "    'doi': str\n",
    "})\n",
    "meta_df.head(2)"
   ]
  },
  {
   "cell_type": "code",
   "execution_count": 3,
   "metadata": {},
   "outputs": [
    {
     "data": {
      "text/plain": [
       "2466"
      ]
     },
     "execution_count": 3,
     "metadata": {},
     "output_type": "execute_result"
    }
   ],
   "source": [
    "all_json = glob.glob(f'{root_path}noncomm_use_subset/noncomm_use_subset/pdf_json/*.json', recursive=True)\n",
    "len(all_json)"
   ]
  },
  {
   "cell_type": "code",
   "execution_count": 4,
   "metadata": {},
   "outputs": [
    {
     "data": {
      "text/plain": [
       "2212"
      ]
     },
     "execution_count": 4,
     "metadata": {},
     "output_type": "execute_result"
    }
   ],
   "source": [
    "all_json_pmc = glob.glob(f'{root_path}noncomm_use_subset/noncomm_use_subset/pmc_json/*.json', recursive=True)\n",
    "len(all_json_pmc)"
   ]
  },
  {
   "cell_type": "markdown",
   "metadata": {},
   "source": [
    "# Non - Commercial use pdf_json"
   ]
  },
  {
   "cell_type": "code",
   "execution_count": 5,
   "metadata": {},
   "outputs": [],
   "source": [
    "methods = ['methods','method','statistical methods','materials','materials and methods',\n",
    "                'data collection','the study','study design','experimental design','objective',\n",
    "                'objectives','procedures','data collection and analysis', 'methodology',\n",
    "                'material and methods','the model','experimental procedures','main text']"
   ]
  },
  {
   "cell_type": "code",
   "execution_count": 6,
   "metadata": {
    "_kg_hide-input": true
   },
   "outputs": [],
   "source": [
    "# [''.join(x.lower() for x in m if x.isalpha()) for m in methods]\n",
    "\n",
    "# for m in methods:\n",
    "#     print(''.join(x.lower() for x in m if x.isalpha()))"
   ]
  },
  {
   "cell_type": "code",
   "execution_count": 7,
   "metadata": {},
   "outputs": [
    {
     "name": "stdout",
     "output_type": "stream",
     "text": [
      "b2f67d533f2749807f2537f3775b39da3b186051: ... There is a disproportionate number of individuals with mental and somatic illnesses among persons in detention (Bhugra, 2020; Ginn, 2012) . It is also known that infections which are transmitted human...\n"
     ]
    }
   ],
   "source": [
    "class FileReader:\n",
    "    def __init__(self, file_path):\n",
    "        with open(file_path) as file:\n",
    "            content = json.load(file)\n",
    "            self.paper_id = content['paper_id']\n",
    "            self.abstract = []\n",
    "            self.body_text = []\n",
    "            self.methods = []\n",
    "            self.results = []\n",
    "\n",
    "            # Abstract\n",
    "            for entry in content['abstract']:\n",
    "                self.abstract.append(entry['text'])\n",
    "            # Body text\n",
    "            for entry in content['body_text']:\n",
    "                self.body_text.append(entry['text'])\n",
    "            # Methods\n",
    "            methods = ['methods','method','statistical methods','materials','materials and methods',\n",
    "                'data collection','the study','study design','experimental design','objective',\n",
    "                'objectives','procedures','data collection and analysis', 'methodology',\n",
    "                'material and methods','the model','experimental procedures','main text']\n",
    "            for entry in content['body_text']:\n",
    "                section_title = ''.join(x.lower() for x in entry['section'] if x.isalpha()) #remove numbers and spaces\n",
    "                if any(m in section_title for m in [''.join(x.lower() for x in m if x.isalpha()) for m in methods]) : \n",
    "                    self.methods.append(entry['text'])\n",
    "            # Results\n",
    "            results_synonyms = ['result']\n",
    "            for entry in content['body_text']:\n",
    "                section_title = ''.join(x.lower() for x in entry['section'] if x.isalpha())\n",
    "                if any(r in section_title for r in results_synonyms) :\n",
    "                    self.results.append(entry['text'])\n",
    "                    \n",
    "            self.abstract = '\\n'.join(self.abstract)\n",
    "            self.body_text = '\\n'.join(self.body_text)\n",
    "            self.methods = '\\n'.join(self.methods)\n",
    "            self.results = '\\n'.join(self.results)\n",
    "\n",
    "    def __repr__(self):\n",
    "        return f'{self.paper_id}: {self.abstract[:200]}... {self.body_text[:200]}...'\n",
    "first_row = FileReader(all_json[0])\n",
    "print(first_row)"
   ]
  },
  {
   "cell_type": "code",
   "execution_count": 8,
   "metadata": {},
   "outputs": [
    {
     "name": "stdout",
     "output_type": "stream",
     "text": [
      "Processing index: 0 of 2466\n",
      "Processing index: 246 of 2466\n",
      "Processing index: 492 of 2466\n",
      "Processing index: 738 of 2466\n",
      "Processing index: 984 of 2466\n",
      "Processing index: 1230 of 2466\n",
      "Processing index: 1476 of 2466\n",
      "Processing index: 1722 of 2466\n",
      "Processing index: 1968 of 2466\n",
      "Processing index: 2214 of 2466\n",
      "Processing index: 2460 of 2466\n"
     ]
    }
   ],
   "source": [
    "dict_ = {'paper_id': [], 'abstract': [], 'body_text': [], 'methods': [], 'results': []}\n",
    "for idx, entry in enumerate(all_json):\n",
    "    if idx % (len(all_json) // 10) == 0:\n",
    "        print(f'Processing index: {idx} of {len(all_json)}')\n",
    "    content = FileReader(entry)\n",
    "    dict_['paper_id'].append(content.paper_id)\n",
    "    dict_['abstract'].append(content.abstract)\n",
    "    dict_['body_text'].append(content.body_text)\n",
    "    dict_['methods'].append(content.methods)\n",
    "    dict_['results'].append(content.results)"
   ]
  },
  {
   "cell_type": "code",
   "execution_count": 9,
   "metadata": {},
   "outputs": [
    {
     "data": {
      "text/html": [
       "<div>\n",
       "<style scoped>\n",
       "    .dataframe tbody tr th:only-of-type {\n",
       "        vertical-align: middle;\n",
       "    }\n",
       "\n",
       "    .dataframe tbody tr th {\n",
       "        vertical-align: top;\n",
       "    }\n",
       "\n",
       "    .dataframe thead th {\n",
       "        text-align: right;\n",
       "    }\n",
       "</style>\n",
       "<table border=\"1\" class=\"dataframe\">\n",
       "  <thead>\n",
       "    <tr style=\"text-align: right;\">\n",
       "      <th></th>\n",
       "      <th>paper_id</th>\n",
       "      <th>abstract</th>\n",
       "      <th>body_text</th>\n",
       "      <th>methods</th>\n",
       "      <th>results</th>\n",
       "    </tr>\n",
       "  </thead>\n",
       "  <tbody>\n",
       "    <tr>\n",
       "      <th>0</th>\n",
       "      <td>b2f67d533f2749807f2537f3775b39da3b186051</td>\n",
       "      <td></td>\n",
       "      <td>There is a disproportionate number of individu...</td>\n",
       "      <td></td>\n",
       "      <td></td>\n",
       "    </tr>\n",
       "    <tr>\n",
       "      <th>1</th>\n",
       "      <td>ad98979eada6e333a276d39efdce21779d538625</td>\n",
       "      <td>While noncanonic xanthine nucleotides XMP/dXMP...</td>\n",
       "      <td>The concentration and ratio of purine nucleoti...</td>\n",
       "      <td>Guanine-based phosphonate (0.5 mmol) was disso...</td>\n",
       "      <td></td>\n",
       "    </tr>\n",
       "    <tr>\n",
       "      <th>2</th>\n",
       "      <td>464f7d3a460eb51dbc25bd12639b22079a73f85a</td>\n",
       "      <td>Long non-coding RNAs (lncRNAs) are found not o...</td>\n",
       "      <td>Viruses are important infectious agents that i...</td>\n",
       "      <td></td>\n",
       "      <td></td>\n",
       "    </tr>\n",
       "    <tr>\n",
       "      <th>3</th>\n",
       "      <td>c436139975d97ef929b5d8452595de40bda0c11c</td>\n",
       "      <td>on behalf of the IRC002 Study Team Summary Bac...</td>\n",
       "      <td>Pandemic influenza remains a global health thr...</td>\n",
       "      <td>This was a randomized, open-label, multicenter...</td>\n",
       "      <td>Between January 2011 and April 2015, a total o...</td>\n",
       "    </tr>\n",
       "    <tr>\n",
       "      <th>4</th>\n",
       "      <td>634128ea7d7736750e1c3cd0a48bb37843d06dac</td>\n",
       "      <td>The majority of emerging zoonoses originate in...</td>\n",
       "      <td>A total of 12,793 consensus PCR assays were pe...</td>\n",
       "      <td>Samples and PCR screening. Samples (n ϭ 1,897)...</td>\n",
       "      <td></td>\n",
       "    </tr>\n",
       "  </tbody>\n",
       "</table>\n",
       "</div>"
      ],
      "text/plain": [
       "                                   paper_id  \\\n",
       "0  b2f67d533f2749807f2537f3775b39da3b186051   \n",
       "1  ad98979eada6e333a276d39efdce21779d538625   \n",
       "2  464f7d3a460eb51dbc25bd12639b22079a73f85a   \n",
       "3  c436139975d97ef929b5d8452595de40bda0c11c   \n",
       "4  634128ea7d7736750e1c3cd0a48bb37843d06dac   \n",
       "\n",
       "                                            abstract  \\\n",
       "0                                                      \n",
       "1  While noncanonic xanthine nucleotides XMP/dXMP...   \n",
       "2  Long non-coding RNAs (lncRNAs) are found not o...   \n",
       "3  on behalf of the IRC002 Study Team Summary Bac...   \n",
       "4  The majority of emerging zoonoses originate in...   \n",
       "\n",
       "                                           body_text  \\\n",
       "0  There is a disproportionate number of individu...   \n",
       "1  The concentration and ratio of purine nucleoti...   \n",
       "2  Viruses are important infectious agents that i...   \n",
       "3  Pandemic influenza remains a global health thr...   \n",
       "4  A total of 12,793 consensus PCR assays were pe...   \n",
       "\n",
       "                                             methods  \\\n",
       "0                                                      \n",
       "1  Guanine-based phosphonate (0.5 mmol) was disso...   \n",
       "2                                                      \n",
       "3  This was a randomized, open-label, multicenter...   \n",
       "4  Samples and PCR screening. Samples (n ϭ 1,897)...   \n",
       "\n",
       "                                             results  \n",
       "0                                                     \n",
       "1                                                     \n",
       "2                                                     \n",
       "3  Between January 2011 and April 2015, a total o...  \n",
       "4                                                     "
      ]
     },
     "execution_count": 9,
     "metadata": {},
     "output_type": "execute_result"
    }
   ],
   "source": [
    "papers = pd.DataFrame(dict_, columns=['paper_id', 'abstract', 'body_text', 'methods', 'results'])\n",
    "papers.head()"
   ]
  },
  {
   "cell_type": "code",
   "execution_count": 10,
   "metadata": {},
   "outputs": [
    {
     "data": {
      "text/plain": [
       "(1131, 5)"
      ]
     },
     "execution_count": 10,
     "metadata": {},
     "output_type": "execute_result"
    }
   ],
   "source": [
    "papers[(papers.results.str.len() != 0) | (papers.methods.str.len() != 0)].shape"
   ]
  },
  {
   "cell_type": "code",
   "execution_count": 11,
   "metadata": {},
   "outputs": [],
   "source": [
    "df = pd.merge(papers, meta_df, left_on='paper_id', right_on='sha', how='left').drop('sha', axis=1)"
   ]
  },
  {
   "cell_type": "code",
   "execution_count": 12,
   "metadata": {},
   "outputs": [
    {
     "data": {
      "text/plain": [
       "Index(['paper_id', 'abstract_x', 'body_text', 'methods', 'results', 'cord_uid',\n",
       "       'source_x', 'title', 'doi', 'pmcid', 'pubmed_id', 'license',\n",
       "       'abstract_y', 'publish_time', 'authors', 'journal',\n",
       "       'Microsoft Academic Paper ID', 'WHO #Covidence', 'has_pdf_parse',\n",
       "       'has_pmc_xml_parse', 'full_text_file', 'url'],\n",
       "      dtype='object')"
      ]
     },
     "execution_count": 12,
     "metadata": {},
     "output_type": "execute_result"
    }
   ],
   "source": [
    "df.columns"
   ]
  },
  {
   "cell_type": "markdown",
   "metadata": {},
   "source": [
    "# Non - Commercial use pmc_json"
   ]
  },
  {
   "cell_type": "markdown",
   "metadata": {},
   "source": [
    "This only contains the full text - no abstracts!"
   ]
  },
  {
   "cell_type": "code",
   "execution_count": 13,
   "metadata": {},
   "outputs": [
    {
     "name": "stdout",
     "output_type": "stream",
     "text": [
      "PMC4834006: In 2009, a novel type A influenza (H1N1) virus was first identified in patients from Mexico and has since, spread globally.[1] During peak periods of seasonal influenza, the pandemic strain of H1N1 vi...\n"
     ]
    }
   ],
   "source": [
    "class FileReader:\n",
    "    def __init__(self, file_path):\n",
    "        with open(file_path) as file:\n",
    "            content = json.load(file)\n",
    "            self.paper_id = content['paper_id']\n",
    "            self.body_text = []\n",
    "            self.methods = []\n",
    "            self.results = []\n",
    "\n",
    "            # Body text\n",
    "            for entry in content['body_text']:\n",
    "                self.body_text.append(entry['text'])\n",
    "            # Methods\n",
    "            methods = ['methods','method','statistical methods','materials','materials and methods',\n",
    "                'data collection','the study','study design','experimental design','objective',\n",
    "                'objectives','procedures','data collection and analysis', 'methodology',\n",
    "                'material and methods','the model','experimental procedures','main text']\n",
    "            for entry in content['body_text']:\n",
    "                section_title = ''.join(x.lower() for x in entry['section'] if x.isalpha()) #remove numbers and spaces\n",
    "                if any(m in section_title for m in [''.join(x.lower() for x in m if x.isalpha()) for m in methods]) : \n",
    "                    self.methods.append(entry['text'])\n",
    "            # Results\n",
    "            results_synonyms = ['result']\n",
    "            for entry in content['body_text']:\n",
    "                section_title = ''.join(x.lower() for x in entry['section'] if x.isalpha())\n",
    "                if any(r in section_title for r in results_synonyms) :\n",
    "                    self.results.append(entry['text'])\n",
    "                    \n",
    "            self.body_text = '\\n'.join(self.body_text)\n",
    "            self.methods = '\\n'.join(self.methods)\n",
    "            self.results = '\\n'.join(self.results)\n",
    "\n",
    "    def __repr__(self):\n",
    "        return f'{self.paper_id}: {self.body_text[:200]}...'\n",
    "first_row = FileReader(all_json_pmc[0])\n",
    "print(first_row)"
   ]
  },
  {
   "cell_type": "code",
   "execution_count": 14,
   "metadata": {},
   "outputs": [
    {
     "name": "stdout",
     "output_type": "stream",
     "text": [
      "Processing index: 0 of 2212\n",
      "Processing index: 221 of 2212\n",
      "Processing index: 442 of 2212\n",
      "Processing index: 663 of 2212\n",
      "Processing index: 884 of 2212\n",
      "Processing index: 1105 of 2212\n",
      "Processing index: 1326 of 2212\n",
      "Processing index: 1547 of 2212\n",
      "Processing index: 1768 of 2212\n",
      "Processing index: 1989 of 2212\n",
      "Processing index: 2210 of 2212\n"
     ]
    }
   ],
   "source": [
    "dict_ = {'paper_id': [], 'body_text': [], 'methods': [], 'results': []}\n",
    "for idx, entry in enumerate(all_json_pmc):\n",
    "    if idx % (len(all_json_pmc) // 10) == 0:\n",
    "        print(f'Processing index: {idx} of {len(all_json_pmc)}')\n",
    "    content = FileReader(entry)\n",
    "    dict_['paper_id'].append(content.paper_id)\n",
    "    dict_['body_text'].append(content.body_text)\n",
    "    dict_['methods'].append(content.methods)\n",
    "    dict_['results'].append(content.results)"
   ]
  },
  {
   "cell_type": "code",
   "execution_count": 15,
   "metadata": {},
   "outputs": [
    {
     "data": {
      "text/html": [
       "<div>\n",
       "<style scoped>\n",
       "    .dataframe tbody tr th:only-of-type {\n",
       "        vertical-align: middle;\n",
       "    }\n",
       "\n",
       "    .dataframe tbody tr th {\n",
       "        vertical-align: top;\n",
       "    }\n",
       "\n",
       "    .dataframe thead th {\n",
       "        text-align: right;\n",
       "    }\n",
       "</style>\n",
       "<table border=\"1\" class=\"dataframe\">\n",
       "  <thead>\n",
       "    <tr style=\"text-align: right;\">\n",
       "      <th></th>\n",
       "      <th>paper_id</th>\n",
       "      <th>body_text</th>\n",
       "      <th>methods</th>\n",
       "      <th>results</th>\n",
       "    </tr>\n",
       "  </thead>\n",
       "  <tbody>\n",
       "    <tr>\n",
       "      <th>0</th>\n",
       "      <td>PMC4834006</td>\n",
       "      <td>In 2009, a novel type A influenza (H1N1) virus...</td>\n",
       "      <td>This study and the use of patient case files w...</td>\n",
       "      <td>The demographic data, clinical data, and radio...</td>\n",
       "    </tr>\n",
       "    <tr>\n",
       "      <th>1</th>\n",
       "      <td>PMC6780997</td>\n",
       "      <td>There are many pathogens, such as HIV-1, respi...</td>\n",
       "      <td>Blood was obtained by venipuncture from health...</td>\n",
       "      <td>To generate anti-idiotype antibodies to iglb12...</td>\n",
       "    </tr>\n",
       "    <tr>\n",
       "      <th>2</th>\n",
       "      <td>PMC4142007</td>\n",
       "      <td>The recognition of newly described infectious ...</td>\n",
       "      <td></td>\n",
       "      <td></td>\n",
       "    </tr>\n",
       "    <tr>\n",
       "      <th>3</th>\n",
       "      <td>PMC5508335</td>\n",
       "      <td>\\nE.H. Chapel1, B.A. Scansen2, K.E. Schober1, ...</td>\n",
       "      <td>\\nA.E.M. Gonçalves1, P. Itikawa1, G.T. Goldfed...</td>\n",
       "      <td>\\nR. de Oliveira Alves Carvalho1, A.P.A. Costa...</td>\n",
       "    </tr>\n",
       "    <tr>\n",
       "      <th>4</th>\n",
       "      <td>PMC4706628</td>\n",
       "      <td>There are more than 150 species of Candida but...</td>\n",
       "      <td></td>\n",
       "      <td></td>\n",
       "    </tr>\n",
       "  </tbody>\n",
       "</table>\n",
       "</div>"
      ],
      "text/plain": [
       "     paper_id                                          body_text  \\\n",
       "0  PMC4834006  In 2009, a novel type A influenza (H1N1) virus...   \n",
       "1  PMC6780997  There are many pathogens, such as HIV-1, respi...   \n",
       "2  PMC4142007  The recognition of newly described infectious ...   \n",
       "3  PMC5508335  \\nE.H. Chapel1, B.A. Scansen2, K.E. Schober1, ...   \n",
       "4  PMC4706628  There are more than 150 species of Candida but...   \n",
       "\n",
       "                                             methods  \\\n",
       "0  This study and the use of patient case files w...   \n",
       "1  Blood was obtained by venipuncture from health...   \n",
       "2                                                      \n",
       "3  \\nA.E.M. Gonçalves1, P. Itikawa1, G.T. Goldfed...   \n",
       "4                                                      \n",
       "\n",
       "                                             results  \n",
       "0  The demographic data, clinical data, and radio...  \n",
       "1  To generate anti-idiotype antibodies to iglb12...  \n",
       "2                                                     \n",
       "3  \\nR. de Oliveira Alves Carvalho1, A.P.A. Costa...  \n",
       "4                                                     "
      ]
     },
     "execution_count": 15,
     "metadata": {},
     "output_type": "execute_result"
    }
   ],
   "source": [
    "pmc_text = pd.DataFrame(dict_, columns=['paper_id', 'body_text', 'methods', 'results'])\n",
    "pmc_text.head()"
   ]
  },
  {
   "cell_type": "code",
   "execution_count": 16,
   "metadata": {},
   "outputs": [
    {
     "data": {
      "text/plain": [
       "(2212, 4)"
      ]
     },
     "execution_count": 16,
     "metadata": {},
     "output_type": "execute_result"
    }
   ],
   "source": [
    "pmc_text.shape"
   ]
  },
  {
   "cell_type": "markdown",
   "metadata": {},
   "source": [
    "Careful, some of the new texts are empty strings!"
   ]
  },
  {
   "cell_type": "code",
   "execution_count": 17,
   "metadata": {},
   "outputs": [
    {
     "data": {
      "text/html": [
       "<div>\n",
       "<style scoped>\n",
       "    .dataframe tbody tr th:only-of-type {\n",
       "        vertical-align: middle;\n",
       "    }\n",
       "\n",
       "    .dataframe tbody tr th {\n",
       "        vertical-align: top;\n",
       "    }\n",
       "\n",
       "    .dataframe thead th {\n",
       "        text-align: right;\n",
       "    }\n",
       "</style>\n",
       "<table border=\"1\" class=\"dataframe\">\n",
       "  <thead>\n",
       "    <tr style=\"text-align: right;\">\n",
       "      <th></th>\n",
       "      <th>paper_id</th>\n",
       "      <th>body_text</th>\n",
       "      <th>methods</th>\n",
       "      <th>results</th>\n",
       "    </tr>\n",
       "  </thead>\n",
       "  <tbody>\n",
       "    <tr>\n",
       "      <th>45</th>\n",
       "      <td>PMC6255065</td>\n",
       "      <td></td>\n",
       "      <td></td>\n",
       "      <td></td>\n",
       "    </tr>\n",
       "    <tr>\n",
       "      <th>57</th>\n",
       "      <td>PMC2186492</td>\n",
       "      <td></td>\n",
       "      <td></td>\n",
       "      <td></td>\n",
       "    </tr>\n",
       "    <tr>\n",
       "      <th>58</th>\n",
       "      <td>PMC2291173</td>\n",
       "      <td></td>\n",
       "      <td></td>\n",
       "      <td></td>\n",
       "    </tr>\n",
       "    <tr>\n",
       "      <th>70</th>\n",
       "      <td>PMC2289203</td>\n",
       "      <td></td>\n",
       "      <td></td>\n",
       "      <td></td>\n",
       "    </tr>\n",
       "    <tr>\n",
       "      <th>75</th>\n",
       "      <td>PMC2289628</td>\n",
       "      <td></td>\n",
       "      <td></td>\n",
       "      <td></td>\n",
       "    </tr>\n",
       "    <tr>\n",
       "      <th>...</th>\n",
       "      <td>...</td>\n",
       "      <td>...</td>\n",
       "      <td>...</td>\n",
       "      <td>...</td>\n",
       "    </tr>\n",
       "    <tr>\n",
       "      <th>2109</th>\n",
       "      <td>PMC2288887</td>\n",
       "      <td></td>\n",
       "      <td></td>\n",
       "      <td></td>\n",
       "    </tr>\n",
       "    <tr>\n",
       "      <th>2128</th>\n",
       "      <td>PMC2121027</td>\n",
       "      <td></td>\n",
       "      <td></td>\n",
       "      <td></td>\n",
       "    </tr>\n",
       "    <tr>\n",
       "      <th>2129</th>\n",
       "      <td>PMC7088696</td>\n",
       "      <td></td>\n",
       "      <td></td>\n",
       "      <td></td>\n",
       "    </tr>\n",
       "    <tr>\n",
       "      <th>2186</th>\n",
       "      <td>PMC6808672</td>\n",
       "      <td></td>\n",
       "      <td></td>\n",
       "      <td></td>\n",
       "    </tr>\n",
       "    <tr>\n",
       "      <th>2208</th>\n",
       "      <td>PMC5630716</td>\n",
       "      <td></td>\n",
       "      <td></td>\n",
       "      <td></td>\n",
       "    </tr>\n",
       "  </tbody>\n",
       "</table>\n",
       "<p>156 rows × 4 columns</p>\n",
       "</div>"
      ],
      "text/plain": [
       "        paper_id body_text methods results\n",
       "45    PMC6255065                          \n",
       "57    PMC2186492                          \n",
       "58    PMC2291173                          \n",
       "70    PMC2289203                          \n",
       "75    PMC2289628                          \n",
       "...          ...       ...     ...     ...\n",
       "2109  PMC2288887                          \n",
       "2128  PMC2121027                          \n",
       "2129  PMC7088696                          \n",
       "2186  PMC6808672                          \n",
       "2208  PMC5630716                          \n",
       "\n",
       "[156 rows x 4 columns]"
      ]
     },
     "execution_count": 17,
     "metadata": {},
     "output_type": "execute_result"
    }
   ],
   "source": [
    "pmc_text[pmc_text.body_text == '']"
   ]
  },
  {
   "cell_type": "code",
   "execution_count": 18,
   "metadata": {},
   "outputs": [],
   "source": [
    "pmc_text = pmc_text[pmc_text.body_text != '']"
   ]
  },
  {
   "cell_type": "code",
   "execution_count": 19,
   "metadata": {},
   "outputs": [
    {
     "data": {
      "text/plain": [
       "(2056, 4)"
      ]
     },
     "execution_count": 19,
     "metadata": {},
     "output_type": "execute_result"
    }
   ],
   "source": [
    "pmc_text.shape"
   ]
  },
  {
   "cell_type": "code",
   "execution_count": 20,
   "metadata": {},
   "outputs": [
    {
     "data": {
      "text/html": [
       "<div>\n",
       "<style scoped>\n",
       "    .dataframe tbody tr th:only-of-type {\n",
       "        vertical-align: middle;\n",
       "    }\n",
       "\n",
       "    .dataframe tbody tr th {\n",
       "        vertical-align: top;\n",
       "    }\n",
       "\n",
       "    .dataframe thead th {\n",
       "        text-align: right;\n",
       "    }\n",
       "</style>\n",
       "<table border=\"1\" class=\"dataframe\">\n",
       "  <thead>\n",
       "    <tr style=\"text-align: right;\">\n",
       "      <th></th>\n",
       "      <th>paper_id</th>\n",
       "      <th>abstract_x</th>\n",
       "      <th>body_text</th>\n",
       "      <th>methods</th>\n",
       "      <th>results</th>\n",
       "      <th>cord_uid</th>\n",
       "      <th>source_x</th>\n",
       "      <th>title</th>\n",
       "      <th>doi</th>\n",
       "      <th>pmcid</th>\n",
       "      <th>...</th>\n",
       "      <th>abstract_y</th>\n",
       "      <th>publish_time</th>\n",
       "      <th>authors</th>\n",
       "      <th>journal</th>\n",
       "      <th>Microsoft Academic Paper ID</th>\n",
       "      <th>WHO #Covidence</th>\n",
       "      <th>has_pdf_parse</th>\n",
       "      <th>has_pmc_xml_parse</th>\n",
       "      <th>full_text_file</th>\n",
       "      <th>url</th>\n",
       "    </tr>\n",
       "  </thead>\n",
       "  <tbody>\n",
       "    <tr>\n",
       "      <th>0</th>\n",
       "      <td>b2f67d533f2749807f2537f3775b39da3b186051</td>\n",
       "      <td></td>\n",
       "      <td>There is a disproportionate number of individu...</td>\n",
       "      <td></td>\n",
       "      <td></td>\n",
       "      <td>NaN</td>\n",
       "      <td>NaN</td>\n",
       "      <td>NaN</td>\n",
       "      <td>NaN</td>\n",
       "      <td>NaN</td>\n",
       "      <td>...</td>\n",
       "      <td>NaN</td>\n",
       "      <td>NaN</td>\n",
       "      <td>NaN</td>\n",
       "      <td>NaN</td>\n",
       "      <td>NaN</td>\n",
       "      <td>NaN</td>\n",
       "      <td>NaN</td>\n",
       "      <td>NaN</td>\n",
       "      <td>NaN</td>\n",
       "      <td>NaN</td>\n",
       "    </tr>\n",
       "    <tr>\n",
       "      <th>1</th>\n",
       "      <td>ad98979eada6e333a276d39efdce21779d538625</td>\n",
       "      <td>While noncanonic xanthine nucleotides XMP/dXMP...</td>\n",
       "      <td>The concentration and ratio of purine nucleoti...</td>\n",
       "      <td>Guanine-based phosphonate (0.5 mmol) was disso...</td>\n",
       "      <td></td>\n",
       "      <td>hdpanetr</td>\n",
       "      <td>PMC</td>\n",
       "      <td>Xanthine-based acyclic nucleoside phosphonates...</td>\n",
       "      <td>10.1177/2040206618813050</td>\n",
       "      <td>PMC6287304</td>\n",
       "      <td>...</td>\n",
       "      <td>While noncanonic xanthine nucleotides XMP/dXMP...</td>\n",
       "      <td>2018-11-29</td>\n",
       "      <td>Baszczyňski, Ondřej; Kaiser, Martin Maxmilian;...</td>\n",
       "      <td>Antivir Chem Chemother</td>\n",
       "      <td>NaN</td>\n",
       "      <td>NaN</td>\n",
       "      <td>True</td>\n",
       "      <td>True</td>\n",
       "      <td>noncomm_use_subset</td>\n",
       "      <td>https://www.ncbi.nlm.nih.gov/pmc/articles/PMC6...</td>\n",
       "    </tr>\n",
       "    <tr>\n",
       "      <th>2</th>\n",
       "      <td>464f7d3a460eb51dbc25bd12639b22079a73f85a</td>\n",
       "      <td>Long non-coding RNAs (lncRNAs) are found not o...</td>\n",
       "      <td>Viruses are important infectious agents that i...</td>\n",
       "      <td></td>\n",
       "      <td></td>\n",
       "      <td>NaN</td>\n",
       "      <td>NaN</td>\n",
       "      <td>NaN</td>\n",
       "      <td>NaN</td>\n",
       "      <td>NaN</td>\n",
       "      <td>...</td>\n",
       "      <td>NaN</td>\n",
       "      <td>NaN</td>\n",
       "      <td>NaN</td>\n",
       "      <td>NaN</td>\n",
       "      <td>NaN</td>\n",
       "      <td>NaN</td>\n",
       "      <td>NaN</td>\n",
       "      <td>NaN</td>\n",
       "      <td>NaN</td>\n",
       "      <td>NaN</td>\n",
       "    </tr>\n",
       "    <tr>\n",
       "      <th>3</th>\n",
       "      <td>c436139975d97ef929b5d8452595de40bda0c11c</td>\n",
       "      <td>on behalf of the IRC002 Study Team Summary Bac...</td>\n",
       "      <td>Pandemic influenza remains a global health thr...</td>\n",
       "      <td>This was a randomized, open-label, multicenter...</td>\n",
       "      <td>Between January 2011 and April 2015, a total o...</td>\n",
       "      <td>NaN</td>\n",
       "      <td>NaN</td>\n",
       "      <td>NaN</td>\n",
       "      <td>NaN</td>\n",
       "      <td>NaN</td>\n",
       "      <td>...</td>\n",
       "      <td>NaN</td>\n",
       "      <td>NaN</td>\n",
       "      <td>NaN</td>\n",
       "      <td>NaN</td>\n",
       "      <td>NaN</td>\n",
       "      <td>NaN</td>\n",
       "      <td>NaN</td>\n",
       "      <td>NaN</td>\n",
       "      <td>NaN</td>\n",
       "      <td>NaN</td>\n",
       "    </tr>\n",
       "    <tr>\n",
       "      <th>4</th>\n",
       "      <td>634128ea7d7736750e1c3cd0a48bb37843d06dac</td>\n",
       "      <td>The majority of emerging zoonoses originate in...</td>\n",
       "      <td>A total of 12,793 consensus PCR assays were pe...</td>\n",
       "      <td>Samples and PCR screening. Samples (n ϭ 1,897)...</td>\n",
       "      <td></td>\n",
       "      <td>6lobyyj4</td>\n",
       "      <td>PMC</td>\n",
       "      <td>A Strategy To Estimate Unknown Viral Diversity...</td>\n",
       "      <td>10.1128/mbio.00598-13</td>\n",
       "      <td>PMC3760253</td>\n",
       "      <td>...</td>\n",
       "      <td>The majority of emerging zoonoses originate in...</td>\n",
       "      <td>2013-09-03</td>\n",
       "      <td>Anthony, Simon J.; Epstein, Jonathan H.; Murra...</td>\n",
       "      <td>mBio</td>\n",
       "      <td>NaN</td>\n",
       "      <td>NaN</td>\n",
       "      <td>True</td>\n",
       "      <td>True</td>\n",
       "      <td>noncomm_use_subset</td>\n",
       "      <td>https://www.ncbi.nlm.nih.gov/pmc/articles/PMC3...</td>\n",
       "    </tr>\n",
       "  </tbody>\n",
       "</table>\n",
       "<p>5 rows × 22 columns</p>\n",
       "</div>"
      ],
      "text/plain": [
       "                                   paper_id  \\\n",
       "0  b2f67d533f2749807f2537f3775b39da3b186051   \n",
       "1  ad98979eada6e333a276d39efdce21779d538625   \n",
       "2  464f7d3a460eb51dbc25bd12639b22079a73f85a   \n",
       "3  c436139975d97ef929b5d8452595de40bda0c11c   \n",
       "4  634128ea7d7736750e1c3cd0a48bb37843d06dac   \n",
       "\n",
       "                                          abstract_x  \\\n",
       "0                                                      \n",
       "1  While noncanonic xanthine nucleotides XMP/dXMP...   \n",
       "2  Long non-coding RNAs (lncRNAs) are found not o...   \n",
       "3  on behalf of the IRC002 Study Team Summary Bac...   \n",
       "4  The majority of emerging zoonoses originate in...   \n",
       "\n",
       "                                           body_text  \\\n",
       "0  There is a disproportionate number of individu...   \n",
       "1  The concentration and ratio of purine nucleoti...   \n",
       "2  Viruses are important infectious agents that i...   \n",
       "3  Pandemic influenza remains a global health thr...   \n",
       "4  A total of 12,793 consensus PCR assays were pe...   \n",
       "\n",
       "                                             methods  \\\n",
       "0                                                      \n",
       "1  Guanine-based phosphonate (0.5 mmol) was disso...   \n",
       "2                                                      \n",
       "3  This was a randomized, open-label, multicenter...   \n",
       "4  Samples and PCR screening. Samples (n ϭ 1,897)...   \n",
       "\n",
       "                                             results  cord_uid source_x  \\\n",
       "0                                                          NaN      NaN   \n",
       "1                                                     hdpanetr      PMC   \n",
       "2                                                          NaN      NaN   \n",
       "3  Between January 2011 and April 2015, a total o...       NaN      NaN   \n",
       "4                                                     6lobyyj4      PMC   \n",
       "\n",
       "                                               title  \\\n",
       "0                                                NaN   \n",
       "1  Xanthine-based acyclic nucleoside phosphonates...   \n",
       "2                                                NaN   \n",
       "3                                                NaN   \n",
       "4  A Strategy To Estimate Unknown Viral Diversity...   \n",
       "\n",
       "                        doi       pmcid  ...  \\\n",
       "0                       NaN         NaN  ...   \n",
       "1  10.1177/2040206618813050  PMC6287304  ...   \n",
       "2                       NaN         NaN  ...   \n",
       "3                       NaN         NaN  ...   \n",
       "4     10.1128/mbio.00598-13  PMC3760253  ...   \n",
       "\n",
       "                                          abstract_y publish_time  \\\n",
       "0                                                NaN          NaN   \n",
       "1  While noncanonic xanthine nucleotides XMP/dXMP...   2018-11-29   \n",
       "2                                                NaN          NaN   \n",
       "3                                                NaN          NaN   \n",
       "4  The majority of emerging zoonoses originate in...   2013-09-03   \n",
       "\n",
       "                                             authors                 journal  \\\n",
       "0                                                NaN                     NaN   \n",
       "1  Baszczyňski, Ondřej; Kaiser, Martin Maxmilian;...  Antivir Chem Chemother   \n",
       "2                                                NaN                     NaN   \n",
       "3                                                NaN                     NaN   \n",
       "4  Anthony, Simon J.; Epstein, Jonathan H.; Murra...                    mBio   \n",
       "\n",
       "  Microsoft Academic Paper ID WHO #Covidence has_pdf_parse has_pmc_xml_parse  \\\n",
       "0                         NaN            NaN           NaN               NaN   \n",
       "1                         NaN            NaN          True              True   \n",
       "2                         NaN            NaN           NaN               NaN   \n",
       "3                         NaN            NaN           NaN               NaN   \n",
       "4                         NaN            NaN          True              True   \n",
       "\n",
       "       full_text_file                                                url  \n",
       "0                 NaN                                                NaN  \n",
       "1  noncomm_use_subset  https://www.ncbi.nlm.nih.gov/pmc/articles/PMC6...  \n",
       "2                 NaN                                                NaN  \n",
       "3                 NaN                                                NaN  \n",
       "4  noncomm_use_subset  https://www.ncbi.nlm.nih.gov/pmc/articles/PMC3...  \n",
       "\n",
       "[5 rows x 22 columns]"
      ]
     },
     "execution_count": 20,
     "metadata": {},
     "output_type": "execute_result"
    }
   ],
   "source": [
    "df.head()"
   ]
  },
  {
   "cell_type": "code",
   "execution_count": 21,
   "metadata": {},
   "outputs": [],
   "source": [
    "df = pd.merge(df, pmc_text, left_on='pmcid', right_on='paper_id', how='left')"
   ]
  },
  {
   "cell_type": "code",
   "execution_count": 22,
   "metadata": {},
   "outputs": [
    {
     "data": {
      "text/html": [
       "<div>\n",
       "<style scoped>\n",
       "    .dataframe tbody tr th:only-of-type {\n",
       "        vertical-align: middle;\n",
       "    }\n",
       "\n",
       "    .dataframe tbody tr th {\n",
       "        vertical-align: top;\n",
       "    }\n",
       "\n",
       "    .dataframe thead th {\n",
       "        text-align: right;\n",
       "    }\n",
       "</style>\n",
       "<table border=\"1\" class=\"dataframe\">\n",
       "  <thead>\n",
       "    <tr style=\"text-align: right;\">\n",
       "      <th></th>\n",
       "      <th>paper_id_x</th>\n",
       "      <th>abstract_x</th>\n",
       "      <th>body_text_x</th>\n",
       "      <th>methods_x</th>\n",
       "      <th>results_x</th>\n",
       "      <th>cord_uid</th>\n",
       "      <th>source_x</th>\n",
       "      <th>title</th>\n",
       "      <th>doi</th>\n",
       "      <th>pmcid</th>\n",
       "      <th>...</th>\n",
       "      <th>Microsoft Academic Paper ID</th>\n",
       "      <th>WHO #Covidence</th>\n",
       "      <th>has_pdf_parse</th>\n",
       "      <th>has_pmc_xml_parse</th>\n",
       "      <th>full_text_file</th>\n",
       "      <th>url</th>\n",
       "      <th>paper_id_y</th>\n",
       "      <th>body_text_y</th>\n",
       "      <th>methods_y</th>\n",
       "      <th>results_y</th>\n",
       "    </tr>\n",
       "  </thead>\n",
       "  <tbody>\n",
       "    <tr>\n",
       "      <th>0</th>\n",
       "      <td>b2f67d533f2749807f2537f3775b39da3b186051</td>\n",
       "      <td></td>\n",
       "      <td>There is a disproportionate number of individu...</td>\n",
       "      <td></td>\n",
       "      <td></td>\n",
       "      <td>NaN</td>\n",
       "      <td>NaN</td>\n",
       "      <td>NaN</td>\n",
       "      <td>NaN</td>\n",
       "      <td>NaN</td>\n",
       "      <td>...</td>\n",
       "      <td>NaN</td>\n",
       "      <td>NaN</td>\n",
       "      <td>NaN</td>\n",
       "      <td>NaN</td>\n",
       "      <td>NaN</td>\n",
       "      <td>NaN</td>\n",
       "      <td>NaN</td>\n",
       "      <td>NaN</td>\n",
       "      <td>NaN</td>\n",
       "      <td>NaN</td>\n",
       "    </tr>\n",
       "    <tr>\n",
       "      <th>1</th>\n",
       "      <td>ad98979eada6e333a276d39efdce21779d538625</td>\n",
       "      <td>While noncanonic xanthine nucleotides XMP/dXMP...</td>\n",
       "      <td>The concentration and ratio of purine nucleoti...</td>\n",
       "      <td>Guanine-based phosphonate (0.5 mmol) was disso...</td>\n",
       "      <td></td>\n",
       "      <td>hdpanetr</td>\n",
       "      <td>PMC</td>\n",
       "      <td>Xanthine-based acyclic nucleoside phosphonates...</td>\n",
       "      <td>10.1177/2040206618813050</td>\n",
       "      <td>PMC6287304</td>\n",
       "      <td>...</td>\n",
       "      <td>NaN</td>\n",
       "      <td>NaN</td>\n",
       "      <td>True</td>\n",
       "      <td>True</td>\n",
       "      <td>noncomm_use_subset</td>\n",
       "      <td>https://www.ncbi.nlm.nih.gov/pmc/articles/PMC6...</td>\n",
       "      <td>PMC6287304</td>\n",
       "      <td>The concentration and ratio of purine nucleoti...</td>\n",
       "      <td>Starting compounds and other chemicals were pu...</td>\n",
       "      <td></td>\n",
       "    </tr>\n",
       "    <tr>\n",
       "      <th>2</th>\n",
       "      <td>464f7d3a460eb51dbc25bd12639b22079a73f85a</td>\n",
       "      <td>Long non-coding RNAs (lncRNAs) are found not o...</td>\n",
       "      <td>Viruses are important infectious agents that i...</td>\n",
       "      <td></td>\n",
       "      <td></td>\n",
       "      <td>NaN</td>\n",
       "      <td>NaN</td>\n",
       "      <td>NaN</td>\n",
       "      <td>NaN</td>\n",
       "      <td>NaN</td>\n",
       "      <td>...</td>\n",
       "      <td>NaN</td>\n",
       "      <td>NaN</td>\n",
       "      <td>NaN</td>\n",
       "      <td>NaN</td>\n",
       "      <td>NaN</td>\n",
       "      <td>NaN</td>\n",
       "      <td>NaN</td>\n",
       "      <td>NaN</td>\n",
       "      <td>NaN</td>\n",
       "      <td>NaN</td>\n",
       "    </tr>\n",
       "  </tbody>\n",
       "</table>\n",
       "<p>3 rows × 26 columns</p>\n",
       "</div>"
      ],
      "text/plain": [
       "                                 paper_id_x  \\\n",
       "0  b2f67d533f2749807f2537f3775b39da3b186051   \n",
       "1  ad98979eada6e333a276d39efdce21779d538625   \n",
       "2  464f7d3a460eb51dbc25bd12639b22079a73f85a   \n",
       "\n",
       "                                          abstract_x  \\\n",
       "0                                                      \n",
       "1  While noncanonic xanthine nucleotides XMP/dXMP...   \n",
       "2  Long non-coding RNAs (lncRNAs) are found not o...   \n",
       "\n",
       "                                         body_text_x  \\\n",
       "0  There is a disproportionate number of individu...   \n",
       "1  The concentration and ratio of purine nucleoti...   \n",
       "2  Viruses are important infectious agents that i...   \n",
       "\n",
       "                                           methods_x results_x  cord_uid  \\\n",
       "0                                                                    NaN   \n",
       "1  Guanine-based phosphonate (0.5 mmol) was disso...            hdpanetr   \n",
       "2                                                                    NaN   \n",
       "\n",
       "  source_x                                              title  \\\n",
       "0      NaN                                                NaN   \n",
       "1      PMC  Xanthine-based acyclic nucleoside phosphonates...   \n",
       "2      NaN                                                NaN   \n",
       "\n",
       "                        doi       pmcid  ... Microsoft Academic Paper ID  \\\n",
       "0                       NaN         NaN  ...                         NaN   \n",
       "1  10.1177/2040206618813050  PMC6287304  ...                         NaN   \n",
       "2                       NaN         NaN  ...                         NaN   \n",
       "\n",
       "  WHO #Covidence has_pdf_parse has_pmc_xml_parse      full_text_file  \\\n",
       "0            NaN           NaN               NaN                 NaN   \n",
       "1            NaN          True              True  noncomm_use_subset   \n",
       "2            NaN           NaN               NaN                 NaN   \n",
       "\n",
       "                                                 url  paper_id_y  \\\n",
       "0                                                NaN         NaN   \n",
       "1  https://www.ncbi.nlm.nih.gov/pmc/articles/PMC6...  PMC6287304   \n",
       "2                                                NaN         NaN   \n",
       "\n",
       "                                         body_text_y  \\\n",
       "0                                                NaN   \n",
       "1  The concentration and ratio of purine nucleoti...   \n",
       "2                                                NaN   \n",
       "\n",
       "                                           methods_y results_y  \n",
       "0                                                NaN       NaN  \n",
       "1  Starting compounds and other chemicals were pu...            \n",
       "2                                                NaN       NaN  \n",
       "\n",
       "[3 rows x 26 columns]"
      ]
     },
     "execution_count": 22,
     "metadata": {},
     "output_type": "execute_result"
    }
   ],
   "source": [
    "df.head(3)"
   ]
  },
  {
   "cell_type": "code",
   "execution_count": 23,
   "metadata": {},
   "outputs": [
    {
     "data": {
      "text/plain": [
       "Index(['paper_id_x', 'abstract_x', 'body_text_x', 'methods_x', 'results_x',\n",
       "       'cord_uid', 'source_x', 'title', 'doi', 'pmcid', 'pubmed_id', 'license',\n",
       "       'abstract_y', 'publish_time', 'authors', 'journal',\n",
       "       'Microsoft Academic Paper ID', 'WHO #Covidence', 'has_pdf_parse',\n",
       "       'has_pmc_xml_parse', 'full_text_file', 'url', 'paper_id_y',\n",
       "       'body_text_y', 'methods_y', 'results_y'],\n",
       "      dtype='object')"
      ]
     },
     "execution_count": 23,
     "metadata": {},
     "output_type": "execute_result"
    }
   ],
   "source": [
    "df.columns"
   ]
  },
  {
   "cell_type": "markdown",
   "metadata": {},
   "source": [
    "# Exploration/Cleaning"
   ]
  },
  {
   "cell_type": "markdown",
   "metadata": {},
   "source": [
    "### Different Abstract in Metadata and JSON files"
   ]
  },
  {
   "cell_type": "markdown",
   "metadata": {},
   "source": [
    "abstract_x from json, abstract_y from metadata"
   ]
  },
  {
   "cell_type": "code",
   "execution_count": 24,
   "metadata": {},
   "outputs": [
    {
     "data": {
      "text/plain": [
       "(2212, 26)"
      ]
     },
     "execution_count": 24,
     "metadata": {},
     "output_type": "execute_result"
    }
   ],
   "source": [
    "df[df.abstract_x != df.abstract_y].shape"
   ]
  },
  {
   "cell_type": "code",
   "execution_count": 25,
   "metadata": {},
   "outputs": [
    {
     "data": {
      "text/html": [
       "<div>\n",
       "<style scoped>\n",
       "    .dataframe tbody tr th:only-of-type {\n",
       "        vertical-align: middle;\n",
       "    }\n",
       "\n",
       "    .dataframe tbody tr th {\n",
       "        vertical-align: top;\n",
       "    }\n",
       "\n",
       "    .dataframe thead th {\n",
       "        text-align: right;\n",
       "    }\n",
       "</style>\n",
       "<table border=\"1\" class=\"dataframe\">\n",
       "  <thead>\n",
       "    <tr style=\"text-align: right;\">\n",
       "      <th></th>\n",
       "      <th>abstract_x</th>\n",
       "      <th>abstract_y</th>\n",
       "      <th>url</th>\n",
       "    </tr>\n",
       "  </thead>\n",
       "  <tbody>\n",
       "    <tr>\n",
       "      <th>2456</th>\n",
       "      <td>Abbreviations used in this paper: CSF, cytosta...</td>\n",
       "      <td>How cells shape and remodel organelles in resp...</td>\n",
       "      <td>https://www.ncbi.nlm.nih.gov/pmc/articles/PMC4...</td>\n",
       "    </tr>\n",
       "    <tr>\n",
       "      <th>2457</th>\n",
       "      <td></td>\n",
       "      <td>Introduction: The use of antibiotics is based ...</td>\n",
       "      <td>https://www.ncbi.nlm.nih.gov/pmc/articles/PMC6...</td>\n",
       "    </tr>\n",
       "    <tr>\n",
       "      <th>2458</th>\n",
       "      <td>Retrovirus Moloney murine leukemia virus (M-Mu...</td>\n",
       "      <td>Retrovirus Moloney murine leukemia virus (M-Mu...</td>\n",
       "      <td>https://www.ncbi.nlm.nih.gov/pmc/articles/PMC2...</td>\n",
       "    </tr>\n",
       "    <tr>\n",
       "      <th>2459</th>\n",
       "      <td>Web-based social media is increasingly being u...</td>\n",
       "      <td>Web-based social media is increasingly being u...</td>\n",
       "      <td>https://www.ncbi.nlm.nih.gov/pmc/articles/PMC4...</td>\n",
       "    </tr>\n",
       "    <tr>\n",
       "      <th>2460</th>\n",
       "      <td></td>\n",
       "      <td>INTRODUCTION: Kawasaki disease (KD) most commo...</td>\n",
       "      <td>https://www.ncbi.nlm.nih.gov/pmc/articles/PMC4...</td>\n",
       "    </tr>\n",
       "    <tr>\n",
       "      <th>2461</th>\n",
       "      <td>All positive-strand RNA viruses induce membran...</td>\n",
       "      <td>All positive-strand RNA viruses induce membran...</td>\n",
       "      <td>https://www.ncbi.nlm.nih.gov/pmc/articles/PMC3...</td>\n",
       "    </tr>\n",
       "    <tr>\n",
       "      <th>2462</th>\n",
       "      <td>J Jo ou ur rn na al l o of f C Ca an nc ce er ...</td>\n",
       "      <td>The advancement of high throughput omic techno...</td>\n",
       "      <td>https://www.ncbi.nlm.nih.gov/pmc/articles/PMC4...</td>\n",
       "    </tr>\n",
       "    <tr>\n",
       "      <th>2463</th>\n",
       "      <td>The One Health initiative is increasingly beco...</td>\n",
       "      <td>The One Health initiative is increasingly beco...</td>\n",
       "      <td>https://www.ncbi.nlm.nih.gov/pmc/articles/PMC5...</td>\n",
       "    </tr>\n",
       "    <tr>\n",
       "      <th>2464</th>\n",
       "      <td>The Feline coronavirus (FCoV) can lead to Feli...</td>\n",
       "      <td>The Feline coronavirus (FCoV) can lead to Feli...</td>\n",
       "      <td>https://www.ncbi.nlm.nih.gov/pmc/articles/PMC6...</td>\n",
       "    </tr>\n",
       "    <tr>\n",
       "      <th>2465</th>\n",
       "      <td>With over 4,500 deaths and counting, and new c...</td>\n",
       "      <td>With over 4,500 deaths and counting, and new c...</td>\n",
       "      <td>https://www.ncbi.nlm.nih.gov/pmc/articles/PMC4...</td>\n",
       "    </tr>\n",
       "  </tbody>\n",
       "</table>\n",
       "</div>"
      ],
      "text/plain": [
       "                                             abstract_x  \\\n",
       "2456  Abbreviations used in this paper: CSF, cytosta...   \n",
       "2457                                                      \n",
       "2458  Retrovirus Moloney murine leukemia virus (M-Mu...   \n",
       "2459  Web-based social media is increasingly being u...   \n",
       "2460                                                      \n",
       "2461  All positive-strand RNA viruses induce membran...   \n",
       "2462  J Jo ou ur rn na al l o of f C Ca an nc ce er ...   \n",
       "2463  The One Health initiative is increasingly beco...   \n",
       "2464  The Feline coronavirus (FCoV) can lead to Feli...   \n",
       "2465  With over 4,500 deaths and counting, and new c...   \n",
       "\n",
       "                                             abstract_y  \\\n",
       "2456  How cells shape and remodel organelles in resp...   \n",
       "2457  Introduction: The use of antibiotics is based ...   \n",
       "2458  Retrovirus Moloney murine leukemia virus (M-Mu...   \n",
       "2459  Web-based social media is increasingly being u...   \n",
       "2460  INTRODUCTION: Kawasaki disease (KD) most commo...   \n",
       "2461  All positive-strand RNA viruses induce membran...   \n",
       "2462  The advancement of high throughput omic techno...   \n",
       "2463  The One Health initiative is increasingly beco...   \n",
       "2464  The Feline coronavirus (FCoV) can lead to Feli...   \n",
       "2465  With over 4,500 deaths and counting, and new c...   \n",
       "\n",
       "                                                    url  \n",
       "2456  https://www.ncbi.nlm.nih.gov/pmc/articles/PMC4...  \n",
       "2457  https://www.ncbi.nlm.nih.gov/pmc/articles/PMC6...  \n",
       "2458  https://www.ncbi.nlm.nih.gov/pmc/articles/PMC2...  \n",
       "2459  https://www.ncbi.nlm.nih.gov/pmc/articles/PMC4...  \n",
       "2460  https://www.ncbi.nlm.nih.gov/pmc/articles/PMC4...  \n",
       "2461  https://www.ncbi.nlm.nih.gov/pmc/articles/PMC3...  \n",
       "2462  https://www.ncbi.nlm.nih.gov/pmc/articles/PMC4...  \n",
       "2463  https://www.ncbi.nlm.nih.gov/pmc/articles/PMC5...  \n",
       "2464  https://www.ncbi.nlm.nih.gov/pmc/articles/PMC6...  \n",
       "2465  https://www.ncbi.nlm.nih.gov/pmc/articles/PMC4...  "
      ]
     },
     "execution_count": 25,
     "metadata": {},
     "output_type": "execute_result"
    }
   ],
   "source": [
    "df[df.abstract_x != df.abstract_y][['abstract_x', 'abstract_y', 'url']].tail(10)"
   ]
  },
  {
   "cell_type": "code",
   "execution_count": 26,
   "metadata": {},
   "outputs": [
    {
     "data": {
      "text/plain": [
       "(0, 689)"
      ]
     },
     "execution_count": 26,
     "metadata": {},
     "output_type": "execute_result"
    }
   ],
   "source": [
    "df.abstract_x.isnull().sum(), (df.abstract_x =='').sum() # missing abstracts in json files"
   ]
  },
  {
   "cell_type": "code",
   "execution_count": 27,
   "metadata": {},
   "outputs": [
    {
     "data": {
      "text/plain": [
       "(799, 0)"
      ]
     },
     "execution_count": 27,
     "metadata": {},
     "output_type": "execute_result"
    }
   ],
   "source": [
    "df.abstract_y.isnull().sum(), (df.abstract_y=='').sum() # missing abstracts in metadata"
   ]
  },
  {
   "cell_type": "markdown",
   "metadata": {},
   "source": [
    "Since the abstracts from the metadata seem more reliable we generally use these, but fill the missing values with the abstract from the extracted values from the JSON file."
   ]
  },
  {
   "cell_type": "code",
   "execution_count": 28,
   "metadata": {},
   "outputs": [],
   "source": [
    "df.loc[df.abstract_y.isnull() & (df.abstract_x != ''), 'abstract_y'] = df[(df.abstract_y.isnull()) & (df.abstract_x != '')].abstract_x"
   ]
  },
  {
   "cell_type": "code",
   "execution_count": 29,
   "metadata": {},
   "outputs": [
    {
     "data": {
      "text/plain": [
       "318"
      ]
     },
     "execution_count": 29,
     "metadata": {},
     "output_type": "execute_result"
    }
   ],
   "source": [
    "df.abstract_y.isnull().sum()"
   ]
  },
  {
   "cell_type": "markdown",
   "metadata": {},
   "source": [
    "the remaining missing values are also empty in the json files"
   ]
  },
  {
   "cell_type": "code",
   "execution_count": 30,
   "metadata": {},
   "outputs": [
    {
     "data": {
      "text/plain": [
       "0"
      ]
     },
     "execution_count": 30,
     "metadata": {},
     "output_type": "execute_result"
    }
   ],
   "source": [
    "(df.abstract_y.isnull() & (df.abstract_x!='')).sum()"
   ]
  },
  {
   "cell_type": "code",
   "execution_count": 31,
   "metadata": {},
   "outputs": [],
   "source": [
    "df.rename(columns = {'abstract_y': 'abstract'}, inplace=True)\n",
    "df.drop('abstract_x', axis=1, inplace=True)"
   ]
  },
  {
   "cell_type": "code",
   "execution_count": 32,
   "metadata": {},
   "outputs": [
    {
     "data": {
      "text/plain": [
       "Index(['paper_id_x', 'body_text_x', 'methods_x', 'results_x', 'cord_uid',\n",
       "       'source_x', 'title', 'doi', 'pmcid', 'pubmed_id', 'license', 'abstract',\n",
       "       'publish_time', 'authors', 'journal', 'Microsoft Academic Paper ID',\n",
       "       'WHO #Covidence', 'has_pdf_parse', 'has_pmc_xml_parse',\n",
       "       'full_text_file', 'url', 'paper_id_y', 'body_text_y', 'methods_y',\n",
       "       'results_y'],\n",
       "      dtype='object')"
      ]
     },
     "execution_count": 32,
     "metadata": {},
     "output_type": "execute_result"
    }
   ],
   "source": [
    "df.columns"
   ]
  },
  {
   "cell_type": "markdown",
   "metadata": {},
   "source": [
    "We still have to compare the text body from pdf and pmc files."
   ]
  },
  {
   "cell_type": "code",
   "execution_count": 33,
   "metadata": {},
   "outputs": [
    {
     "data": {
      "text/plain": [
       "(2466, 25)"
      ]
     },
     "execution_count": 33,
     "metadata": {},
     "output_type": "execute_result"
    }
   ],
   "source": [
    "df.shape"
   ]
  },
  {
   "cell_type": "markdown",
   "metadata": {},
   "source": [
    "# Quick comparison of both texts"
   ]
  },
  {
   "cell_type": "code",
   "execution_count": 34,
   "metadata": {},
   "outputs": [
    {
     "data": {
      "text/plain": [
       "Index(['paper_id_x', 'body_text_x', 'methods_x', 'results_x', 'cord_uid',\n",
       "       'source_x', 'title', 'doi', 'pmcid', 'pubmed_id', 'license', 'abstract',\n",
       "       'publish_time', 'authors', 'journal', 'Microsoft Academic Paper ID',\n",
       "       'WHO #Covidence', 'has_pdf_parse', 'has_pmc_xml_parse',\n",
       "       'full_text_file', 'url', 'paper_id_y', 'body_text_y', 'methods_y',\n",
       "       'results_y'],\n",
       "      dtype='object')"
      ]
     },
     "execution_count": 34,
     "metadata": {},
     "output_type": "execute_result"
    }
   ],
   "source": [
    "df.columns"
   ]
  },
  {
   "cell_type": "code",
   "execution_count": 35,
   "metadata": {},
   "outputs": [
    {
     "data": {
      "text/html": [
       "<div>\n",
       "<style scoped>\n",
       "    .dataframe tbody tr th:only-of-type {\n",
       "        vertical-align: middle;\n",
       "    }\n",
       "\n",
       "    .dataframe tbody tr th {\n",
       "        vertical-align: top;\n",
       "    }\n",
       "\n",
       "    .dataframe thead th {\n",
       "        text-align: right;\n",
       "    }\n",
       "</style>\n",
       "<table border=\"1\" class=\"dataframe\">\n",
       "  <thead>\n",
       "    <tr style=\"text-align: right;\">\n",
       "      <th></th>\n",
       "      <th>methods_x</th>\n",
       "      <th>methods_y</th>\n",
       "      <th>url</th>\n",
       "    </tr>\n",
       "  </thead>\n",
       "  <tbody>\n",
       "    <tr>\n",
       "      <th>1</th>\n",
       "      <td>Guanine-based phosphonate (0.5 mmol) was disso...</td>\n",
       "      <td>Starting compounds and other chemicals were pu...</td>\n",
       "      <td>https://www.ncbi.nlm.nih.gov/pmc/articles/PMC6...</td>\n",
       "    </tr>\n",
       "    <tr>\n",
       "      <th>4</th>\n",
       "      <td>Samples and PCR screening. Samples (n ϭ 1,897)...</td>\n",
       "      <td>Samples (n = 1,897) were collected from appare...</td>\n",
       "      <td>https://www.ncbi.nlm.nih.gov/pmc/articles/PMC3...</td>\n",
       "    </tr>\n",
       "    <tr>\n",
       "      <th>5</th>\n",
       "      <td></td>\n",
       "      <td></td>\n",
       "      <td>https://www.ncbi.nlm.nih.gov/pmc/articles/PMC5...</td>\n",
       "    </tr>\n",
       "    <tr>\n",
       "      <th>7</th>\n",
       "      <td></td>\n",
       "      <td>Calu3 cells were utilized as previously descri...</td>\n",
       "      <td>https://www.ncbi.nlm.nih.gov/pmc/articles/PMC4...</td>\n",
       "    </tr>\n",
       "    <tr>\n",
       "      <th>9</th>\n",
       "      <td></td>\n",
       "      <td></td>\n",
       "      <td>https://www.ncbi.nlm.nih.gov/pmc/articles/PMC6...</td>\n",
       "    </tr>\n",
       "    <tr>\n",
       "      <th>...</th>\n",
       "      <td>...</td>\n",
       "      <td>...</td>\n",
       "      <td>...</td>\n",
       "    </tr>\n",
       "    <tr>\n",
       "      <th>2461</th>\n",
       "      <td></td>\n",
       "      <td>Vero E6 cells were maintained in Dulbecco’s mo...</td>\n",
       "      <td>https://www.ncbi.nlm.nih.gov/pmc/articles/PMC3...</td>\n",
       "    </tr>\n",
       "    <tr>\n",
       "      <th>2462</th>\n",
       "      <td>Statistical methods test scientific theories w...</td>\n",
       "      <td>Statistical methods test scientific theories w...</td>\n",
       "      <td>https://www.ncbi.nlm.nih.gov/pmc/articles/PMC4...</td>\n",
       "    </tr>\n",
       "    <tr>\n",
       "      <th>2463</th>\n",
       "      <td></td>\n",
       "      <td></td>\n",
       "      <td>https://www.ncbi.nlm.nih.gov/pmc/articles/PMC5...</td>\n",
       "    </tr>\n",
       "    <tr>\n",
       "      <th>2464</th>\n",
       "      <td></td>\n",
       "      <td></td>\n",
       "      <td>https://www.ncbi.nlm.nih.gov/pmc/articles/PMC6...</td>\n",
       "    </tr>\n",
       "    <tr>\n",
       "      <th>2465</th>\n",
       "      <td></td>\n",
       "      <td></td>\n",
       "      <td>https://www.ncbi.nlm.nih.gov/pmc/articles/PMC4...</td>\n",
       "    </tr>\n",
       "  </tbody>\n",
       "</table>\n",
       "<p>1683 rows × 3 columns</p>\n",
       "</div>"
      ],
      "text/plain": [
       "                                              methods_x  \\\n",
       "1     Guanine-based phosphonate (0.5 mmol) was disso...   \n",
       "4     Samples and PCR screening. Samples (n ϭ 1,897)...   \n",
       "5                                                         \n",
       "7                                                         \n",
       "9                                                         \n",
       "...                                                 ...   \n",
       "2461                                                      \n",
       "2462  Statistical methods test scientific theories w...   \n",
       "2463                                                      \n",
       "2464                                                      \n",
       "2465                                                      \n",
       "\n",
       "                                              methods_y  \\\n",
       "1     Starting compounds and other chemicals were pu...   \n",
       "4     Samples (n = 1,897) were collected from appare...   \n",
       "5                                                         \n",
       "7     Calu3 cells were utilized as previously descri...   \n",
       "9                                                         \n",
       "...                                                 ...   \n",
       "2461  Vero E6 cells were maintained in Dulbecco’s mo...   \n",
       "2462  Statistical methods test scientific theories w...   \n",
       "2463                                                      \n",
       "2464                                                      \n",
       "2465                                                      \n",
       "\n",
       "                                                    url  \n",
       "1     https://www.ncbi.nlm.nih.gov/pmc/articles/PMC6...  \n",
       "4     https://www.ncbi.nlm.nih.gov/pmc/articles/PMC3...  \n",
       "5     https://www.ncbi.nlm.nih.gov/pmc/articles/PMC5...  \n",
       "7     https://www.ncbi.nlm.nih.gov/pmc/articles/PMC4...  \n",
       "9     https://www.ncbi.nlm.nih.gov/pmc/articles/PMC6...  \n",
       "...                                                 ...  \n",
       "2461  https://www.ncbi.nlm.nih.gov/pmc/articles/PMC3...  \n",
       "2462  https://www.ncbi.nlm.nih.gov/pmc/articles/PMC4...  \n",
       "2463  https://www.ncbi.nlm.nih.gov/pmc/articles/PMC5...  \n",
       "2464  https://www.ncbi.nlm.nih.gov/pmc/articles/PMC6...  \n",
       "2465  https://www.ncbi.nlm.nih.gov/pmc/articles/PMC4...  \n",
       "\n",
       "[1683 rows x 3 columns]"
      ]
     },
     "execution_count": 35,
     "metadata": {},
     "output_type": "execute_result"
    }
   ],
   "source": [
    "df[['methods_x', 'methods_y', 'url']][df.methods_y.notnull()]"
   ]
  },
  {
   "cell_type": "code",
   "execution_count": 36,
   "metadata": {},
   "outputs": [
    {
     "data": {
      "text/plain": [
       "(1568, 0)"
      ]
     },
     "execution_count": 36,
     "metadata": {},
     "output_type": "execute_result"
    }
   ],
   "source": [
    "(df.methods_x == '').sum(), df.methods_x.isnull().sum()"
   ]
  },
  {
   "cell_type": "code",
   "execution_count": 37,
   "metadata": {},
   "outputs": [
    {
     "data": {
      "text/plain": [
       "(634, 783)"
      ]
     },
     "execution_count": 37,
     "metadata": {},
     "output_type": "execute_result"
    }
   ],
   "source": [
    "(df.methods_y == '').sum(), df.methods_y.isnull().sum()"
   ]
  },
  {
   "cell_type": "code",
   "execution_count": 38,
   "metadata": {},
   "outputs": [],
   "source": [
    "# use methods_y (from pmc) when it's available\n",
    "mask = (df.methods_y.notnull()) & (df.methods_y != '')\n",
    "df.loc[mask, 'methods_x'] = df.loc[mask, 'methods_y']\n",
    "\n",
    "# same for results\n",
    "mask = (df.results_y.notnull()) & (df.results_y != '')\n",
    "df.loc[mask, 'results_x'] = df.loc[mask, 'results_y']"
   ]
  },
  {
   "cell_type": "code",
   "execution_count": 39,
   "metadata": {},
   "outputs": [
    {
     "data": {
      "text/plain": [
       "(1261, 0)"
      ]
     },
     "execution_count": 39,
     "metadata": {},
     "output_type": "execute_result"
    }
   ],
   "source": [
    "(df.results_x == '').sum(), df.results_x.isnull().sum()"
   ]
  },
  {
   "cell_type": "code",
   "execution_count": 40,
   "metadata": {},
   "outputs": [
    {
     "data": {
      "text/plain": [
       "(672, 783)"
      ]
     },
     "execution_count": 40,
     "metadata": {},
     "output_type": "execute_result"
    }
   ],
   "source": [
    "(df.results_y == '').sum(), df.results_y.isnull().sum()"
   ]
  },
  {
   "cell_type": "code",
   "execution_count": 41,
   "metadata": {},
   "outputs": [],
   "source": [
    "df.rename(columns = {'methods_x': 'methods', 'results_x': 'results'}, inplace=True)\n",
    "df.drop(columns=['methods_y', 'results_y'], inplace=True)"
   ]
  },
  {
   "cell_type": "code",
   "execution_count": 42,
   "metadata": {},
   "outputs": [],
   "source": [
    "df.rename(columns = {'paper_id_x': 'paper_id', 'source_x': 'source'}, inplace=True)"
   ]
  },
  {
   "cell_type": "code",
   "execution_count": 43,
   "metadata": {},
   "outputs": [
    {
     "data": {
      "text/plain": [
       "Index(['paper_id', 'body_text_x', 'methods', 'results', 'cord_uid', 'source',\n",
       "       'title', 'doi', 'pmcid', 'pubmed_id', 'license', 'abstract',\n",
       "       'publish_time', 'authors', 'journal', 'Microsoft Academic Paper ID',\n",
       "       'WHO #Covidence', 'has_pdf_parse', 'has_pmc_xml_parse',\n",
       "       'full_text_file', 'url', 'paper_id_y', 'body_text_y'],\n",
       "      dtype='object')"
      ]
     },
     "execution_count": 43,
     "metadata": {},
     "output_type": "execute_result"
    }
   ],
   "source": [
    "df.columns"
   ]
  },
  {
   "cell_type": "code",
   "execution_count": 44,
   "metadata": {},
   "outputs": [
    {
     "data": {
      "text/html": [
       "<div>\n",
       "<style scoped>\n",
       "    .dataframe tbody tr th:only-of-type {\n",
       "        vertical-align: middle;\n",
       "    }\n",
       "\n",
       "    .dataframe tbody tr th {\n",
       "        vertical-align: top;\n",
       "    }\n",
       "\n",
       "    .dataframe thead th {\n",
       "        text-align: right;\n",
       "    }\n",
       "</style>\n",
       "<table border=\"1\" class=\"dataframe\">\n",
       "  <thead>\n",
       "    <tr style=\"text-align: right;\">\n",
       "      <th></th>\n",
       "      <th>paper_id</th>\n",
       "      <th>body_text_x</th>\n",
       "      <th>methods</th>\n",
       "      <th>results</th>\n",
       "      <th>cord_uid</th>\n",
       "      <th>source</th>\n",
       "      <th>title</th>\n",
       "      <th>doi</th>\n",
       "      <th>pmcid</th>\n",
       "      <th>pubmed_id</th>\n",
       "      <th>...</th>\n",
       "      <th>authors</th>\n",
       "      <th>journal</th>\n",
       "      <th>Microsoft Academic Paper ID</th>\n",
       "      <th>WHO #Covidence</th>\n",
       "      <th>has_pdf_parse</th>\n",
       "      <th>has_pmc_xml_parse</th>\n",
       "      <th>full_text_file</th>\n",
       "      <th>url</th>\n",
       "      <th>paper_id_y</th>\n",
       "      <th>body_text_y</th>\n",
       "    </tr>\n",
       "  </thead>\n",
       "  <tbody>\n",
       "    <tr>\n",
       "      <th>0</th>\n",
       "      <td>b2f67d533f2749807f2537f3775b39da3b186051</td>\n",
       "      <td>There is a disproportionate number of individu...</td>\n",
       "      <td></td>\n",
       "      <td></td>\n",
       "      <td>NaN</td>\n",
       "      <td>NaN</td>\n",
       "      <td>NaN</td>\n",
       "      <td>NaN</td>\n",
       "      <td>NaN</td>\n",
       "      <td>NaN</td>\n",
       "      <td>...</td>\n",
       "      <td>NaN</td>\n",
       "      <td>NaN</td>\n",
       "      <td>NaN</td>\n",
       "      <td>NaN</td>\n",
       "      <td>NaN</td>\n",
       "      <td>NaN</td>\n",
       "      <td>NaN</td>\n",
       "      <td>NaN</td>\n",
       "      <td>NaN</td>\n",
       "      <td>NaN</td>\n",
       "    </tr>\n",
       "    <tr>\n",
       "      <th>1</th>\n",
       "      <td>ad98979eada6e333a276d39efdce21779d538625</td>\n",
       "      <td>The concentration and ratio of purine nucleoti...</td>\n",
       "      <td>Starting compounds and other chemicals were pu...</td>\n",
       "      <td></td>\n",
       "      <td>hdpanetr</td>\n",
       "      <td>PMC</td>\n",
       "      <td>Xanthine-based acyclic nucleoside phosphonates...</td>\n",
       "      <td>10.1177/2040206618813050</td>\n",
       "      <td>PMC6287304</td>\n",
       "      <td>30497281</td>\n",
       "      <td>...</td>\n",
       "      <td>Baszczyňski, Ondřej; Kaiser, Martin Maxmilian;...</td>\n",
       "      <td>Antivir Chem Chemother</td>\n",
       "      <td>NaN</td>\n",
       "      <td>NaN</td>\n",
       "      <td>True</td>\n",
       "      <td>True</td>\n",
       "      <td>noncomm_use_subset</td>\n",
       "      <td>https://www.ncbi.nlm.nih.gov/pmc/articles/PMC6...</td>\n",
       "      <td>PMC6287304</td>\n",
       "      <td>The concentration and ratio of purine nucleoti...</td>\n",
       "    </tr>\n",
       "    <tr>\n",
       "      <th>2</th>\n",
       "      <td>464f7d3a460eb51dbc25bd12639b22079a73f85a</td>\n",
       "      <td>Viruses are important infectious agents that i...</td>\n",
       "      <td></td>\n",
       "      <td></td>\n",
       "      <td>NaN</td>\n",
       "      <td>NaN</td>\n",
       "      <td>NaN</td>\n",
       "      <td>NaN</td>\n",
       "      <td>NaN</td>\n",
       "      <td>NaN</td>\n",
       "      <td>...</td>\n",
       "      <td>NaN</td>\n",
       "      <td>NaN</td>\n",
       "      <td>NaN</td>\n",
       "      <td>NaN</td>\n",
       "      <td>NaN</td>\n",
       "      <td>NaN</td>\n",
       "      <td>NaN</td>\n",
       "      <td>NaN</td>\n",
       "      <td>NaN</td>\n",
       "      <td>NaN</td>\n",
       "    </tr>\n",
       "    <tr>\n",
       "      <th>3</th>\n",
       "      <td>c436139975d97ef929b5d8452595de40bda0c11c</td>\n",
       "      <td>Pandemic influenza remains a global health thr...</td>\n",
       "      <td>This was a randomized, open-label, multicenter...</td>\n",
       "      <td>Between January 2011 and April 2015, a total o...</td>\n",
       "      <td>NaN</td>\n",
       "      <td>NaN</td>\n",
       "      <td>NaN</td>\n",
       "      <td>NaN</td>\n",
       "      <td>NaN</td>\n",
       "      <td>NaN</td>\n",
       "      <td>...</td>\n",
       "      <td>NaN</td>\n",
       "      <td>NaN</td>\n",
       "      <td>NaN</td>\n",
       "      <td>NaN</td>\n",
       "      <td>NaN</td>\n",
       "      <td>NaN</td>\n",
       "      <td>NaN</td>\n",
       "      <td>NaN</td>\n",
       "      <td>NaN</td>\n",
       "      <td>NaN</td>\n",
       "    </tr>\n",
       "    <tr>\n",
       "      <th>4</th>\n",
       "      <td>634128ea7d7736750e1c3cd0a48bb37843d06dac</td>\n",
       "      <td>A total of 12,793 consensus PCR assays were pe...</td>\n",
       "      <td>Samples (n = 1,897) were collected from appare...</td>\n",
       "      <td>A total of 12,793 consensus PCR assays were pe...</td>\n",
       "      <td>6lobyyj4</td>\n",
       "      <td>PMC</td>\n",
       "      <td>A Strategy To Estimate Unknown Viral Diversity...</td>\n",
       "      <td>10.1128/mbio.00598-13</td>\n",
       "      <td>PMC3760253</td>\n",
       "      <td>24003179</td>\n",
       "      <td>...</td>\n",
       "      <td>Anthony, Simon J.; Epstein, Jonathan H.; Murra...</td>\n",
       "      <td>mBio</td>\n",
       "      <td>NaN</td>\n",
       "      <td>NaN</td>\n",
       "      <td>True</td>\n",
       "      <td>True</td>\n",
       "      <td>noncomm_use_subset</td>\n",
       "      <td>https://www.ncbi.nlm.nih.gov/pmc/articles/PMC3...</td>\n",
       "      <td>PMC3760253</td>\n",
       "      <td>The majority of emerging infectious diseases (...</td>\n",
       "    </tr>\n",
       "  </tbody>\n",
       "</table>\n",
       "<p>5 rows × 23 columns</p>\n",
       "</div>"
      ],
      "text/plain": [
       "                                   paper_id  \\\n",
       "0  b2f67d533f2749807f2537f3775b39da3b186051   \n",
       "1  ad98979eada6e333a276d39efdce21779d538625   \n",
       "2  464f7d3a460eb51dbc25bd12639b22079a73f85a   \n",
       "3  c436139975d97ef929b5d8452595de40bda0c11c   \n",
       "4  634128ea7d7736750e1c3cd0a48bb37843d06dac   \n",
       "\n",
       "                                         body_text_x  \\\n",
       "0  There is a disproportionate number of individu...   \n",
       "1  The concentration and ratio of purine nucleoti...   \n",
       "2  Viruses are important infectious agents that i...   \n",
       "3  Pandemic influenza remains a global health thr...   \n",
       "4  A total of 12,793 consensus PCR assays were pe...   \n",
       "\n",
       "                                             methods  \\\n",
       "0                                                      \n",
       "1  Starting compounds and other chemicals were pu...   \n",
       "2                                                      \n",
       "3  This was a randomized, open-label, multicenter...   \n",
       "4  Samples (n = 1,897) were collected from appare...   \n",
       "\n",
       "                                             results  cord_uid source  \\\n",
       "0                                                          NaN    NaN   \n",
       "1                                                     hdpanetr    PMC   \n",
       "2                                                          NaN    NaN   \n",
       "3  Between January 2011 and April 2015, a total o...       NaN    NaN   \n",
       "4  A total of 12,793 consensus PCR assays were pe...  6lobyyj4    PMC   \n",
       "\n",
       "                                               title  \\\n",
       "0                                                NaN   \n",
       "1  Xanthine-based acyclic nucleoside phosphonates...   \n",
       "2                                                NaN   \n",
       "3                                                NaN   \n",
       "4  A Strategy To Estimate Unknown Viral Diversity...   \n",
       "\n",
       "                        doi       pmcid pubmed_id  ...  \\\n",
       "0                       NaN         NaN       NaN  ...   \n",
       "1  10.1177/2040206618813050  PMC6287304  30497281  ...   \n",
       "2                       NaN         NaN       NaN  ...   \n",
       "3                       NaN         NaN       NaN  ...   \n",
       "4     10.1128/mbio.00598-13  PMC3760253  24003179  ...   \n",
       "\n",
       "                                             authors                 journal  \\\n",
       "0                                                NaN                     NaN   \n",
       "1  Baszczyňski, Ondřej; Kaiser, Martin Maxmilian;...  Antivir Chem Chemother   \n",
       "2                                                NaN                     NaN   \n",
       "3                                                NaN                     NaN   \n",
       "4  Anthony, Simon J.; Epstein, Jonathan H.; Murra...                    mBio   \n",
       "\n",
       "  Microsoft Academic Paper ID WHO #Covidence has_pdf_parse has_pmc_xml_parse  \\\n",
       "0                         NaN            NaN           NaN               NaN   \n",
       "1                         NaN            NaN          True              True   \n",
       "2                         NaN            NaN           NaN               NaN   \n",
       "3                         NaN            NaN           NaN               NaN   \n",
       "4                         NaN            NaN          True              True   \n",
       "\n",
       "       full_text_file                                                url  \\\n",
       "0                 NaN                                                NaN   \n",
       "1  noncomm_use_subset  https://www.ncbi.nlm.nih.gov/pmc/articles/PMC6...   \n",
       "2                 NaN                                                NaN   \n",
       "3                 NaN                                                NaN   \n",
       "4  noncomm_use_subset  https://www.ncbi.nlm.nih.gov/pmc/articles/PMC3...   \n",
       "\n",
       "   paper_id_y                                        body_text_y  \n",
       "0         NaN                                                NaN  \n",
       "1  PMC6287304  The concentration and ratio of purine nucleoti...  \n",
       "2         NaN                                                NaN  \n",
       "3         NaN                                                NaN  \n",
       "4  PMC3760253  The majority of emerging infectious diseases (...  \n",
       "\n",
       "[5 rows x 23 columns]"
      ]
     },
     "execution_count": 44,
     "metadata": {},
     "output_type": "execute_result"
    }
   ],
   "source": [
    "df.head()"
   ]
  },
  {
   "cell_type": "markdown",
   "metadata": {},
   "source": [
    "# Duplicates"
   ]
  },
  {
   "cell_type": "markdown",
   "metadata": {},
   "source": [
    "Some paper ids are duplicated"
   ]
  },
  {
   "cell_type": "code",
   "execution_count": 45,
   "metadata": {},
   "outputs": [
    {
     "data": {
      "text/plain": [
       "2466"
      ]
     },
     "execution_count": 45,
     "metadata": {},
     "output_type": "execute_result"
    }
   ],
   "source": [
    "len(df)"
   ]
  },
  {
   "cell_type": "code",
   "execution_count": 46,
   "metadata": {},
   "outputs": [
    {
     "data": {
      "text/plain": [
       "2466"
      ]
     },
     "execution_count": 46,
     "metadata": {},
     "output_type": "execute_result"
    }
   ],
   "source": [
    "df.paper_id.nunique()"
   ]
  },
  {
   "cell_type": "code",
   "execution_count": 47,
   "metadata": {},
   "outputs": [
    {
     "data": {
      "text/html": [
       "<div>\n",
       "<style scoped>\n",
       "    .dataframe tbody tr th:only-of-type {\n",
       "        vertical-align: middle;\n",
       "    }\n",
       "\n",
       "    .dataframe tbody tr th {\n",
       "        vertical-align: top;\n",
       "    }\n",
       "\n",
       "    .dataframe thead th {\n",
       "        text-align: right;\n",
       "    }\n",
       "</style>\n",
       "<table border=\"1\" class=\"dataframe\">\n",
       "  <thead>\n",
       "    <tr style=\"text-align: right;\">\n",
       "      <th></th>\n",
       "      <th>paper_id</th>\n",
       "      <th>body_text_x</th>\n",
       "    </tr>\n",
       "  </thead>\n",
       "  <tbody>\n",
       "  </tbody>\n",
       "</table>\n",
       "</div>"
      ],
      "text/plain": [
       "Empty DataFrame\n",
       "Columns: [paper_id, body_text_x]\n",
       "Index: []"
      ]
     },
     "execution_count": 47,
     "metadata": {},
     "output_type": "execute_result"
    }
   ],
   "source": [
    "df[df.duplicated(subset=['paper_id'], keep=False)][['paper_id', 'body_text_x']]"
   ]
  },
  {
   "cell_type": "markdown",
   "metadata": {},
   "source": [
    "But luckily they also have the same text body. So we will just keep one article per paper_id.\n",
    "Check for example [https://www.sciencedirect.com/science/article/pii/S1386653209701295?via%3Dihub](https://www.sciencedirect.com/science/article/pii/S1386653209701295?via%3Dihub) and [https://www.sciencedirect.com/science/article/pii/S1386653209701325?via%3Dihub](https://www.sciencedirect.com/science/article/pii/S1386653209701325?via%3Dihub) - they have the same content."
   ]
  },
  {
   "cell_type": "code",
   "execution_count": 48,
   "metadata": {},
   "outputs": [
    {
     "data": {
      "text/plain": [
       "(0, 23)"
      ]
     },
     "execution_count": 48,
     "metadata": {},
     "output_type": "execute_result"
    }
   ],
   "source": [
    "df[df.duplicated(subset=['paper_id', 'body_text_x'], keep=False)].shape"
   ]
  },
  {
   "cell_type": "code",
   "execution_count": 49,
   "metadata": {},
   "outputs": [],
   "source": [
    "df.drop_duplicates(['paper_id', 'body_text_x'], inplace=True)"
   ]
  },
  {
   "cell_type": "code",
   "execution_count": 50,
   "metadata": {},
   "outputs": [
    {
     "data": {
      "text/plain": [
       "2466"
      ]
     },
     "execution_count": 50,
     "metadata": {},
     "output_type": "execute_result"
    }
   ],
   "source": [
    "len(df)"
   ]
  },
  {
   "cell_type": "code",
   "execution_count": 51,
   "metadata": {},
   "outputs": [
    {
     "data": {
      "text/html": [
       "<div>\n",
       "<style scoped>\n",
       "    .dataframe tbody tr th:only-of-type {\n",
       "        vertical-align: middle;\n",
       "    }\n",
       "\n",
       "    .dataframe tbody tr th {\n",
       "        vertical-align: top;\n",
       "    }\n",
       "\n",
       "    .dataframe thead th {\n",
       "        text-align: right;\n",
       "    }\n",
       "</style>\n",
       "<table border=\"1\" class=\"dataframe\">\n",
       "  <thead>\n",
       "    <tr style=\"text-align: right;\">\n",
       "      <th></th>\n",
       "      <th>paper_id</th>\n",
       "      <th>body_text_x</th>\n",
       "      <th>methods</th>\n",
       "      <th>results</th>\n",
       "      <th>cord_uid</th>\n",
       "      <th>source</th>\n",
       "      <th>title</th>\n",
       "      <th>doi</th>\n",
       "      <th>pmcid</th>\n",
       "      <th>pubmed_id</th>\n",
       "      <th>...</th>\n",
       "      <th>authors</th>\n",
       "      <th>journal</th>\n",
       "      <th>Microsoft Academic Paper ID</th>\n",
       "      <th>WHO #Covidence</th>\n",
       "      <th>has_pdf_parse</th>\n",
       "      <th>has_pmc_xml_parse</th>\n",
       "      <th>full_text_file</th>\n",
       "      <th>url</th>\n",
       "      <th>paper_id_y</th>\n",
       "      <th>body_text_y</th>\n",
       "    </tr>\n",
       "  </thead>\n",
       "  <tbody>\n",
       "  </tbody>\n",
       "</table>\n",
       "<p>0 rows × 23 columns</p>\n",
       "</div>"
      ],
      "text/plain": [
       "Empty DataFrame\n",
       "Columns: [paper_id, body_text_x, methods, results, cord_uid, source, title, doi, pmcid, pubmed_id, license, abstract, publish_time, authors, journal, Microsoft Academic Paper ID, WHO #Covidence, has_pdf_parse, has_pmc_xml_parse, full_text_file, url, paper_id_y, body_text_y]\n",
       "Index: []\n",
       "\n",
       "[0 rows x 23 columns]"
      ]
     },
     "execution_count": 51,
     "metadata": {},
     "output_type": "execute_result"
    }
   ],
   "source": [
    "df[df.duplicated(['paper_id'], keep=False)].head(2)"
   ]
  },
  {
   "cell_type": "code",
   "execution_count": 52,
   "metadata": {},
   "outputs": [],
   "source": [
    "df.drop_duplicates(['paper_id'], inplace=True)"
   ]
  },
  {
   "cell_type": "code",
   "execution_count": 53,
   "metadata": {},
   "outputs": [
    {
     "data": {
      "text/plain": [
       "2466"
      ]
     },
     "execution_count": 53,
     "metadata": {},
     "output_type": "execute_result"
    }
   ],
   "source": [
    "df.paper_id.nunique()"
   ]
  },
  {
   "cell_type": "code",
   "execution_count": 54,
   "metadata": {},
   "outputs": [
    {
     "data": {
      "text/plain": [
       "(2466, 23)"
      ]
     },
     "execution_count": 54,
     "metadata": {},
     "output_type": "execute_result"
    }
   ],
   "source": [
    "df.shape"
   ]
  },
  {
   "cell_type": "markdown",
   "metadata": {},
   "source": [
    "Now the paper_id is unique."
   ]
  },
  {
   "cell_type": "code",
   "execution_count": 55,
   "metadata": {},
   "outputs": [
    {
     "data": {
      "text/plain": [
       "paper_id                          0\n",
       "body_text_x                       0\n",
       "methods                           0\n",
       "results                           0\n",
       "cord_uid                        648\n",
       "source                          648\n",
       "title                           648\n",
       "doi                             807\n",
       "pmcid                           671\n",
       "pubmed_id                       714\n",
       "license                         648\n",
       "abstract                        318\n",
       "publish_time                    648\n",
       "authors                         760\n",
       "journal                         660\n",
       "Microsoft Academic Paper ID    2439\n",
       "WHO #Covidence                 2429\n",
       "has_pdf_parse                   648\n",
       "has_pmc_xml_parse               648\n",
       "full_text_file                  648\n",
       "url                             648\n",
       "paper_id_y                      783\n",
       "body_text_y                     783\n",
       "dtype: int64"
      ]
     },
     "execution_count": 55,
     "metadata": {},
     "output_type": "execute_result"
    }
   ],
   "source": [
    "df.isnull().sum()"
   ]
  },
  {
   "cell_type": "markdown",
   "metadata": {},
   "source": [
    "# Some new columns for convenience"
   ]
  },
  {
   "cell_type": "code",
   "execution_count": 56,
   "metadata": {},
   "outputs": [],
   "source": [
    "# some new columns for convenience\n",
    "df['publish_year'] = df.publish_time.str[:4].fillna(-1).astype(int) # 360 times None\n",
    "# df['link'] = 'http://dx.doi.org/' + df.doi #dataset now has url column"
   ]
  },
  {
   "cell_type": "code",
   "execution_count": 57,
   "metadata": {},
   "outputs": [
    {
     "data": {
      "text/plain": [
       "Index(['paper_id', 'body_text_x', 'methods', 'results', 'cord_uid', 'source',\n",
       "       'title', 'doi', 'pmcid', 'pubmed_id', 'license', 'abstract',\n",
       "       'publish_time', 'authors', 'journal', 'Microsoft Academic Paper ID',\n",
       "       'WHO #Covidence', 'has_pdf_parse', 'has_pmc_xml_parse',\n",
       "       'full_text_file', 'url', 'paper_id_y', 'body_text_y', 'publish_year'],\n",
       "      dtype='object')"
      ]
     },
     "execution_count": 57,
     "metadata": {},
     "output_type": "execute_result"
    }
   ],
   "source": [
    "df.columns"
   ]
  },
  {
   "cell_type": "code",
   "execution_count": 58,
   "metadata": {},
   "outputs": [],
   "source": [
    "df['is_covid19'] = df.body_text_x.str.contains('COVID-19|covid|sar cov 2|SARS-CoV-2|2019-nCov|2019 ncov|SARS Coronavirus 2|2019 Novel Coronavirus|coronavirus 2019| Wuhan coronavirus|wuhan pneumonia|wuhan virus', case=False)"
   ]
  },
  {
   "cell_type": "code",
   "execution_count": 59,
   "metadata": {},
   "outputs": [
    {
     "data": {
      "text/plain": [
       "179"
      ]
     },
     "execution_count": 59,
     "metadata": {},
     "output_type": "execute_result"
    }
   ],
   "source": [
    "df.is_covid19.sum()"
   ]
  },
  {
   "cell_type": "markdown",
   "metadata": {},
   "source": [
    "# Language Detection to remove non-english articles and abstracts"
   ]
  },
  {
   "cell_type": "code",
   "execution_count": 60,
   "metadata": {},
   "outputs": [],
   "source": [
    "from IPython.utils import io\n",
    "\n",
    "with io.capture_output() as captured:\n",
    "    !pip install scispacy\n",
    "    !pip install https://s3-us-west-2.amazonaws.com/ai2-s2-scispacy/releases/v0.2.4/en_core_sci_lg-0.2.4.tar.gz\n",
    "    !pip install spacy-langdetect\n",
    "    !pip install spac scispacy spacy_langdetect https://s3-us-west-2.amazonaws.com/ai2-s2-scispacy/releases/v0.2.3/en_core_sci_lg-0.2.3.tar.gz"
   ]
  },
  {
   "cell_type": "code",
   "execution_count": 61,
   "metadata": {},
   "outputs": [],
   "source": [
    "import scispacy\n",
    "import spacy\n",
    "import en_core_sci_lg\n",
    "from spacy_langdetect import LanguageDetector"
   ]
  },
  {
   "cell_type": "code",
   "execution_count": 62,
   "metadata": {},
   "outputs": [],
   "source": [
    "# medium model\n",
    "nlp = en_core_sci_lg.load(disable=[\"tagger\", \"ner\"])\n",
    "nlp.max_length = 2000000\n",
    "nlp.add_pipe(LanguageDetector(), name='language_detector', last=True)"
   ]
  },
  {
   "cell_type": "markdown",
   "metadata": {},
   "source": [
    "Check language of each text body (only use the first 2000 characters)."
   ]
  },
  {
   "cell_type": "code",
   "execution_count": 63,
   "metadata": {},
   "outputs": [
    {
     "data": {
      "text/plain": [
       "en         2445\n",
       "es            8\n",
       "UNKNOWN       2\n",
       "de            2\n",
       "it            2\n",
       "fr            2\n",
       "et            1\n",
       "ko            1\n",
       "da            1\n",
       "ca            1\n",
       "zh-cn         1\n",
       "Name: text_language, dtype: int64"
      ]
     },
     "execution_count": 63,
     "metadata": {},
     "output_type": "execute_result"
    }
   ],
   "source": [
    "df['text_language'] = df.body_text_x.apply(lambda x: nlp(str(x[:2000]))._.language['language'])\n",
    "\n",
    "df.text_language.value_counts()"
   ]
  },
  {
   "cell_type": "markdown",
   "metadata": {},
   "source": [
    "## Number of non-english texts to drop."
   ]
  },
  {
   "cell_type": "code",
   "execution_count": 64,
   "metadata": {},
   "outputs": [
    {
     "data": {
      "text/plain": [
       "(21, 26)"
      ]
     },
     "execution_count": 64,
     "metadata": {},
     "output_type": "execute_result"
    }
   ],
   "source": [
    "df.loc[df[df.text_language != 'en'].index].shape"
   ]
  },
  {
   "cell_type": "code",
   "execution_count": 65,
   "metadata": {},
   "outputs": [],
   "source": [
    "df = df.drop(df[df.text_language != 'en'].index)"
   ]
  },
  {
   "cell_type": "code",
   "execution_count": 66,
   "metadata": {
    "_kg_hide-input": true
   },
   "outputs": [],
   "source": [
    "# Check language of all abstracts\n",
    "\n",
    "# df['abstract_lang'] = df.abstract.apply(lambda x: nlp(str(x))._.language['language'])\n",
    "\n",
    "#  df[df.abstract.isnull()]"
   ]
  },
  {
   "cell_type": "code",
   "execution_count": 67,
   "metadata": {
    "_kg_hide-input": true
   },
   "outputs": [],
   "source": [
    "# Number of non-english abstracts\n",
    "\n",
    "# df[(df.abstract_lang != 'en') & (df.abstract.notnull())].abstract_lang.value_counts()\n",
    "\n",
    "# Keep all english abstracts and those without abstract\n",
    "\n",
    "# df = df[(df.abstract_lang == 'en') | (df.abstract.isnull())]\n",
    "\n",
    "# df.shape\n",
    "\n",
    "# df.paper_id.nunique()\n",
    "\n",
    "# Analyze title/text body of the papers without abstract\n",
    "\n",
    "# temp = df[df.abstract.isnull()].copy()\n",
    "\n",
    "# def remove_non_english_sentences(doc):\n",
    "#     doc = nlp(doc)\n",
    "#     doc_engl = ''\n",
    "#     for s in doc.sents:\n",
    "#         if (s._.language['language'] == 'en'):\n",
    "#             doc_engl += s.text \n",
    "#     return doc_engl\n",
    "\n",
    "# remove_non_english_sentences(df[df.paper_id == '1a8a4dbbaa94ced4ef6af69ec7a09d3fa4c0eece'].body_text.iloc[0])\n",
    "\n",
    "# temp['text_length'] = temp.body_text.apply(lambda x: len(x))\n",
    "\n",
    "# temp['english_text'] = temp.body_text.apply(remove_non_english_sentences)\n",
    "\n",
    "# temp['english_length'] = temp.english_text.apply(lambda x: len(x))\n",
    "\n",
    "# temp.to_csv('df_english.csv', index=False)\n",
    "\n",
    "# (temp.english_length/temp.text_length).hist()\n",
    "\n",
    "# ((temp.english_length/temp.text_length)<0.8).sum()\n",
    "\n",
    "# temp[((temp.english_length/temp.text_length)<0.8)].head()\n",
    "\n",
    "# temp[temp.paper_id == '7925057cfe0cb75ae6079879cb2d22d23e42dfa5'].body_text.values[0][:500]\n",
    "\n",
    "# temp[temp.paper_id == '617197cc751a9208cb0af1b4e31baeddc8d2e985'].body_text.values[0]\n",
    "\n",
    "# temp[temp.paper_id == 'ca51b53fa512085e1aa166d5308602ff1666a90c'].body_text.values[0][:500]\n",
    "\n",
    "# df = df.drop(temp[((temp.english_length/temp.text_length)<0.8)].index)"
   ]
  },
  {
   "cell_type": "code",
   "execution_count": 68,
   "metadata": {
    "_kg_hide-input": true
   },
   "outputs": [],
   "source": [
    "# temp['title_lang'] = df.title.apply(lambda x: nlp(str(x))._.language['language'])\n",
    "\n",
    "# temp.title_lang.value_counts()\n",
    "\n",
    "# Too many false-positves. \n",
    "\n",
    "# temp[temp.paper_id == '6f6b7b1efffae7f3765f29fe801ab63dd35110bb'].body_text.values[0]\n",
    "\n",
    "# temp[temp.title_lang == 'de']\n",
    "\n",
    "# We check the beginning of each text body instead.\n",
    "\n",
    "# temp['text_lang'] = df.body_text.apply(lambda x: nlp(str(x[:2000]))._.language['language'])\n",
    "\n",
    "# temp.text_lang.value_counts()\n",
    "\n",
    "# Number of non-english texts to drop.\n",
    "\n",
    "# df.loc[temp[temp.text_lang != 'en'].index].shape\n",
    "\n",
    "# df = df.drop(temp[temp.text_lang != 'en'].index)"
   ]
  },
  {
   "cell_type": "code",
   "execution_count": 69,
   "metadata": {},
   "outputs": [],
   "source": [
    "df.drop(columns=['cord_uid', 'pmcid', 'pubmed_id', 'full_text_file', 'license', 'text_language'], inplace=True)"
   ]
  },
  {
   "cell_type": "code",
   "execution_count": 70,
   "metadata": {},
   "outputs": [
    {
     "data": {
      "text/html": [
       "<div>\n",
       "<style scoped>\n",
       "    .dataframe tbody tr th:only-of-type {\n",
       "        vertical-align: middle;\n",
       "    }\n",
       "\n",
       "    .dataframe tbody tr th {\n",
       "        vertical-align: top;\n",
       "    }\n",
       "\n",
       "    .dataframe thead th {\n",
       "        text-align: right;\n",
       "    }\n",
       "</style>\n",
       "<table border=\"1\" class=\"dataframe\">\n",
       "  <thead>\n",
       "    <tr style=\"text-align: right;\">\n",
       "      <th></th>\n",
       "      <th>paper_id</th>\n",
       "      <th>body_text_x</th>\n",
       "      <th>methods</th>\n",
       "      <th>results</th>\n",
       "      <th>source</th>\n",
       "      <th>title</th>\n",
       "      <th>doi</th>\n",
       "      <th>abstract</th>\n",
       "      <th>publish_time</th>\n",
       "      <th>authors</th>\n",
       "      <th>journal</th>\n",
       "      <th>Microsoft Academic Paper ID</th>\n",
       "      <th>WHO #Covidence</th>\n",
       "      <th>has_pdf_parse</th>\n",
       "      <th>has_pmc_xml_parse</th>\n",
       "      <th>url</th>\n",
       "      <th>paper_id_y</th>\n",
       "      <th>body_text_y</th>\n",
       "      <th>publish_year</th>\n",
       "      <th>is_covid19</th>\n",
       "    </tr>\n",
       "  </thead>\n",
       "  <tbody>\n",
       "    <tr>\n",
       "      <th>0</th>\n",
       "      <td>b2f67d533f2749807f2537f3775b39da3b186051</td>\n",
       "      <td>There is a disproportionate number of individu...</td>\n",
       "      <td></td>\n",
       "      <td></td>\n",
       "      <td>NaN</td>\n",
       "      <td>NaN</td>\n",
       "      <td>NaN</td>\n",
       "      <td>NaN</td>\n",
       "      <td>NaN</td>\n",
       "      <td>NaN</td>\n",
       "      <td>NaN</td>\n",
       "      <td>NaN</td>\n",
       "      <td>NaN</td>\n",
       "      <td>NaN</td>\n",
       "      <td>NaN</td>\n",
       "      <td>NaN</td>\n",
       "      <td>NaN</td>\n",
       "      <td>NaN</td>\n",
       "      <td>-1</td>\n",
       "      <td>True</td>\n",
       "    </tr>\n",
       "    <tr>\n",
       "      <th>1</th>\n",
       "      <td>ad98979eada6e333a276d39efdce21779d538625</td>\n",
       "      <td>The concentration and ratio of purine nucleoti...</td>\n",
       "      <td>Starting compounds and other chemicals were pu...</td>\n",
       "      <td></td>\n",
       "      <td>PMC</td>\n",
       "      <td>Xanthine-based acyclic nucleoside phosphonates...</td>\n",
       "      <td>10.1177/2040206618813050</td>\n",
       "      <td>While noncanonic xanthine nucleotides XMP/dXMP...</td>\n",
       "      <td>2018-11-29</td>\n",
       "      <td>Baszczyňski, Ondřej; Kaiser, Martin Maxmilian;...</td>\n",
       "      <td>Antivir Chem Chemother</td>\n",
       "      <td>NaN</td>\n",
       "      <td>NaN</td>\n",
       "      <td>True</td>\n",
       "      <td>True</td>\n",
       "      <td>https://www.ncbi.nlm.nih.gov/pmc/articles/PMC6...</td>\n",
       "      <td>PMC6287304</td>\n",
       "      <td>The concentration and ratio of purine nucleoti...</td>\n",
       "      <td>2018</td>\n",
       "      <td>False</td>\n",
       "    </tr>\n",
       "    <tr>\n",
       "      <th>2</th>\n",
       "      <td>464f7d3a460eb51dbc25bd12639b22079a73f85a</td>\n",
       "      <td>Viruses are important infectious agents that i...</td>\n",
       "      <td></td>\n",
       "      <td></td>\n",
       "      <td>NaN</td>\n",
       "      <td>NaN</td>\n",
       "      <td>NaN</td>\n",
       "      <td>Long non-coding RNAs (lncRNAs) are found not o...</td>\n",
       "      <td>NaN</td>\n",
       "      <td>NaN</td>\n",
       "      <td>NaN</td>\n",
       "      <td>NaN</td>\n",
       "      <td>NaN</td>\n",
       "      <td>NaN</td>\n",
       "      <td>NaN</td>\n",
       "      <td>NaN</td>\n",
       "      <td>NaN</td>\n",
       "      <td>NaN</td>\n",
       "      <td>-1</td>\n",
       "      <td>False</td>\n",
       "    </tr>\n",
       "    <tr>\n",
       "      <th>3</th>\n",
       "      <td>c436139975d97ef929b5d8452595de40bda0c11c</td>\n",
       "      <td>Pandemic influenza remains a global health thr...</td>\n",
       "      <td>This was a randomized, open-label, multicenter...</td>\n",
       "      <td>Between January 2011 and April 2015, a total o...</td>\n",
       "      <td>NaN</td>\n",
       "      <td>NaN</td>\n",
       "      <td>NaN</td>\n",
       "      <td>on behalf of the IRC002 Study Team Summary Bac...</td>\n",
       "      <td>NaN</td>\n",
       "      <td>NaN</td>\n",
       "      <td>NaN</td>\n",
       "      <td>NaN</td>\n",
       "      <td>NaN</td>\n",
       "      <td>NaN</td>\n",
       "      <td>NaN</td>\n",
       "      <td>NaN</td>\n",
       "      <td>NaN</td>\n",
       "      <td>NaN</td>\n",
       "      <td>-1</td>\n",
       "      <td>False</td>\n",
       "    </tr>\n",
       "    <tr>\n",
       "      <th>4</th>\n",
       "      <td>634128ea7d7736750e1c3cd0a48bb37843d06dac</td>\n",
       "      <td>A total of 12,793 consensus PCR assays were pe...</td>\n",
       "      <td>Samples (n = 1,897) were collected from appare...</td>\n",
       "      <td>A total of 12,793 consensus PCR assays were pe...</td>\n",
       "      <td>PMC</td>\n",
       "      <td>A Strategy To Estimate Unknown Viral Diversity...</td>\n",
       "      <td>10.1128/mbio.00598-13</td>\n",
       "      <td>The majority of emerging zoonoses originate in...</td>\n",
       "      <td>2013-09-03</td>\n",
       "      <td>Anthony, Simon J.; Epstein, Jonathan H.; Murra...</td>\n",
       "      <td>mBio</td>\n",
       "      <td>NaN</td>\n",
       "      <td>NaN</td>\n",
       "      <td>True</td>\n",
       "      <td>True</td>\n",
       "      <td>https://www.ncbi.nlm.nih.gov/pmc/articles/PMC3...</td>\n",
       "      <td>PMC3760253</td>\n",
       "      <td>The majority of emerging infectious diseases (...</td>\n",
       "      <td>2013</td>\n",
       "      <td>False</td>\n",
       "    </tr>\n",
       "  </tbody>\n",
       "</table>\n",
       "</div>"
      ],
      "text/plain": [
       "                                   paper_id  \\\n",
       "0  b2f67d533f2749807f2537f3775b39da3b186051   \n",
       "1  ad98979eada6e333a276d39efdce21779d538625   \n",
       "2  464f7d3a460eb51dbc25bd12639b22079a73f85a   \n",
       "3  c436139975d97ef929b5d8452595de40bda0c11c   \n",
       "4  634128ea7d7736750e1c3cd0a48bb37843d06dac   \n",
       "\n",
       "                                         body_text_x  \\\n",
       "0  There is a disproportionate number of individu...   \n",
       "1  The concentration and ratio of purine nucleoti...   \n",
       "2  Viruses are important infectious agents that i...   \n",
       "3  Pandemic influenza remains a global health thr...   \n",
       "4  A total of 12,793 consensus PCR assays were pe...   \n",
       "\n",
       "                                             methods  \\\n",
       "0                                                      \n",
       "1  Starting compounds and other chemicals were pu...   \n",
       "2                                                      \n",
       "3  This was a randomized, open-label, multicenter...   \n",
       "4  Samples (n = 1,897) were collected from appare...   \n",
       "\n",
       "                                             results source  \\\n",
       "0                                                       NaN   \n",
       "1                                                       PMC   \n",
       "2                                                       NaN   \n",
       "3  Between January 2011 and April 2015, a total o...    NaN   \n",
       "4  A total of 12,793 consensus PCR assays were pe...    PMC   \n",
       "\n",
       "                                               title  \\\n",
       "0                                                NaN   \n",
       "1  Xanthine-based acyclic nucleoside phosphonates...   \n",
       "2                                                NaN   \n",
       "3                                                NaN   \n",
       "4  A Strategy To Estimate Unknown Viral Diversity...   \n",
       "\n",
       "                        doi  \\\n",
       "0                       NaN   \n",
       "1  10.1177/2040206618813050   \n",
       "2                       NaN   \n",
       "3                       NaN   \n",
       "4     10.1128/mbio.00598-13   \n",
       "\n",
       "                                            abstract publish_time  \\\n",
       "0                                                NaN          NaN   \n",
       "1  While noncanonic xanthine nucleotides XMP/dXMP...   2018-11-29   \n",
       "2  Long non-coding RNAs (lncRNAs) are found not o...          NaN   \n",
       "3  on behalf of the IRC002 Study Team Summary Bac...          NaN   \n",
       "4  The majority of emerging zoonoses originate in...   2013-09-03   \n",
       "\n",
       "                                             authors                 journal  \\\n",
       "0                                                NaN                     NaN   \n",
       "1  Baszczyňski, Ondřej; Kaiser, Martin Maxmilian;...  Antivir Chem Chemother   \n",
       "2                                                NaN                     NaN   \n",
       "3                                                NaN                     NaN   \n",
       "4  Anthony, Simon J.; Epstein, Jonathan H.; Murra...                    mBio   \n",
       "\n",
       "  Microsoft Academic Paper ID WHO #Covidence has_pdf_parse has_pmc_xml_parse  \\\n",
       "0                         NaN            NaN           NaN               NaN   \n",
       "1                         NaN            NaN          True              True   \n",
       "2                         NaN            NaN           NaN               NaN   \n",
       "3                         NaN            NaN           NaN               NaN   \n",
       "4                         NaN            NaN          True              True   \n",
       "\n",
       "                                                 url  paper_id_y  \\\n",
       "0                                                NaN         NaN   \n",
       "1  https://www.ncbi.nlm.nih.gov/pmc/articles/PMC6...  PMC6287304   \n",
       "2                                                NaN         NaN   \n",
       "3                                                NaN         NaN   \n",
       "4  https://www.ncbi.nlm.nih.gov/pmc/articles/PMC3...  PMC3760253   \n",
       "\n",
       "                                         body_text_y  publish_year  is_covid19  \n",
       "0                                                NaN            -1        True  \n",
       "1  The concentration and ratio of purine nucleoti...          2018       False  \n",
       "2                                                NaN            -1       False  \n",
       "3                                                NaN            -1       False  \n",
       "4  The majority of emerging infectious diseases (...          2013       False  "
      ]
     },
     "execution_count": 70,
     "metadata": {},
     "output_type": "execute_result"
    }
   ],
   "source": [
    "df.head()"
   ]
  },
  {
   "cell_type": "code",
   "execution_count": 71,
   "metadata": {},
   "outputs": [
    {
     "data": {
      "text/plain": [
       "Index(['paper_id', 'body_text_x', 'methods', 'results', 'source', 'title',\n",
       "       'doi', 'abstract', 'publish_time', 'authors', 'journal',\n",
       "       'Microsoft Academic Paper ID', 'WHO #Covidence', 'has_pdf_parse',\n",
       "       'has_pmc_xml_parse', 'url', 'paper_id_y', 'body_text_y', 'publish_year',\n",
       "       'is_covid19'],\n",
       "      dtype='object')"
      ]
     },
     "execution_count": 71,
     "metadata": {},
     "output_type": "execute_result"
    }
   ],
   "source": [
    "df.columns"
   ]
  },
  {
   "cell_type": "code",
   "execution_count": 72,
   "metadata": {},
   "outputs": [],
   "source": [
    "df = df.drop(columns = ['methods', 'body_text_x', 'source', 'doi', 'Microsoft Academic Paper ID', 'WHO #Covidence', 'has_pdf_parse', 'has_pmc_xml_parse', 'url', 'paper_id_y', 'body_text_y'])"
   ]
  },
  {
   "cell_type": "code",
   "execution_count": 73,
   "metadata": {},
   "outputs": [
    {
     "data": {
      "text/plain": [
       "Index(['paper_id', 'results', 'title', 'abstract', 'publish_time', 'authors',\n",
       "       'journal', 'publish_year', 'is_covid19'],\n",
       "      dtype='object')"
      ]
     },
     "execution_count": 73,
     "metadata": {},
     "output_type": "execute_result"
    }
   ],
   "source": [
    "df.columns"
   ]
  },
  {
   "cell_type": "markdown",
   "metadata": {},
   "source": [
    "# Export as .csv"
   ]
  },
  {
   "cell_type": "code",
   "execution_count": 74,
   "metadata": {},
   "outputs": [],
   "source": [
    "df['abstract'].replace('', np.nan, inplace=True)"
   ]
  },
  {
   "cell_type": "code",
   "execution_count": 75,
   "metadata": {},
   "outputs": [],
   "source": [
    "df['results'].replace('', np.nan, inplace=True)"
   ]
  },
  {
   "cell_type": "code",
   "execution_count": 76,
   "metadata": {},
   "outputs": [],
   "source": [
    "df = df.dropna()"
   ]
  },
  {
   "cell_type": "code",
   "execution_count": 77,
   "metadata": {},
   "outputs": [],
   "source": [
    "results = df.drop('abstract', axis = 1)"
   ]
  },
  {
   "cell_type": "code",
   "execution_count": 78,
   "metadata": {},
   "outputs": [],
   "source": [
    "abstract = df.drop('results', axis = 1)"
   ]
  },
  {
   "cell_type": "code",
   "execution_count": 79,
   "metadata": {},
   "outputs": [],
   "source": [
    "results['section_num'] = 1"
   ]
  },
  {
   "cell_type": "code",
   "execution_count": 80,
   "metadata": {},
   "outputs": [],
   "source": [
    "abstract['section_num'] = 0"
   ]
  },
  {
   "cell_type": "code",
   "execution_count": 81,
   "metadata": {},
   "outputs": [
    {
     "data": {
      "text/html": [
       "<div>\n",
       "<style scoped>\n",
       "    .dataframe tbody tr th:only-of-type {\n",
       "        vertical-align: middle;\n",
       "    }\n",
       "\n",
       "    .dataframe tbody tr th {\n",
       "        vertical-align: top;\n",
       "    }\n",
       "\n",
       "    .dataframe thead th {\n",
       "        text-align: right;\n",
       "    }\n",
       "</style>\n",
       "<table border=\"1\" class=\"dataframe\">\n",
       "  <thead>\n",
       "    <tr style=\"text-align: right;\">\n",
       "      <th></th>\n",
       "      <th>paper_id</th>\n",
       "      <th>text</th>\n",
       "      <th>title</th>\n",
       "      <th>publish_time</th>\n",
       "      <th>authors</th>\n",
       "      <th>journal</th>\n",
       "      <th>publish_year</th>\n",
       "      <th>is_covid19</th>\n",
       "      <th>section_num</th>\n",
       "    </tr>\n",
       "  </thead>\n",
       "  <tbody>\n",
       "    <tr>\n",
       "      <th>4</th>\n",
       "      <td>634128ea7d7736750e1c3cd0a48bb37843d06dac</td>\n",
       "      <td>A total of 12,793 consensus PCR assays were pe...</td>\n",
       "      <td>A Strategy To Estimate Unknown Viral Diversity...</td>\n",
       "      <td>2013-09-03</td>\n",
       "      <td>Anthony, Simon J.; Epstein, Jonathan H.; Murra...</td>\n",
       "      <td>mBio</td>\n",
       "      <td>2013</td>\n",
       "      <td>False</td>\n",
       "      <td>1</td>\n",
       "    </tr>\n",
       "    <tr>\n",
       "      <th>7</th>\n",
       "      <td>fef0bb9eaac69559d0ff2f92ff83e0affd4435f0</td>\n",
       "      <td>ISG expression varies based on cell and tissue...</td>\n",
       "      <td>Pathogenic Influenza Viruses and Coronaviruses...</td>\n",
       "      <td>2014-05-20</td>\n",
       "      <td>Menachery, Vineet D.; Eisfeld, Amie J.; Schäfe...</td>\n",
       "      <td>mBio</td>\n",
       "      <td>2014</td>\n",
       "      <td>False</td>\n",
       "      <td>1</td>\n",
       "    </tr>\n",
       "    <tr>\n",
       "      <th>14</th>\n",
       "      <td>246f59ddffedd4a166b9317dee38bdf6077b2f3f</td>\n",
       "      <td>The X-ray crystallography studies showed that ...</td>\n",
       "      <td>Identification of novel multitargeted PPARα/γ/...</td>\n",
       "      <td>2014-11-07</td>\n",
       "      <td>Wang, Xue-Jiao; Zhang, Jun; Wang, Shu-Qing; Xu...</td>\n",
       "      <td>Drug Des Devel Ther</td>\n",
       "      <td>2014</td>\n",
       "      <td>False</td>\n",
       "      <td>1</td>\n",
       "    </tr>\n",
       "    <tr>\n",
       "      <th>17</th>\n",
       "      <td>9cda860c97d430aea207a063d13e8612e023320c</td>\n",
       "      <td>The efficacies of the BVD control measures wer...</td>\n",
       "      <td>Assessment of the cost effectiveness of compul...</td>\n",
       "      <td>2019-03-01</td>\n",
       "      <td>ISODA, Norikazu; ASANO, Akihiro; ICHIJO, Michi...</td>\n",
       "      <td>J Vet Med Sci</td>\n",
       "      <td>2019</td>\n",
       "      <td>False</td>\n",
       "      <td>1</td>\n",
       "    </tr>\n",
       "    <tr>\n",
       "      <th>18</th>\n",
       "      <td>b66704a03a688c4065abff41c4977c4c9939c230</td>\n",
       "      <td>Of the 50 enrolled patients, 43 had completed ...</td>\n",
       "      <td>Lobeglitazone, a Novel Thiazolidinedione, Impr...</td>\n",
       "      <td>2016-11-08</td>\n",
       "      <td>Lee, Yong-ho; Kim, Jae Hyeon; Kim, So Ra; Jin,...</td>\n",
       "      <td>J Korean Med Sci</td>\n",
       "      <td>2016</td>\n",
       "      <td>False</td>\n",
       "      <td>1</td>\n",
       "    </tr>\n",
       "    <tr>\n",
       "      <th>...</th>\n",
       "      <td>...</td>\n",
       "      <td>...</td>\n",
       "      <td>...</td>\n",
       "      <td>...</td>\n",
       "      <td>...</td>\n",
       "      <td>...</td>\n",
       "      <td>...</td>\n",
       "      <td>...</td>\n",
       "      <td>...</td>\n",
       "    </tr>\n",
       "    <tr>\n",
       "      <th>2452</th>\n",
       "      <td>d00f4dabc58eca254f3b2ca4efafda00d671c3da</td>\n",
       "      <td>As noted above, a motif based search removes t...</td>\n",
       "      <td>Cell cycle control (and more) by programmed −1...</td>\n",
       "      <td>2015-01-13</td>\n",
       "      <td>Belew, Ashton T; Dinman, Jonathan D</td>\n",
       "      <td>Cell Cycle</td>\n",
       "      <td>2015</td>\n",
       "      <td>False</td>\n",
       "      <td>1</td>\n",
       "    </tr>\n",
       "    <tr>\n",
       "      <th>2454</th>\n",
       "      <td>4c3f357d50bfeede5dd0eec81a4b5b7f116c628a</td>\n",
       "      <td>We quantified a total of 1109 plasma proteins,...</td>\n",
       "      <td>Plasma biomarker screening for liver fibrosis ...</td>\n",
       "      <td>2011-05-15</td>\n",
       "      <td>Li, ShuLong; Liu, Xin; Wei, Lai; Wang, HuiFen;...</td>\n",
       "      <td>Sci China Life Sci</td>\n",
       "      <td>2011</td>\n",
       "      <td>False</td>\n",
       "      <td>1</td>\n",
       "    </tr>\n",
       "    <tr>\n",
       "      <th>2456</th>\n",
       "      <td>2ffacfd58f57a95344119c15d27560cdeaea2285</td>\n",
       "      <td>Metaphase-arrested egg extracts from X. laevis...</td>\n",
       "      <td>The calcium-dependent ribonuclease XendoU prom...</td>\n",
       "      <td>2014-10-13</td>\n",
       "      <td>Schwarz, Dianne S.; Blower, Michael D.</td>\n",
       "      <td>J Cell Biol</td>\n",
       "      <td>2014</td>\n",
       "      <td>False</td>\n",
       "      <td>1</td>\n",
       "    </tr>\n",
       "    <tr>\n",
       "      <th>2457</th>\n",
       "      <td>4c5c841e4ad3fbf9b31d6c0c282dfec035f716bb</td>\n",
       "      <td>With respect to the exclusion criteria, only 7...</td>\n",
       "      <td>The association between blood eosinophil perce...</td>\n",
       "      <td>2019-05-06</td>\n",
       "      <td>Choi, Juwhan; Oh, Jee Youn; Lee, Young Seok; H...</td>\n",
       "      <td>Int J Chron Obstruct Pulmon Dis</td>\n",
       "      <td>2019</td>\n",
       "      <td>False</td>\n",
       "      <td>1</td>\n",
       "    </tr>\n",
       "    <tr>\n",
       "      <th>2461</th>\n",
       "      <td>ea5d20e07d05c8b241f90e6429f3daaacc844ecd</td>\n",
       "      <td>To establish the most suitable time points for...</td>\n",
       "      <td>The Transformation of Enterovirus Replication ...</td>\n",
       "      <td>2011-10-04</td>\n",
       "      <td>Limpens, Ronald W. A. L.; van der Schaar, Hild...</td>\n",
       "      <td>mBio</td>\n",
       "      <td>2011</td>\n",
       "      <td>False</td>\n",
       "      <td>1</td>\n",
       "    </tr>\n",
       "  </tbody>\n",
       "</table>\n",
       "<p>987 rows × 9 columns</p>\n",
       "</div>"
      ],
      "text/plain": [
       "                                      paper_id  \\\n",
       "4     634128ea7d7736750e1c3cd0a48bb37843d06dac   \n",
       "7     fef0bb9eaac69559d0ff2f92ff83e0affd4435f0   \n",
       "14    246f59ddffedd4a166b9317dee38bdf6077b2f3f   \n",
       "17    9cda860c97d430aea207a063d13e8612e023320c   \n",
       "18    b66704a03a688c4065abff41c4977c4c9939c230   \n",
       "...                                        ...   \n",
       "2452  d00f4dabc58eca254f3b2ca4efafda00d671c3da   \n",
       "2454  4c3f357d50bfeede5dd0eec81a4b5b7f116c628a   \n",
       "2456  2ffacfd58f57a95344119c15d27560cdeaea2285   \n",
       "2457  4c5c841e4ad3fbf9b31d6c0c282dfec035f716bb   \n",
       "2461  ea5d20e07d05c8b241f90e6429f3daaacc844ecd   \n",
       "\n",
       "                                                   text  \\\n",
       "4     A total of 12,793 consensus PCR assays were pe...   \n",
       "7     ISG expression varies based on cell and tissue...   \n",
       "14    The X-ray crystallography studies showed that ...   \n",
       "17    The efficacies of the BVD control measures wer...   \n",
       "18    Of the 50 enrolled patients, 43 had completed ...   \n",
       "...                                                 ...   \n",
       "2452  As noted above, a motif based search removes t...   \n",
       "2454  We quantified a total of 1109 plasma proteins,...   \n",
       "2456  Metaphase-arrested egg extracts from X. laevis...   \n",
       "2457  With respect to the exclusion criteria, only 7...   \n",
       "2461  To establish the most suitable time points for...   \n",
       "\n",
       "                                                  title publish_time  \\\n",
       "4     A Strategy To Estimate Unknown Viral Diversity...   2013-09-03   \n",
       "7     Pathogenic Influenza Viruses and Coronaviruses...   2014-05-20   \n",
       "14    Identification of novel multitargeted PPARα/γ/...   2014-11-07   \n",
       "17    Assessment of the cost effectiveness of compul...   2019-03-01   \n",
       "18    Lobeglitazone, a Novel Thiazolidinedione, Impr...   2016-11-08   \n",
       "...                                                 ...          ...   \n",
       "2452  Cell cycle control (and more) by programmed −1...   2015-01-13   \n",
       "2454  Plasma biomarker screening for liver fibrosis ...   2011-05-15   \n",
       "2456  The calcium-dependent ribonuclease XendoU prom...   2014-10-13   \n",
       "2457  The association between blood eosinophil perce...   2019-05-06   \n",
       "2461  The Transformation of Enterovirus Replication ...   2011-10-04   \n",
       "\n",
       "                                                authors  \\\n",
       "4     Anthony, Simon J.; Epstein, Jonathan H.; Murra...   \n",
       "7     Menachery, Vineet D.; Eisfeld, Amie J.; Schäfe...   \n",
       "14    Wang, Xue-Jiao; Zhang, Jun; Wang, Shu-Qing; Xu...   \n",
       "17    ISODA, Norikazu; ASANO, Akihiro; ICHIJO, Michi...   \n",
       "18    Lee, Yong-ho; Kim, Jae Hyeon; Kim, So Ra; Jin,...   \n",
       "...                                                 ...   \n",
       "2452                Belew, Ashton T; Dinman, Jonathan D   \n",
       "2454  Li, ShuLong; Liu, Xin; Wei, Lai; Wang, HuiFen;...   \n",
       "2456             Schwarz, Dianne S.; Blower, Michael D.   \n",
       "2457  Choi, Juwhan; Oh, Jee Youn; Lee, Young Seok; H...   \n",
       "2461  Limpens, Ronald W. A. L.; van der Schaar, Hild...   \n",
       "\n",
       "                              journal  publish_year  is_covid19  section_num  \n",
       "4                                mBio          2013       False            1  \n",
       "7                                mBio          2014       False            1  \n",
       "14                Drug Des Devel Ther          2014       False            1  \n",
       "17                      J Vet Med Sci          2019       False            1  \n",
       "18                   J Korean Med Sci          2016       False            1  \n",
       "...                               ...           ...         ...          ...  \n",
       "2452                       Cell Cycle          2015       False            1  \n",
       "2454               Sci China Life Sci          2011       False            1  \n",
       "2456                      J Cell Biol          2014       False            1  \n",
       "2457  Int J Chron Obstruct Pulmon Dis          2019       False            1  \n",
       "2461                             mBio          2011       False            1  \n",
       "\n",
       "[987 rows x 9 columns]"
      ]
     },
     "execution_count": 81,
     "metadata": {},
     "output_type": "execute_result"
    }
   ],
   "source": [
    "results = results.rename({'results' : 'text'}, axis = 1)\n",
    "results"
   ]
  },
  {
   "cell_type": "code",
   "execution_count": 82,
   "metadata": {},
   "outputs": [
    {
     "data": {
      "text/html": [
       "<div>\n",
       "<style scoped>\n",
       "    .dataframe tbody tr th:only-of-type {\n",
       "        vertical-align: middle;\n",
       "    }\n",
       "\n",
       "    .dataframe tbody tr th {\n",
       "        vertical-align: top;\n",
       "    }\n",
       "\n",
       "    .dataframe thead th {\n",
       "        text-align: right;\n",
       "    }\n",
       "</style>\n",
       "<table border=\"1\" class=\"dataframe\">\n",
       "  <thead>\n",
       "    <tr style=\"text-align: right;\">\n",
       "      <th></th>\n",
       "      <th>paper_id</th>\n",
       "      <th>title</th>\n",
       "      <th>text</th>\n",
       "      <th>publish_time</th>\n",
       "      <th>authors</th>\n",
       "      <th>journal</th>\n",
       "      <th>publish_year</th>\n",
       "      <th>is_covid19</th>\n",
       "      <th>section_num</th>\n",
       "    </tr>\n",
       "  </thead>\n",
       "  <tbody>\n",
       "    <tr>\n",
       "      <th>4</th>\n",
       "      <td>634128ea7d7736750e1c3cd0a48bb37843d06dac</td>\n",
       "      <td>A Strategy To Estimate Unknown Viral Diversity...</td>\n",
       "      <td>The majority of emerging zoonoses originate in...</td>\n",
       "      <td>2013-09-03</td>\n",
       "      <td>Anthony, Simon J.; Epstein, Jonathan H.; Murra...</td>\n",
       "      <td>mBio</td>\n",
       "      <td>2013</td>\n",
       "      <td>False</td>\n",
       "      <td>0</td>\n",
       "    </tr>\n",
       "    <tr>\n",
       "      <th>7</th>\n",
       "      <td>fef0bb9eaac69559d0ff2f92ff83e0affd4435f0</td>\n",
       "      <td>Pathogenic Influenza Viruses and Coronaviruses...</td>\n",
       "      <td>The broad range and diversity of interferon-st...</td>\n",
       "      <td>2014-05-20</td>\n",
       "      <td>Menachery, Vineet D.; Eisfeld, Amie J.; Schäfe...</td>\n",
       "      <td>mBio</td>\n",
       "      <td>2014</td>\n",
       "      <td>False</td>\n",
       "      <td>0</td>\n",
       "    </tr>\n",
       "    <tr>\n",
       "      <th>14</th>\n",
       "      <td>246f59ddffedd4a166b9317dee38bdf6077b2f3f</td>\n",
       "      <td>Identification of novel multitargeted PPARα/γ/...</td>\n",
       "      <td>The thiazolidinedione class peroxisome prolife...</td>\n",
       "      <td>2014-11-07</td>\n",
       "      <td>Wang, Xue-Jiao; Zhang, Jun; Wang, Shu-Qing; Xu...</td>\n",
       "      <td>Drug Des Devel Ther</td>\n",
       "      <td>2014</td>\n",
       "      <td>False</td>\n",
       "      <td>0</td>\n",
       "    </tr>\n",
       "    <tr>\n",
       "      <th>17</th>\n",
       "      <td>9cda860c97d430aea207a063d13e8612e023320c</td>\n",
       "      <td>Assessment of the cost effectiveness of compul...</td>\n",
       "      <td>Bovine viral diarrhea (BVD) is a chronic disea...</td>\n",
       "      <td>2019-03-01</td>\n",
       "      <td>ISODA, Norikazu; ASANO, Akihiro; ICHIJO, Michi...</td>\n",
       "      <td>J Vet Med Sci</td>\n",
       "      <td>2019</td>\n",
       "      <td>False</td>\n",
       "      <td>0</td>\n",
       "    </tr>\n",
       "    <tr>\n",
       "      <th>18</th>\n",
       "      <td>b66704a03a688c4065abff41c4977c4c9939c230</td>\n",
       "      <td>Lobeglitazone, a Novel Thiazolidinedione, Impr...</td>\n",
       "      <td>Despite the rapidly increasing prevalence of n...</td>\n",
       "      <td>2016-11-08</td>\n",
       "      <td>Lee, Yong-ho; Kim, Jae Hyeon; Kim, So Ra; Jin,...</td>\n",
       "      <td>J Korean Med Sci</td>\n",
       "      <td>2016</td>\n",
       "      <td>False</td>\n",
       "      <td>0</td>\n",
       "    </tr>\n",
       "    <tr>\n",
       "      <th>...</th>\n",
       "      <td>...</td>\n",
       "      <td>...</td>\n",
       "      <td>...</td>\n",
       "      <td>...</td>\n",
       "      <td>...</td>\n",
       "      <td>...</td>\n",
       "      <td>...</td>\n",
       "      <td>...</td>\n",
       "      <td>...</td>\n",
       "    </tr>\n",
       "    <tr>\n",
       "      <th>2452</th>\n",
       "      <td>d00f4dabc58eca254f3b2ca4efafda00d671c3da</td>\n",
       "      <td>Cell cycle control (and more) by programmed −1...</td>\n",
       "      <td>Like most basic molecular mechanisms, programm...</td>\n",
       "      <td>2015-01-13</td>\n",
       "      <td>Belew, Ashton T; Dinman, Jonathan D</td>\n",
       "      <td>Cell Cycle</td>\n",
       "      <td>2015</td>\n",
       "      <td>False</td>\n",
       "      <td>0</td>\n",
       "    </tr>\n",
       "    <tr>\n",
       "      <th>2454</th>\n",
       "      <td>4c3f357d50bfeede5dd0eec81a4b5b7f116c628a</td>\n",
       "      <td>Plasma biomarker screening for liver fibrosis ...</td>\n",
       "      <td>A non-invasive diagnostic approach is crucial ...</td>\n",
       "      <td>2011-05-15</td>\n",
       "      <td>Li, ShuLong; Liu, Xin; Wei, Lai; Wang, HuiFen;...</td>\n",
       "      <td>Sci China Life Sci</td>\n",
       "      <td>2011</td>\n",
       "      <td>False</td>\n",
       "      <td>0</td>\n",
       "    </tr>\n",
       "    <tr>\n",
       "      <th>2456</th>\n",
       "      <td>2ffacfd58f57a95344119c15d27560cdeaea2285</td>\n",
       "      <td>The calcium-dependent ribonuclease XendoU prom...</td>\n",
       "      <td>How cells shape and remodel organelles in resp...</td>\n",
       "      <td>2014-10-13</td>\n",
       "      <td>Schwarz, Dianne S.; Blower, Michael D.</td>\n",
       "      <td>J Cell Biol</td>\n",
       "      <td>2014</td>\n",
       "      <td>False</td>\n",
       "      <td>0</td>\n",
       "    </tr>\n",
       "    <tr>\n",
       "      <th>2457</th>\n",
       "      <td>4c5c841e4ad3fbf9b31d6c0c282dfec035f716bb</td>\n",
       "      <td>The association between blood eosinophil perce...</td>\n",
       "      <td>Introduction: The use of antibiotics is based ...</td>\n",
       "      <td>2019-05-06</td>\n",
       "      <td>Choi, Juwhan; Oh, Jee Youn; Lee, Young Seok; H...</td>\n",
       "      <td>Int J Chron Obstruct Pulmon Dis</td>\n",
       "      <td>2019</td>\n",
       "      <td>False</td>\n",
       "      <td>0</td>\n",
       "    </tr>\n",
       "    <tr>\n",
       "      <th>2461</th>\n",
       "      <td>ea5d20e07d05c8b241f90e6429f3daaacc844ecd</td>\n",
       "      <td>The Transformation of Enterovirus Replication ...</td>\n",
       "      <td>All positive-strand RNA viruses induce membran...</td>\n",
       "      <td>2011-10-04</td>\n",
       "      <td>Limpens, Ronald W. A. L.; van der Schaar, Hild...</td>\n",
       "      <td>mBio</td>\n",
       "      <td>2011</td>\n",
       "      <td>False</td>\n",
       "      <td>0</td>\n",
       "    </tr>\n",
       "  </tbody>\n",
       "</table>\n",
       "<p>987 rows × 9 columns</p>\n",
       "</div>"
      ],
      "text/plain": [
       "                                      paper_id  \\\n",
       "4     634128ea7d7736750e1c3cd0a48bb37843d06dac   \n",
       "7     fef0bb9eaac69559d0ff2f92ff83e0affd4435f0   \n",
       "14    246f59ddffedd4a166b9317dee38bdf6077b2f3f   \n",
       "17    9cda860c97d430aea207a063d13e8612e023320c   \n",
       "18    b66704a03a688c4065abff41c4977c4c9939c230   \n",
       "...                                        ...   \n",
       "2452  d00f4dabc58eca254f3b2ca4efafda00d671c3da   \n",
       "2454  4c3f357d50bfeede5dd0eec81a4b5b7f116c628a   \n",
       "2456  2ffacfd58f57a95344119c15d27560cdeaea2285   \n",
       "2457  4c5c841e4ad3fbf9b31d6c0c282dfec035f716bb   \n",
       "2461  ea5d20e07d05c8b241f90e6429f3daaacc844ecd   \n",
       "\n",
       "                                                  title  \\\n",
       "4     A Strategy To Estimate Unknown Viral Diversity...   \n",
       "7     Pathogenic Influenza Viruses and Coronaviruses...   \n",
       "14    Identification of novel multitargeted PPARα/γ/...   \n",
       "17    Assessment of the cost effectiveness of compul...   \n",
       "18    Lobeglitazone, a Novel Thiazolidinedione, Impr...   \n",
       "...                                                 ...   \n",
       "2452  Cell cycle control (and more) by programmed −1...   \n",
       "2454  Plasma biomarker screening for liver fibrosis ...   \n",
       "2456  The calcium-dependent ribonuclease XendoU prom...   \n",
       "2457  The association between blood eosinophil perce...   \n",
       "2461  The Transformation of Enterovirus Replication ...   \n",
       "\n",
       "                                                   text publish_time  \\\n",
       "4     The majority of emerging zoonoses originate in...   2013-09-03   \n",
       "7     The broad range and diversity of interferon-st...   2014-05-20   \n",
       "14    The thiazolidinedione class peroxisome prolife...   2014-11-07   \n",
       "17    Bovine viral diarrhea (BVD) is a chronic disea...   2019-03-01   \n",
       "18    Despite the rapidly increasing prevalence of n...   2016-11-08   \n",
       "...                                                 ...          ...   \n",
       "2452  Like most basic molecular mechanisms, programm...   2015-01-13   \n",
       "2454  A non-invasive diagnostic approach is crucial ...   2011-05-15   \n",
       "2456  How cells shape and remodel organelles in resp...   2014-10-13   \n",
       "2457  Introduction: The use of antibiotics is based ...   2019-05-06   \n",
       "2461  All positive-strand RNA viruses induce membran...   2011-10-04   \n",
       "\n",
       "                                                authors  \\\n",
       "4     Anthony, Simon J.; Epstein, Jonathan H.; Murra...   \n",
       "7     Menachery, Vineet D.; Eisfeld, Amie J.; Schäfe...   \n",
       "14    Wang, Xue-Jiao; Zhang, Jun; Wang, Shu-Qing; Xu...   \n",
       "17    ISODA, Norikazu; ASANO, Akihiro; ICHIJO, Michi...   \n",
       "18    Lee, Yong-ho; Kim, Jae Hyeon; Kim, So Ra; Jin,...   \n",
       "...                                                 ...   \n",
       "2452                Belew, Ashton T; Dinman, Jonathan D   \n",
       "2454  Li, ShuLong; Liu, Xin; Wei, Lai; Wang, HuiFen;...   \n",
       "2456             Schwarz, Dianne S.; Blower, Michael D.   \n",
       "2457  Choi, Juwhan; Oh, Jee Youn; Lee, Young Seok; H...   \n",
       "2461  Limpens, Ronald W. A. L.; van der Schaar, Hild...   \n",
       "\n",
       "                              journal  publish_year  is_covid19  section_num  \n",
       "4                                mBio          2013       False            0  \n",
       "7                                mBio          2014       False            0  \n",
       "14                Drug Des Devel Ther          2014       False            0  \n",
       "17                      J Vet Med Sci          2019       False            0  \n",
       "18                   J Korean Med Sci          2016       False            0  \n",
       "...                               ...           ...         ...          ...  \n",
       "2452                       Cell Cycle          2015       False            0  \n",
       "2454               Sci China Life Sci          2011       False            0  \n",
       "2456                      J Cell Biol          2014       False            0  \n",
       "2457  Int J Chron Obstruct Pulmon Dis          2019       False            0  \n",
       "2461                             mBio          2011       False            0  \n",
       "\n",
       "[987 rows x 9 columns]"
      ]
     },
     "execution_count": 82,
     "metadata": {},
     "output_type": "execute_result"
    }
   ],
   "source": [
    "abstract = abstract.rename({'abstract' : 'text'}, axis = 1)\n",
    "abstract"
   ]
  },
  {
   "cell_type": "code",
   "execution_count": 83,
   "metadata": {},
   "outputs": [],
   "source": [
    "import datetime"
   ]
  },
  {
   "cell_type": "code",
   "execution_count": 84,
   "metadata": {},
   "outputs": [
    {
     "name": "stderr",
     "output_type": "stream",
     "text": [
      "/Users/vidhig/anaconda3/lib/python3.7/site-packages/ipykernel_launcher.py:1: FutureWarning: Sorting because non-concatenation axis is not aligned. A future version\n",
      "of pandas will change to not sort by default.\n",
      "\n",
      "To accept the future behavior, pass 'sort=False'.\n",
      "\n",
      "To retain the current behavior and silence the warning, pass 'sort=True'.\n",
      "\n",
      "  \"\"\"Entry point for launching an IPython kernel.\n"
     ]
    }
   ],
   "source": [
    "non_commercial_df = pd.concat([abstract, results]) "
   ]
  },
  {
   "cell_type": "code",
   "execution_count": 85,
   "metadata": {},
   "outputs": [],
   "source": [
    "non_commercial_df['publish_month'] = pd.DatetimeIndex(non_commercial_df['publish_time']).month"
   ]
  },
  {
   "cell_type": "code",
   "execution_count": 86,
   "metadata": {},
   "outputs": [],
   "source": [
    "non_commercial_df = non_commercial_df.drop(['authors', 'publish_time'], axis = 1)"
   ]
  },
  {
   "cell_type": "code",
   "execution_count": 87,
   "metadata": {},
   "outputs": [
    {
     "data": {
      "text/html": [
       "<div>\n",
       "<style scoped>\n",
       "    .dataframe tbody tr th:only-of-type {\n",
       "        vertical-align: middle;\n",
       "    }\n",
       "\n",
       "    .dataframe tbody tr th {\n",
       "        vertical-align: top;\n",
       "    }\n",
       "\n",
       "    .dataframe thead th {\n",
       "        text-align: right;\n",
       "    }\n",
       "</style>\n",
       "<table border=\"1\" class=\"dataframe\">\n",
       "  <thead>\n",
       "    <tr style=\"text-align: right;\">\n",
       "      <th></th>\n",
       "      <th>is_covid19</th>\n",
       "      <th>journal</th>\n",
       "      <th>paper_id</th>\n",
       "      <th>publish_year</th>\n",
       "      <th>section_num</th>\n",
       "      <th>text</th>\n",
       "      <th>title</th>\n",
       "      <th>publish_month</th>\n",
       "    </tr>\n",
       "  </thead>\n",
       "  <tbody>\n",
       "    <tr>\n",
       "      <th>4</th>\n",
       "      <td>False</td>\n",
       "      <td>mBio</td>\n",
       "      <td>634128ea7d7736750e1c3cd0a48bb37843d06dac</td>\n",
       "      <td>2013</td>\n",
       "      <td>0</td>\n",
       "      <td>The majority of emerging zoonoses originate in...</td>\n",
       "      <td>A Strategy To Estimate Unknown Viral Diversity...</td>\n",
       "      <td>9</td>\n",
       "    </tr>\n",
       "    <tr>\n",
       "      <th>7</th>\n",
       "      <td>False</td>\n",
       "      <td>mBio</td>\n",
       "      <td>fef0bb9eaac69559d0ff2f92ff83e0affd4435f0</td>\n",
       "      <td>2014</td>\n",
       "      <td>0</td>\n",
       "      <td>The broad range and diversity of interferon-st...</td>\n",
       "      <td>Pathogenic Influenza Viruses and Coronaviruses...</td>\n",
       "      <td>5</td>\n",
       "    </tr>\n",
       "    <tr>\n",
       "      <th>14</th>\n",
       "      <td>False</td>\n",
       "      <td>Drug Des Devel Ther</td>\n",
       "      <td>246f59ddffedd4a166b9317dee38bdf6077b2f3f</td>\n",
       "      <td>2014</td>\n",
       "      <td>0</td>\n",
       "      <td>The thiazolidinedione class peroxisome prolife...</td>\n",
       "      <td>Identification of novel multitargeted PPARα/γ/...</td>\n",
       "      <td>11</td>\n",
       "    </tr>\n",
       "    <tr>\n",
       "      <th>17</th>\n",
       "      <td>False</td>\n",
       "      <td>J Vet Med Sci</td>\n",
       "      <td>9cda860c97d430aea207a063d13e8612e023320c</td>\n",
       "      <td>2019</td>\n",
       "      <td>0</td>\n",
       "      <td>Bovine viral diarrhea (BVD) is a chronic disea...</td>\n",
       "      <td>Assessment of the cost effectiveness of compul...</td>\n",
       "      <td>3</td>\n",
       "    </tr>\n",
       "    <tr>\n",
       "      <th>18</th>\n",
       "      <td>False</td>\n",
       "      <td>J Korean Med Sci</td>\n",
       "      <td>b66704a03a688c4065abff41c4977c4c9939c230</td>\n",
       "      <td>2016</td>\n",
       "      <td>0</td>\n",
       "      <td>Despite the rapidly increasing prevalence of n...</td>\n",
       "      <td>Lobeglitazone, a Novel Thiazolidinedione, Impr...</td>\n",
       "      <td>11</td>\n",
       "    </tr>\n",
       "    <tr>\n",
       "      <th>...</th>\n",
       "      <td>...</td>\n",
       "      <td>...</td>\n",
       "      <td>...</td>\n",
       "      <td>...</td>\n",
       "      <td>...</td>\n",
       "      <td>...</td>\n",
       "      <td>...</td>\n",
       "      <td>...</td>\n",
       "    </tr>\n",
       "    <tr>\n",
       "      <th>2452</th>\n",
       "      <td>False</td>\n",
       "      <td>Cell Cycle</td>\n",
       "      <td>d00f4dabc58eca254f3b2ca4efafda00d671c3da</td>\n",
       "      <td>2015</td>\n",
       "      <td>1</td>\n",
       "      <td>As noted above, a motif based search removes t...</td>\n",
       "      <td>Cell cycle control (and more) by programmed −1...</td>\n",
       "      <td>1</td>\n",
       "    </tr>\n",
       "    <tr>\n",
       "      <th>2454</th>\n",
       "      <td>False</td>\n",
       "      <td>Sci China Life Sci</td>\n",
       "      <td>4c3f357d50bfeede5dd0eec81a4b5b7f116c628a</td>\n",
       "      <td>2011</td>\n",
       "      <td>1</td>\n",
       "      <td>We quantified a total of 1109 plasma proteins,...</td>\n",
       "      <td>Plasma biomarker screening for liver fibrosis ...</td>\n",
       "      <td>5</td>\n",
       "    </tr>\n",
       "    <tr>\n",
       "      <th>2456</th>\n",
       "      <td>False</td>\n",
       "      <td>J Cell Biol</td>\n",
       "      <td>2ffacfd58f57a95344119c15d27560cdeaea2285</td>\n",
       "      <td>2014</td>\n",
       "      <td>1</td>\n",
       "      <td>Metaphase-arrested egg extracts from X. laevis...</td>\n",
       "      <td>The calcium-dependent ribonuclease XendoU prom...</td>\n",
       "      <td>10</td>\n",
       "    </tr>\n",
       "    <tr>\n",
       "      <th>2457</th>\n",
       "      <td>False</td>\n",
       "      <td>Int J Chron Obstruct Pulmon Dis</td>\n",
       "      <td>4c5c841e4ad3fbf9b31d6c0c282dfec035f716bb</td>\n",
       "      <td>2019</td>\n",
       "      <td>1</td>\n",
       "      <td>With respect to the exclusion criteria, only 7...</td>\n",
       "      <td>The association between blood eosinophil perce...</td>\n",
       "      <td>5</td>\n",
       "    </tr>\n",
       "    <tr>\n",
       "      <th>2461</th>\n",
       "      <td>False</td>\n",
       "      <td>mBio</td>\n",
       "      <td>ea5d20e07d05c8b241f90e6429f3daaacc844ecd</td>\n",
       "      <td>2011</td>\n",
       "      <td>1</td>\n",
       "      <td>To establish the most suitable time points for...</td>\n",
       "      <td>The Transformation of Enterovirus Replication ...</td>\n",
       "      <td>10</td>\n",
       "    </tr>\n",
       "  </tbody>\n",
       "</table>\n",
       "<p>1974 rows × 8 columns</p>\n",
       "</div>"
      ],
      "text/plain": [
       "      is_covid19                          journal  \\\n",
       "4          False                             mBio   \n",
       "7          False                             mBio   \n",
       "14         False              Drug Des Devel Ther   \n",
       "17         False                    J Vet Med Sci   \n",
       "18         False                 J Korean Med Sci   \n",
       "...          ...                              ...   \n",
       "2452       False                       Cell Cycle   \n",
       "2454       False               Sci China Life Sci   \n",
       "2456       False                      J Cell Biol   \n",
       "2457       False  Int J Chron Obstruct Pulmon Dis   \n",
       "2461       False                             mBio   \n",
       "\n",
       "                                      paper_id  publish_year  section_num  \\\n",
       "4     634128ea7d7736750e1c3cd0a48bb37843d06dac          2013            0   \n",
       "7     fef0bb9eaac69559d0ff2f92ff83e0affd4435f0          2014            0   \n",
       "14    246f59ddffedd4a166b9317dee38bdf6077b2f3f          2014            0   \n",
       "17    9cda860c97d430aea207a063d13e8612e023320c          2019            0   \n",
       "18    b66704a03a688c4065abff41c4977c4c9939c230          2016            0   \n",
       "...                                        ...           ...          ...   \n",
       "2452  d00f4dabc58eca254f3b2ca4efafda00d671c3da          2015            1   \n",
       "2454  4c3f357d50bfeede5dd0eec81a4b5b7f116c628a          2011            1   \n",
       "2456  2ffacfd58f57a95344119c15d27560cdeaea2285          2014            1   \n",
       "2457  4c5c841e4ad3fbf9b31d6c0c282dfec035f716bb          2019            1   \n",
       "2461  ea5d20e07d05c8b241f90e6429f3daaacc844ecd          2011            1   \n",
       "\n",
       "                                                   text  \\\n",
       "4     The majority of emerging zoonoses originate in...   \n",
       "7     The broad range and diversity of interferon-st...   \n",
       "14    The thiazolidinedione class peroxisome prolife...   \n",
       "17    Bovine viral diarrhea (BVD) is a chronic disea...   \n",
       "18    Despite the rapidly increasing prevalence of n...   \n",
       "...                                                 ...   \n",
       "2452  As noted above, a motif based search removes t...   \n",
       "2454  We quantified a total of 1109 plasma proteins,...   \n",
       "2456  Metaphase-arrested egg extracts from X. laevis...   \n",
       "2457  With respect to the exclusion criteria, only 7...   \n",
       "2461  To establish the most suitable time points for...   \n",
       "\n",
       "                                                  title  publish_month  \n",
       "4     A Strategy To Estimate Unknown Viral Diversity...              9  \n",
       "7     Pathogenic Influenza Viruses and Coronaviruses...              5  \n",
       "14    Identification of novel multitargeted PPARα/γ/...             11  \n",
       "17    Assessment of the cost effectiveness of compul...              3  \n",
       "18    Lobeglitazone, a Novel Thiazolidinedione, Impr...             11  \n",
       "...                                                 ...            ...  \n",
       "2452  Cell cycle control (and more) by programmed −1...              1  \n",
       "2454  Plasma biomarker screening for liver fibrosis ...              5  \n",
       "2456  The calcium-dependent ribonuclease XendoU prom...             10  \n",
       "2457  The association between blood eosinophil perce...              5  \n",
       "2461  The Transformation of Enterovirus Replication ...             10  \n",
       "\n",
       "[1974 rows x 8 columns]"
      ]
     },
     "execution_count": 87,
     "metadata": {},
     "output_type": "execute_result"
    }
   ],
   "source": [
    "non_commercial_df"
   ]
  },
  {
   "cell_type": "code",
   "execution_count": 88,
   "metadata": {},
   "outputs": [],
   "source": [
    "non_commercial_df.to_csv('../dataset/processed-files/non_commercial.csv', index=False)"
   ]
  },
  {
   "cell_type": "code",
   "execution_count": null,
   "metadata": {},
   "outputs": [],
   "source": []
  }
 ],
 "metadata": {
  "kernelspec": {
   "display_name": "Python 3",
   "language": "python",
   "name": "python3"
  },
  "language_info": {
   "codemirror_mode": {
    "name": "ipython",
    "version": 3
   },
   "file_extension": ".py",
   "mimetype": "text/x-python",
   "name": "python",
   "nbconvert_exporter": "python",
   "pygments_lexer": "ipython3",
   "version": "3.7.5"
  }
 },
 "nbformat": 4,
 "nbformat_minor": 4
}
