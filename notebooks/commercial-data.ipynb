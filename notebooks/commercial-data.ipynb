{
 "cells": [
  {
   "cell_type": "markdown",
   "metadata": {},
   "source": [
    "## Process commerical published papers\n",
    "\n",
    "**Name: Vidhi Gupta (vg5vc)**\n",
    "\n",
    "Some exploration and preprocessing to create one dataframe and export it as .csv.\n",
    "\n",
    "Adjusted to data from 2020-04-17."
   ]
  },
  {
   "cell_type": "markdown",
   "metadata": {},
   "source": [
    "# Load Packages"
   ]
  },
  {
   "cell_type": "code",
   "execution_count": 1,
   "metadata": {
    "_cell_guid": "79c7e3d0-c299-4dcb-8224-4455121ee9b0",
    "_kg_hide-input": true,
    "_uuid": "d629ff2d2480ee46fbb7e2d37f6b5fab8052498a"
   },
   "outputs": [],
   "source": [
    "import numpy as np \n",
    "import pandas as pd\n",
    "\n",
    "import glob\n",
    "import json"
   ]
  },
  {
   "cell_type": "markdown",
   "metadata": {},
   "source": [
    "# Load and Prepare Data"
   ]
  },
  {
   "cell_type": "markdown",
   "metadata": {},
   "source": [
    "To read the JSON files we follow [COVID EDA: Initial Exploration Tool](https://www.kaggle.com/ivanegapratama/covid-eda-initial-exploration-tool)."
   ]
  },
  {
   "cell_type": "code",
   "execution_count": 2,
   "metadata": {},
   "outputs": [
    {
     "data": {
      "text/html": [
       "<div>\n",
       "<style scoped>\n",
       "    .dataframe tbody tr th:only-of-type {\n",
       "        vertical-align: middle;\n",
       "    }\n",
       "\n",
       "    .dataframe tbody tr th {\n",
       "        vertical-align: top;\n",
       "    }\n",
       "\n",
       "    .dataframe thead th {\n",
       "        text-align: right;\n",
       "    }\n",
       "</style>\n",
       "<table border=\"1\" class=\"dataframe\">\n",
       "  <thead>\n",
       "    <tr style=\"text-align: right;\">\n",
       "      <th></th>\n",
       "      <th>cord_uid</th>\n",
       "      <th>sha</th>\n",
       "      <th>source_x</th>\n",
       "      <th>title</th>\n",
       "      <th>doi</th>\n",
       "      <th>pmcid</th>\n",
       "      <th>pubmed_id</th>\n",
       "      <th>license</th>\n",
       "      <th>abstract</th>\n",
       "      <th>publish_time</th>\n",
       "      <th>authors</th>\n",
       "      <th>journal</th>\n",
       "      <th>Microsoft Academic Paper ID</th>\n",
       "      <th>WHO #Covidence</th>\n",
       "      <th>has_pdf_parse</th>\n",
       "      <th>has_pmc_xml_parse</th>\n",
       "      <th>full_text_file</th>\n",
       "      <th>url</th>\n",
       "    </tr>\n",
       "  </thead>\n",
       "  <tbody>\n",
       "    <tr>\n",
       "      <th>0</th>\n",
       "      <td>xqhn0vbp</td>\n",
       "      <td>1e1286db212100993d03cc22374b624f7caee956</td>\n",
       "      <td>PMC</td>\n",
       "      <td>Airborne rhinovirus detection and effect of ul...</td>\n",
       "      <td>10.1186/1471-2458-3-5</td>\n",
       "      <td>PMC140314</td>\n",
       "      <td>12525263</td>\n",
       "      <td>no-cc</td>\n",
       "      <td>BACKGROUND: Rhinovirus, the most common cause ...</td>\n",
       "      <td>2003-01-13</td>\n",
       "      <td>Myatt, Theodore A; Johnston, Sebastian L; Rudn...</td>\n",
       "      <td>BMC Public Health</td>\n",
       "      <td>NaN</td>\n",
       "      <td>NaN</td>\n",
       "      <td>True</td>\n",
       "      <td>True</td>\n",
       "      <td>custom_license</td>\n",
       "      <td>https://www.ncbi.nlm.nih.gov/pmc/articles/PMC1...</td>\n",
       "    </tr>\n",
       "    <tr>\n",
       "      <th>1</th>\n",
       "      <td>gi6uaa83</td>\n",
       "      <td>8ae137c8da1607b3a8e4c946c07ca8bda67f88ac</td>\n",
       "      <td>PMC</td>\n",
       "      <td>Discovering human history from stomach bacteria</td>\n",
       "      <td>10.1186/gb-2003-4-5-213</td>\n",
       "      <td>PMC156578</td>\n",
       "      <td>12734001</td>\n",
       "      <td>no-cc</td>\n",
       "      <td>Recent analyses of human pathogens have reveal...</td>\n",
       "      <td>2003-04-28</td>\n",
       "      <td>Disotell, Todd R</td>\n",
       "      <td>Genome Biol</td>\n",
       "      <td>NaN</td>\n",
       "      <td>NaN</td>\n",
       "      <td>True</td>\n",
       "      <td>True</td>\n",
       "      <td>custom_license</td>\n",
       "      <td>https://www.ncbi.nlm.nih.gov/pmc/articles/PMC1...</td>\n",
       "    </tr>\n",
       "  </tbody>\n",
       "</table>\n",
       "</div>"
      ],
      "text/plain": [
       "   cord_uid                                       sha source_x  \\\n",
       "0  xqhn0vbp  1e1286db212100993d03cc22374b624f7caee956      PMC   \n",
       "1  gi6uaa83  8ae137c8da1607b3a8e4c946c07ca8bda67f88ac      PMC   \n",
       "\n",
       "                                               title                      doi  \\\n",
       "0  Airborne rhinovirus detection and effect of ul...    10.1186/1471-2458-3-5   \n",
       "1    Discovering human history from stomach bacteria  10.1186/gb-2003-4-5-213   \n",
       "\n",
       "       pmcid pubmed_id license  \\\n",
       "0  PMC140314  12525263   no-cc   \n",
       "1  PMC156578  12734001   no-cc   \n",
       "\n",
       "                                            abstract publish_time  \\\n",
       "0  BACKGROUND: Rhinovirus, the most common cause ...   2003-01-13   \n",
       "1  Recent analyses of human pathogens have reveal...   2003-04-28   \n",
       "\n",
       "                                             authors            journal  \\\n",
       "0  Myatt, Theodore A; Johnston, Sebastian L; Rudn...  BMC Public Health   \n",
       "1                                   Disotell, Todd R        Genome Biol   \n",
       "\n",
       "  Microsoft Academic Paper ID WHO #Covidence  has_pdf_parse  \\\n",
       "0                         NaN            NaN           True   \n",
       "1                         NaN            NaN           True   \n",
       "\n",
       "   has_pmc_xml_parse  full_text_file  \\\n",
       "0               True  custom_license   \n",
       "1               True  custom_license   \n",
       "\n",
       "                                                 url  \n",
       "0  https://www.ncbi.nlm.nih.gov/pmc/articles/PMC1...  \n",
       "1  https://www.ncbi.nlm.nih.gov/pmc/articles/PMC1...  "
      ]
     },
     "execution_count": 2,
     "metadata": {},
     "output_type": "execute_result"
    }
   ],
   "source": [
    "root_path = '../dataset/CORD-19-research-challenge/'\n",
    "meta_df = pd.read_csv(root_path+'metadata.csv', dtype={\n",
    "    'pubmed_id': str,\n",
    "    'Microsoft Academic Paper ID': str, \n",
    "    'doi': str\n",
    "})\n",
    "meta_df.head(2)"
   ]
  },
  {
   "cell_type": "code",
   "execution_count": 3,
   "metadata": {},
   "outputs": [
    {
     "data": {
      "text/plain": [
       "9557"
      ]
     },
     "execution_count": 3,
     "metadata": {},
     "output_type": "execute_result"
    }
   ],
   "source": [
    "all_json = glob.glob(f'{root_path}comm_use_subset/comm_use_subset/pdf_json/*.json', recursive=True)\n",
    "len(all_json)"
   ]
  },
  {
   "cell_type": "code",
   "execution_count": 4,
   "metadata": {},
   "outputs": [
    {
     "data": {
      "text/plain": [
       "9189"
      ]
     },
     "execution_count": 4,
     "metadata": {},
     "output_type": "execute_result"
    }
   ],
   "source": [
    "all_json_pmc = glob.glob(f'{root_path}comm_use_subset/comm_use_subset/pmc_json/*.json', recursive=True)\n",
    "len(all_json_pmc)"
   ]
  },
  {
   "cell_type": "markdown",
   "metadata": {},
   "source": [
    "# Commercial use pdf_json"
   ]
  },
  {
   "cell_type": "code",
   "execution_count": 5,
   "metadata": {},
   "outputs": [],
   "source": [
    "methods = ['methods','method','statistical methods','materials','materials and methods',\n",
    "                'data collection','the study','study design','experimental design','objective',\n",
    "                'objectives','procedures','data collection and analysis', 'methodology',\n",
    "                'material and methods','the model','experimental procedures','main text']"
   ]
  },
  {
   "cell_type": "code",
   "execution_count": 6,
   "metadata": {
    "_kg_hide-input": true
   },
   "outputs": [],
   "source": [
    "# [''.join(x.lower() for x in m if x.isalpha()) for m in methods]\n",
    "\n",
    "# for m in methods:\n",
    "#     print(''.join(x.lower() for x in m if x.isalpha()))"
   ]
  },
  {
   "cell_type": "code",
   "execution_count": 7,
   "metadata": {},
   "outputs": [
    {
     "name": "stdout",
     "output_type": "stream",
     "text": [
      "5e0c586f047ff909c8ed3fe171c8975a90608d08: Background: Porcine epidemic diarrhea virus (PEDV) is emerging as a pathogenic coronavirus that causes a huge economic burden to the swine industry. Interaction of the viral spike (S) surface glycopro... Porcine epidemic diarrhea virus (PEDV), which belongs to the Alphacoronavirus genus of the Coronaviridae family, is an etiological agent of porcine epidemic diarrhea (PED) and causes an enteric diseas...\n"
     ]
    }
   ],
   "source": [
    "class FileReader:\n",
    "    def __init__(self, file_path):\n",
    "        with open(file_path) as file:\n",
    "            content = json.load(file)\n",
    "            self.paper_id = content['paper_id']\n",
    "            self.abstract = []\n",
    "            self.body_text = []\n",
    "            self.methods = []\n",
    "            self.results = []\n",
    "\n",
    "            # Abstract\n",
    "            for entry in content['abstract']:\n",
    "                self.abstract.append(entry['text'])\n",
    "            # Body text\n",
    "            for entry in content['body_text']:\n",
    "                self.body_text.append(entry['text'])\n",
    "            # Methods\n",
    "            methods = ['methods','method','statistical methods','materials','materials and methods',\n",
    "                'data collection','the study','study design','experimental design','objective',\n",
    "                'objectives','procedures','data collection and analysis', 'methodology',\n",
    "                'material and methods','the model','experimental procedures','main text']\n",
    "            for entry in content['body_text']:\n",
    "                section_title = ''.join(x.lower() for x in entry['section'] if x.isalpha()) #remove numbers and spaces\n",
    "                if any(m in section_title for m in [''.join(x.lower() for x in m if x.isalpha()) for m in methods]) : \n",
    "                    self.methods.append(entry['text'])\n",
    "            # Results\n",
    "            results_synonyms = ['result']\n",
    "            for entry in content['body_text']:\n",
    "                section_title = ''.join(x.lower() for x in entry['section'] if x.isalpha())\n",
    "                if any(r in section_title for r in results_synonyms) :\n",
    "                    self.results.append(entry['text'])\n",
    "                    \n",
    "            self.abstract = '\\n'.join(self.abstract)\n",
    "            self.body_text = '\\n'.join(self.body_text)\n",
    "            self.methods = '\\n'.join(self.methods)\n",
    "            self.results = '\\n'.join(self.results)\n",
    "\n",
    "    def __repr__(self):\n",
    "        return f'{self.paper_id}: {self.abstract[:200]}... {self.body_text[:200]}...'\n",
    "first_row = FileReader(all_json[0])\n",
    "print(first_row)"
   ]
  },
  {
   "cell_type": "code",
   "execution_count": 8,
   "metadata": {},
   "outputs": [
    {
     "name": "stdout",
     "output_type": "stream",
     "text": [
      "Processing index: 0 of 9557\n",
      "Processing index: 955 of 9557\n",
      "Processing index: 1910 of 9557\n",
      "Processing index: 2865 of 9557\n",
      "Processing index: 3820 of 9557\n",
      "Processing index: 4775 of 9557\n",
      "Processing index: 5730 of 9557\n",
      "Processing index: 6685 of 9557\n",
      "Processing index: 7640 of 9557\n",
      "Processing index: 8595 of 9557\n",
      "Processing index: 9550 of 9557\n"
     ]
    }
   ],
   "source": [
    "dict_ = {'paper_id': [], 'abstract': [], 'body_text': [], 'methods': [], 'results': []}\n",
    "for idx, entry in enumerate(all_json):\n",
    "    if idx % (len(all_json) // 10) == 0:\n",
    "        print(f'Processing index: {idx} of {len(all_json)}')\n",
    "    content = FileReader(entry)\n",
    "    dict_['paper_id'].append(content.paper_id)\n",
    "    dict_['abstract'].append(content.abstract)\n",
    "    dict_['body_text'].append(content.body_text)\n",
    "    dict_['methods'].append(content.methods)\n",
    "    dict_['results'].append(content.results)"
   ]
  },
  {
   "cell_type": "code",
   "execution_count": 9,
   "metadata": {},
   "outputs": [
    {
     "data": {
      "text/html": [
       "<div>\n",
       "<style scoped>\n",
       "    .dataframe tbody tr th:only-of-type {\n",
       "        vertical-align: middle;\n",
       "    }\n",
       "\n",
       "    .dataframe tbody tr th {\n",
       "        vertical-align: top;\n",
       "    }\n",
       "\n",
       "    .dataframe thead th {\n",
       "        text-align: right;\n",
       "    }\n",
       "</style>\n",
       "<table border=\"1\" class=\"dataframe\">\n",
       "  <thead>\n",
       "    <tr style=\"text-align: right;\">\n",
       "      <th></th>\n",
       "      <th>paper_id</th>\n",
       "      <th>abstract</th>\n",
       "      <th>body_text</th>\n",
       "      <th>methods</th>\n",
       "      <th>results</th>\n",
       "    </tr>\n",
       "  </thead>\n",
       "  <tbody>\n",
       "    <tr>\n",
       "      <th>0</th>\n",
       "      <td>5e0c586f047ff909c8ed3fe171c8975a90608d08</td>\n",
       "      <td>Background: Porcine epidemic diarrhea virus (P...</td>\n",
       "      <td>Porcine epidemic diarrhea virus (PEDV), which ...</td>\n",
       "      <td></td>\n",
       "      <td></td>\n",
       "    </tr>\n",
       "    <tr>\n",
       "      <th>1</th>\n",
       "      <td>1579fbff7af9b156c6f49fee0526e48f852ea460</td>\n",
       "      <td>Currently, live-attenuated IBV vaccines are us...</td>\n",
       "      <td>Generation of rNDVs expressing S1, S2 or S pro...</td>\n",
       "      <td></td>\n",
       "      <td>Generation of rNDVs expressing S1, S2 or S pro...</td>\n",
       "    </tr>\n",
       "    <tr>\n",
       "      <th>2</th>\n",
       "      <td>e0668c4b793d0cad26639b070819334a94648123</td>\n",
       "      <td></td>\n",
       "      <td>The incidence of complete Achilles tendon rupt...</td>\n",
       "      <td></td>\n",
       "      <td></td>\n",
       "    </tr>\n",
       "    <tr>\n",
       "      <th>3</th>\n",
       "      <td>38aa050ad79d8a1d7022c33535255ce9d47914e5</td>\n",
       "      <td>The new world arenavirus Junín virus (JUNV) is...</td>\n",
       "      <td>Arenaviruses are enveloped RNA viruses with bi...</td>\n",
       "      <td></td>\n",
       "      <td></td>\n",
       "    </tr>\n",
       "    <tr>\n",
       "      <th>4</th>\n",
       "      <td>61722c462b054f36461375e96e502cbf22648c04</td>\n",
       "      <td>and subtropical countries and is a significant...</td>\n",
       "      <td>In this study, the anti-dengue activity of nic...</td>\n",
       "      <td></td>\n",
       "      <td></td>\n",
       "    </tr>\n",
       "  </tbody>\n",
       "</table>\n",
       "</div>"
      ],
      "text/plain": [
       "                                   paper_id  \\\n",
       "0  5e0c586f047ff909c8ed3fe171c8975a90608d08   \n",
       "1  1579fbff7af9b156c6f49fee0526e48f852ea460   \n",
       "2  e0668c4b793d0cad26639b070819334a94648123   \n",
       "3  38aa050ad79d8a1d7022c33535255ce9d47914e5   \n",
       "4  61722c462b054f36461375e96e502cbf22648c04   \n",
       "\n",
       "                                            abstract  \\\n",
       "0  Background: Porcine epidemic diarrhea virus (P...   \n",
       "1  Currently, live-attenuated IBV vaccines are us...   \n",
       "2                                                      \n",
       "3  The new world arenavirus Junín virus (JUNV) is...   \n",
       "4  and subtropical countries and is a significant...   \n",
       "\n",
       "                                           body_text methods  \\\n",
       "0  Porcine epidemic diarrhea virus (PEDV), which ...           \n",
       "1  Generation of rNDVs expressing S1, S2 or S pro...           \n",
       "2  The incidence of complete Achilles tendon rupt...           \n",
       "3  Arenaviruses are enveloped RNA viruses with bi...           \n",
       "4  In this study, the anti-dengue activity of nic...           \n",
       "\n",
       "                                             results  \n",
       "0                                                     \n",
       "1  Generation of rNDVs expressing S1, S2 or S pro...  \n",
       "2                                                     \n",
       "3                                                     \n",
       "4                                                     "
      ]
     },
     "execution_count": 9,
     "metadata": {},
     "output_type": "execute_result"
    }
   ],
   "source": [
    "papers = pd.DataFrame(dict_, columns=['paper_id', 'abstract', 'body_text', 'methods', 'results'])\n",
    "papers.head()"
   ]
  },
  {
   "cell_type": "code",
   "execution_count": 10,
   "metadata": {},
   "outputs": [
    {
     "data": {
      "text/plain": [
       "(4606, 5)"
      ]
     },
     "execution_count": 10,
     "metadata": {},
     "output_type": "execute_result"
    }
   ],
   "source": [
    "papers[(papers.results.str.len() != 0) | (papers.methods.str.len() != 0)].shape"
   ]
  },
  {
   "cell_type": "code",
   "execution_count": 11,
   "metadata": {},
   "outputs": [],
   "source": [
    "df = pd.merge(papers, meta_df, left_on='paper_id', right_on='sha', how='left').drop('sha', axis=1)"
   ]
  },
  {
   "cell_type": "code",
   "execution_count": 12,
   "metadata": {},
   "outputs": [
    {
     "data": {
      "text/plain": [
       "Index(['paper_id', 'abstract_x', 'body_text', 'methods', 'results', 'cord_uid',\n",
       "       'source_x', 'title', 'doi', 'pmcid', 'pubmed_id', 'license',\n",
       "       'abstract_y', 'publish_time', 'authors', 'journal',\n",
       "       'Microsoft Academic Paper ID', 'WHO #Covidence', 'has_pdf_parse',\n",
       "       'has_pmc_xml_parse', 'full_text_file', 'url'],\n",
       "      dtype='object')"
      ]
     },
     "execution_count": 12,
     "metadata": {},
     "output_type": "execute_result"
    }
   ],
   "source": [
    "df.columns"
   ]
  },
  {
   "cell_type": "markdown",
   "metadata": {},
   "source": [
    "# Commercial use pmc_json"
   ]
  },
  {
   "cell_type": "markdown",
   "metadata": {},
   "source": [
    "This only contains the full text - no abstracts!"
   ]
  },
  {
   "cell_type": "code",
   "execution_count": 13,
   "metadata": {},
   "outputs": [
    {
     "name": "stdout",
     "output_type": "stream",
     "text": [
      "PMC5396510: Gold nanoparticles (GNPs) have attracted significant interest as a novel platform in nanobiotechnology and biomedicine because of their convenient surface bioconjugation with molecular probes1 and the...\n"
     ]
    }
   ],
   "source": [
    "class FileReader:\n",
    "    def __init__(self, file_path):\n",
    "        with open(file_path) as file:\n",
    "            content = json.load(file)\n",
    "            self.paper_id = content['paper_id']\n",
    "            self.body_text = []\n",
    "            self.methods = []\n",
    "            self.results = []\n",
    "\n",
    "            # Body text\n",
    "            for entry in content['body_text']:\n",
    "                self.body_text.append(entry['text'])\n",
    "            # Methods\n",
    "            methods = ['methods','method','statistical methods','materials','materials and methods',\n",
    "                'data collection','the study','study design','experimental design','objective',\n",
    "                'objectives','procedures','data collection and analysis', 'methodology',\n",
    "                'material and methods','the model','experimental procedures','main text']\n",
    "            for entry in content['body_text']:\n",
    "                section_title = ''.join(x.lower() for x in entry['section'] if x.isalpha()) #remove numbers and spaces\n",
    "                if any(m in section_title for m in [''.join(x.lower() for x in m if x.isalpha()) for m in methods]) : \n",
    "                    self.methods.append(entry['text'])\n",
    "            # Results\n",
    "            results_synonyms = ['result']\n",
    "            for entry in content['body_text']:\n",
    "                section_title = ''.join(x.lower() for x in entry['section'] if x.isalpha())\n",
    "                if any(r in section_title for r in results_synonyms) :\n",
    "                    self.results.append(entry['text'])\n",
    "                    \n",
    "            self.body_text = '\\n'.join(self.body_text)\n",
    "            self.methods = '\\n'.join(self.methods)\n",
    "            self.results = '\\n'.join(self.results)\n",
    "\n",
    "    def __repr__(self):\n",
    "        return f'{self.paper_id}: {self.body_text[:200]}...'\n",
    "first_row = FileReader(all_json_pmc[0])\n",
    "print(first_row)"
   ]
  },
  {
   "cell_type": "code",
   "execution_count": 14,
   "metadata": {},
   "outputs": [
    {
     "name": "stdout",
     "output_type": "stream",
     "text": [
      "Processing index: 0 of 9189\n",
      "Processing index: 918 of 9189\n",
      "Processing index: 1836 of 9189\n",
      "Processing index: 2754 of 9189\n",
      "Processing index: 3672 of 9189\n",
      "Processing index: 4590 of 9189\n",
      "Processing index: 5508 of 9189\n",
      "Processing index: 6426 of 9189\n",
      "Processing index: 7344 of 9189\n",
      "Processing index: 8262 of 9189\n",
      "Processing index: 9180 of 9189\n"
     ]
    }
   ],
   "source": [
    "dict_ = {'paper_id': [], 'body_text': [], 'methods': [], 'results': []}\n",
    "for idx, entry in enumerate(all_json_pmc):\n",
    "    if idx % (len(all_json_pmc) // 10) == 0:\n",
    "        print(f'Processing index: {idx} of {len(all_json_pmc)}')\n",
    "    content = FileReader(entry)\n",
    "    dict_['paper_id'].append(content.paper_id)\n",
    "    dict_['body_text'].append(content.body_text)\n",
    "    dict_['methods'].append(content.methods)\n",
    "    dict_['results'].append(content.results)"
   ]
  },
  {
   "cell_type": "code",
   "execution_count": 15,
   "metadata": {},
   "outputs": [
    {
     "data": {
      "text/html": [
       "<div>\n",
       "<style scoped>\n",
       "    .dataframe tbody tr th:only-of-type {\n",
       "        vertical-align: middle;\n",
       "    }\n",
       "\n",
       "    .dataframe tbody tr th {\n",
       "        vertical-align: top;\n",
       "    }\n",
       "\n",
       "    .dataframe thead th {\n",
       "        text-align: right;\n",
       "    }\n",
       "</style>\n",
       "<table border=\"1\" class=\"dataframe\">\n",
       "  <thead>\n",
       "    <tr style=\"text-align: right;\">\n",
       "      <th></th>\n",
       "      <th>paper_id</th>\n",
       "      <th>body_text</th>\n",
       "      <th>methods</th>\n",
       "      <th>results</th>\n",
       "    </tr>\n",
       "  </thead>\n",
       "  <tbody>\n",
       "    <tr>\n",
       "      <th>0</th>\n",
       "      <td>PMC5396510</td>\n",
       "      <td>Gold nanoparticles (GNPs) have attracted signi...</td>\n",
       "      <td></td>\n",
       "      <td></td>\n",
       "    </tr>\n",
       "    <tr>\n",
       "      <th>1</th>\n",
       "      <td>PMC5678581</td>\n",
       "      <td>More than 300 novel RNA-binding proteins have ...</td>\n",
       "      <td>EMSAs were performed with an end-labeled pre-l...</td>\n",
       "      <td>TRIM25 is known to associate with RNAs in cell...</td>\n",
       "    </tr>\n",
       "    <tr>\n",
       "      <th>2</th>\n",
       "      <td>PMC3795028</td>\n",
       "      <td>Post-translational modification of proteins by...</td>\n",
       "      <td>DL-Dithiothreitol (DTT, D0632), N-Ethylmaleimi...</td>\n",
       "      <td>The Akata-Bx1 cell line was used to study the ...</td>\n",
       "    </tr>\n",
       "    <tr>\n",
       "      <th>3</th>\n",
       "      <td>PMC2860491</td>\n",
       "      <td>Chikungunya virus (CHIKV), a mosquito-borne pa...</td>\n",
       "      <td></td>\n",
       "      <td>CHIKV undertakes a complex replication cycle u...</td>\n",
       "    </tr>\n",
       "    <tr>\n",
       "      <th>4</th>\n",
       "      <td>PMC3256159</td>\n",
       "      <td>Viruses have evolved as genome packaging machi...</td>\n",
       "      <td>Zaire Ebolavirus was propagated in Vero E6 cel...</td>\n",
       "      <td>We identified filamentous EBOV particles 20 mi...</td>\n",
       "    </tr>\n",
       "  </tbody>\n",
       "</table>\n",
       "</div>"
      ],
      "text/plain": [
       "     paper_id                                          body_text  \\\n",
       "0  PMC5396510  Gold nanoparticles (GNPs) have attracted signi...   \n",
       "1  PMC5678581  More than 300 novel RNA-binding proteins have ...   \n",
       "2  PMC3795028  Post-translational modification of proteins by...   \n",
       "3  PMC2860491  Chikungunya virus (CHIKV), a mosquito-borne pa...   \n",
       "4  PMC3256159  Viruses have evolved as genome packaging machi...   \n",
       "\n",
       "                                             methods  \\\n",
       "0                                                      \n",
       "1  EMSAs were performed with an end-labeled pre-l...   \n",
       "2  DL-Dithiothreitol (DTT, D0632), N-Ethylmaleimi...   \n",
       "3                                                      \n",
       "4  Zaire Ebolavirus was propagated in Vero E6 cel...   \n",
       "\n",
       "                                             results  \n",
       "0                                                     \n",
       "1  TRIM25 is known to associate with RNAs in cell...  \n",
       "2  The Akata-Bx1 cell line was used to study the ...  \n",
       "3  CHIKV undertakes a complex replication cycle u...  \n",
       "4  We identified filamentous EBOV particles 20 mi...  "
      ]
     },
     "execution_count": 15,
     "metadata": {},
     "output_type": "execute_result"
    }
   ],
   "source": [
    "pmc_text = pd.DataFrame(dict_, columns=['paper_id', 'body_text', 'methods', 'results'])\n",
    "pmc_text.head()"
   ]
  },
  {
   "cell_type": "code",
   "execution_count": 16,
   "metadata": {},
   "outputs": [
    {
     "data": {
      "text/plain": [
       "(9189, 4)"
      ]
     },
     "execution_count": 16,
     "metadata": {},
     "output_type": "execute_result"
    }
   ],
   "source": [
    "pmc_text.shape"
   ]
  },
  {
   "cell_type": "markdown",
   "metadata": {},
   "source": [
    "Careful, some of the new texts are empty strings!"
   ]
  },
  {
   "cell_type": "code",
   "execution_count": 17,
   "metadata": {},
   "outputs": [
    {
     "data": {
      "text/html": [
       "<div>\n",
       "<style scoped>\n",
       "    .dataframe tbody tr th:only-of-type {\n",
       "        vertical-align: middle;\n",
       "    }\n",
       "\n",
       "    .dataframe tbody tr th {\n",
       "        vertical-align: top;\n",
       "    }\n",
       "\n",
       "    .dataframe thead th {\n",
       "        text-align: right;\n",
       "    }\n",
       "</style>\n",
       "<table border=\"1\" class=\"dataframe\">\n",
       "  <thead>\n",
       "    <tr style=\"text-align: right;\">\n",
       "      <th></th>\n",
       "      <th>paper_id</th>\n",
       "      <th>body_text</th>\n",
       "      <th>methods</th>\n",
       "      <th>results</th>\n",
       "    </tr>\n",
       "  </thead>\n",
       "  <tbody>\n",
       "    <tr>\n",
       "      <th>144</th>\n",
       "      <td>PMC7088756</td>\n",
       "      <td></td>\n",
       "      <td></td>\n",
       "      <td></td>\n",
       "    </tr>\n",
       "    <tr>\n",
       "      <th>180</th>\n",
       "      <td>PMC7078228</td>\n",
       "      <td></td>\n",
       "      <td></td>\n",
       "      <td></td>\n",
       "    </tr>\n",
       "    <tr>\n",
       "      <th>200</th>\n",
       "      <td>PMC7108780</td>\n",
       "      <td></td>\n",
       "      <td></td>\n",
       "      <td></td>\n",
       "    </tr>\n",
       "    <tr>\n",
       "      <th>687</th>\n",
       "      <td>PMC5854734</td>\n",
       "      <td></td>\n",
       "      <td></td>\n",
       "      <td></td>\n",
       "    </tr>\n",
       "    <tr>\n",
       "      <th>939</th>\n",
       "      <td>PMC7089303</td>\n",
       "      <td></td>\n",
       "      <td></td>\n",
       "      <td></td>\n",
       "    </tr>\n",
       "    <tr>\n",
       "      <th>...</th>\n",
       "      <td>...</td>\n",
       "      <td>...</td>\n",
       "      <td>...</td>\n",
       "      <td>...</td>\n",
       "    </tr>\n",
       "    <tr>\n",
       "      <th>8804</th>\n",
       "      <td>PMC3570808</td>\n",
       "      <td></td>\n",
       "      <td></td>\n",
       "      <td></td>\n",
       "    </tr>\n",
       "    <tr>\n",
       "      <th>8819</th>\n",
       "      <td>PMC6258726</td>\n",
       "      <td></td>\n",
       "      <td></td>\n",
       "      <td></td>\n",
       "    </tr>\n",
       "    <tr>\n",
       "      <th>8943</th>\n",
       "      <td>PMC7089429</td>\n",
       "      <td></td>\n",
       "      <td></td>\n",
       "      <td></td>\n",
       "    </tr>\n",
       "    <tr>\n",
       "      <th>9044</th>\n",
       "      <td>PMC7048180</td>\n",
       "      <td></td>\n",
       "      <td></td>\n",
       "      <td></td>\n",
       "    </tr>\n",
       "    <tr>\n",
       "      <th>9187</th>\n",
       "      <td>PMC2276106</td>\n",
       "      <td></td>\n",
       "      <td></td>\n",
       "      <td></td>\n",
       "    </tr>\n",
       "  </tbody>\n",
       "</table>\n",
       "<p>71 rows × 4 columns</p>\n",
       "</div>"
      ],
      "text/plain": [
       "        paper_id body_text methods results\n",
       "144   PMC7088756                          \n",
       "180   PMC7078228                          \n",
       "200   PMC7108780                          \n",
       "687   PMC5854734                          \n",
       "939   PMC7089303                          \n",
       "...          ...       ...     ...     ...\n",
       "8804  PMC3570808                          \n",
       "8819  PMC6258726                          \n",
       "8943  PMC7089429                          \n",
       "9044  PMC7048180                          \n",
       "9187  PMC2276106                          \n",
       "\n",
       "[71 rows x 4 columns]"
      ]
     },
     "execution_count": 17,
     "metadata": {},
     "output_type": "execute_result"
    }
   ],
   "source": [
    "pmc_text[pmc_text.body_text == '']"
   ]
  },
  {
   "cell_type": "code",
   "execution_count": 18,
   "metadata": {},
   "outputs": [],
   "source": [
    "pmc_text = pmc_text[pmc_text.body_text != '']"
   ]
  },
  {
   "cell_type": "code",
   "execution_count": 19,
   "metadata": {},
   "outputs": [
    {
     "data": {
      "text/plain": [
       "(9118, 4)"
      ]
     },
     "execution_count": 19,
     "metadata": {},
     "output_type": "execute_result"
    }
   ],
   "source": [
    "pmc_text.shape"
   ]
  },
  {
   "cell_type": "code",
   "execution_count": 20,
   "metadata": {},
   "outputs": [
    {
     "data": {
      "text/html": [
       "<div>\n",
       "<style scoped>\n",
       "    .dataframe tbody tr th:only-of-type {\n",
       "        vertical-align: middle;\n",
       "    }\n",
       "\n",
       "    .dataframe tbody tr th {\n",
       "        vertical-align: top;\n",
       "    }\n",
       "\n",
       "    .dataframe thead th {\n",
       "        text-align: right;\n",
       "    }\n",
       "</style>\n",
       "<table border=\"1\" class=\"dataframe\">\n",
       "  <thead>\n",
       "    <tr style=\"text-align: right;\">\n",
       "      <th></th>\n",
       "      <th>paper_id</th>\n",
       "      <th>abstract_x</th>\n",
       "      <th>body_text</th>\n",
       "      <th>methods</th>\n",
       "      <th>results</th>\n",
       "      <th>cord_uid</th>\n",
       "      <th>source_x</th>\n",
       "      <th>title</th>\n",
       "      <th>doi</th>\n",
       "      <th>pmcid</th>\n",
       "      <th>...</th>\n",
       "      <th>abstract_y</th>\n",
       "      <th>publish_time</th>\n",
       "      <th>authors</th>\n",
       "      <th>journal</th>\n",
       "      <th>Microsoft Academic Paper ID</th>\n",
       "      <th>WHO #Covidence</th>\n",
       "      <th>has_pdf_parse</th>\n",
       "      <th>has_pmc_xml_parse</th>\n",
       "      <th>full_text_file</th>\n",
       "      <th>url</th>\n",
       "    </tr>\n",
       "  </thead>\n",
       "  <tbody>\n",
       "    <tr>\n",
       "      <th>0</th>\n",
       "      <td>5e0c586f047ff909c8ed3fe171c8975a90608d08</td>\n",
       "      <td>Background: Porcine epidemic diarrhea virus (P...</td>\n",
       "      <td>Porcine epidemic diarrhea virus (PEDV), which ...</td>\n",
       "      <td></td>\n",
       "      <td></td>\n",
       "      <td>25tcxise</td>\n",
       "      <td>PMC</td>\n",
       "      <td>Neutralizing antibodies against porcine epidem...</td>\n",
       "      <td>10.1186/s12985-018-1042-3</td>\n",
       "      <td>PMC6117962</td>\n",
       "      <td>...</td>\n",
       "      <td>BACKGROUND: Porcine epidemic diarrhea virus (P...</td>\n",
       "      <td>2018-08-30</td>\n",
       "      <td>Gong, Lang; Lin, Ying; Qin, Jianru; Li, Qianni...</td>\n",
       "      <td>Virol J</td>\n",
       "      <td>NaN</td>\n",
       "      <td>NaN</td>\n",
       "      <td>True</td>\n",
       "      <td>True</td>\n",
       "      <td>comm_use_subset</td>\n",
       "      <td>https://www.ncbi.nlm.nih.gov/pmc/articles/PMC6...</td>\n",
       "    </tr>\n",
       "    <tr>\n",
       "      <th>1</th>\n",
       "      <td>1579fbff7af9b156c6f49fee0526e48f852ea460</td>\n",
       "      <td>Currently, live-attenuated IBV vaccines are us...</td>\n",
       "      <td>Generation of rNDVs expressing S1, S2 or S pro...</td>\n",
       "      <td></td>\n",
       "      <td>Generation of rNDVs expressing S1, S2 or S pro...</td>\n",
       "      <td>o7y3wygc</td>\n",
       "      <td>PMC</td>\n",
       "      <td>A Recombinant Newcastle Disease Virus (NDV) Ex...</td>\n",
       "      <td>10.1038/s41598-018-30356-2</td>\n",
       "      <td>PMC6086832</td>\n",
       "      <td>...</td>\n",
       "      <td>Infectious bronchitis virus (IBV) causes a hig...</td>\n",
       "      <td>2018-08-10</td>\n",
       "      <td>Shirvani, Edris; Paldurai, Anandan; Manoharan,...</td>\n",
       "      <td>Sci Rep</td>\n",
       "      <td>NaN</td>\n",
       "      <td>NaN</td>\n",
       "      <td>True</td>\n",
       "      <td>True</td>\n",
       "      <td>comm_use_subset</td>\n",
       "      <td>https://www.ncbi.nlm.nih.gov/pmc/articles/PMC6...</td>\n",
       "    </tr>\n",
       "    <tr>\n",
       "      <th>2</th>\n",
       "      <td>e0668c4b793d0cad26639b070819334a94648123</td>\n",
       "      <td></td>\n",
       "      <td>The incidence of complete Achilles tendon rupt...</td>\n",
       "      <td></td>\n",
       "      <td></td>\n",
       "      <td>6h34gp3x</td>\n",
       "      <td>PMC</td>\n",
       "      <td>‘Hajj: what it means for general practice’</td>\n",
       "      <td>10.3399/bjgpopen18x101493</td>\n",
       "      <td>PMC6184103</td>\n",
       "      <td>...</td>\n",
       "      <td>NaN</td>\n",
       "      <td>2018-04-18</td>\n",
       "      <td>Mughal, Faraz; Chew-Graham, Carolyn A; Saad, A...</td>\n",
       "      <td>BJGP Open</td>\n",
       "      <td>NaN</td>\n",
       "      <td>NaN</td>\n",
       "      <td>True</td>\n",
       "      <td>True</td>\n",
       "      <td>comm_use_subset</td>\n",
       "      <td>https://www.ncbi.nlm.nih.gov/pmc/articles/PMC6...</td>\n",
       "    </tr>\n",
       "    <tr>\n",
       "      <th>3</th>\n",
       "      <td>38aa050ad79d8a1d7022c33535255ce9d47914e5</td>\n",
       "      <td>The new world arenavirus Junín virus (JUNV) is...</td>\n",
       "      <td>Arenaviruses are enveloped RNA viruses with bi...</td>\n",
       "      <td></td>\n",
       "      <td></td>\n",
       "      <td>7smnk0ob</td>\n",
       "      <td>PMC</td>\n",
       "      <td>Potent Inhibition of Junín Virus Infection by ...</td>\n",
       "      <td>10.1371/journal.pntd.0002933</td>\n",
       "      <td>PMC4046933</td>\n",
       "      <td>...</td>\n",
       "      <td>The new world arenavirus Junín virus (JUNV) is...</td>\n",
       "      <td>2014-06-05</td>\n",
       "      <td>Huang, Cheng; Walker, Aida G.; Grant, Ashley M...</td>\n",
       "      <td>PLoS Negl Trop Dis</td>\n",
       "      <td>NaN</td>\n",
       "      <td>NaN</td>\n",
       "      <td>True</td>\n",
       "      <td>True</td>\n",
       "      <td>comm_use_subset</td>\n",
       "      <td>https://www.ncbi.nlm.nih.gov/pmc/articles/PMC4...</td>\n",
       "    </tr>\n",
       "    <tr>\n",
       "      <th>4</th>\n",
       "      <td>61722c462b054f36461375e96e502cbf22648c04</td>\n",
       "      <td>and subtropical countries and is a significant...</td>\n",
       "      <td>In this study, the anti-dengue activity of nic...</td>\n",
       "      <td></td>\n",
       "      <td></td>\n",
       "      <td>wmfwl2bh</td>\n",
       "      <td>PMC</td>\n",
       "      <td>Neutralization of Acidic Intracellular Vesicle...</td>\n",
       "      <td>10.1038/s41598-019-45095-1</td>\n",
       "      <td>PMC6582152</td>\n",
       "      <td>...</td>\n",
       "      <td>Dengue fever is one of the most important mosq...</td>\n",
       "      <td>2019-06-18</td>\n",
       "      <td>Jung, Eunhye; Nam, Sangwoo; Oh, Hyeryeon; Jun,...</td>\n",
       "      <td>Sci Rep</td>\n",
       "      <td>NaN</td>\n",
       "      <td>NaN</td>\n",
       "      <td>True</td>\n",
       "      <td>True</td>\n",
       "      <td>comm_use_subset</td>\n",
       "      <td>https://www.ncbi.nlm.nih.gov/pmc/articles/PMC6...</td>\n",
       "    </tr>\n",
       "  </tbody>\n",
       "</table>\n",
       "<p>5 rows × 22 columns</p>\n",
       "</div>"
      ],
      "text/plain": [
       "                                   paper_id  \\\n",
       "0  5e0c586f047ff909c8ed3fe171c8975a90608d08   \n",
       "1  1579fbff7af9b156c6f49fee0526e48f852ea460   \n",
       "2  e0668c4b793d0cad26639b070819334a94648123   \n",
       "3  38aa050ad79d8a1d7022c33535255ce9d47914e5   \n",
       "4  61722c462b054f36461375e96e502cbf22648c04   \n",
       "\n",
       "                                          abstract_x  \\\n",
       "0  Background: Porcine epidemic diarrhea virus (P...   \n",
       "1  Currently, live-attenuated IBV vaccines are us...   \n",
       "2                                                      \n",
       "3  The new world arenavirus Junín virus (JUNV) is...   \n",
       "4  and subtropical countries and is a significant...   \n",
       "\n",
       "                                           body_text methods  \\\n",
       "0  Porcine epidemic diarrhea virus (PEDV), which ...           \n",
       "1  Generation of rNDVs expressing S1, S2 or S pro...           \n",
       "2  The incidence of complete Achilles tendon rupt...           \n",
       "3  Arenaviruses are enveloped RNA viruses with bi...           \n",
       "4  In this study, the anti-dengue activity of nic...           \n",
       "\n",
       "                                             results  cord_uid source_x  \\\n",
       "0                                                     25tcxise      PMC   \n",
       "1  Generation of rNDVs expressing S1, S2 or S pro...  o7y3wygc      PMC   \n",
       "2                                                     6h34gp3x      PMC   \n",
       "3                                                     7smnk0ob      PMC   \n",
       "4                                                     wmfwl2bh      PMC   \n",
       "\n",
       "                                               title  \\\n",
       "0  Neutralizing antibodies against porcine epidem...   \n",
       "1  A Recombinant Newcastle Disease Virus (NDV) Ex...   \n",
       "2         ‘Hajj: what it means for general practice’   \n",
       "3  Potent Inhibition of Junín Virus Infection by ...   \n",
       "4  Neutralization of Acidic Intracellular Vesicle...   \n",
       "\n",
       "                            doi       pmcid  ...  \\\n",
       "0     10.1186/s12985-018-1042-3  PMC6117962  ...   \n",
       "1    10.1038/s41598-018-30356-2  PMC6086832  ...   \n",
       "2     10.3399/bjgpopen18x101493  PMC6184103  ...   \n",
       "3  10.1371/journal.pntd.0002933  PMC4046933  ...   \n",
       "4    10.1038/s41598-019-45095-1  PMC6582152  ...   \n",
       "\n",
       "                                          abstract_y publish_time  \\\n",
       "0  BACKGROUND: Porcine epidemic diarrhea virus (P...   2018-08-30   \n",
       "1  Infectious bronchitis virus (IBV) causes a hig...   2018-08-10   \n",
       "2                                                NaN   2018-04-18   \n",
       "3  The new world arenavirus Junín virus (JUNV) is...   2014-06-05   \n",
       "4  Dengue fever is one of the most important mosq...   2019-06-18   \n",
       "\n",
       "                                             authors             journal  \\\n",
       "0  Gong, Lang; Lin, Ying; Qin, Jianru; Li, Qianni...             Virol J   \n",
       "1  Shirvani, Edris; Paldurai, Anandan; Manoharan,...             Sci Rep   \n",
       "2  Mughal, Faraz; Chew-Graham, Carolyn A; Saad, A...           BJGP Open   \n",
       "3  Huang, Cheng; Walker, Aida G.; Grant, Ashley M...  PLoS Negl Trop Dis   \n",
       "4  Jung, Eunhye; Nam, Sangwoo; Oh, Hyeryeon; Jun,...             Sci Rep   \n",
       "\n",
       "  Microsoft Academic Paper ID WHO #Covidence has_pdf_parse has_pmc_xml_parse  \\\n",
       "0                         NaN            NaN          True              True   \n",
       "1                         NaN            NaN          True              True   \n",
       "2                         NaN            NaN          True              True   \n",
       "3                         NaN            NaN          True              True   \n",
       "4                         NaN            NaN          True              True   \n",
       "\n",
       "    full_text_file                                                url  \n",
       "0  comm_use_subset  https://www.ncbi.nlm.nih.gov/pmc/articles/PMC6...  \n",
       "1  comm_use_subset  https://www.ncbi.nlm.nih.gov/pmc/articles/PMC6...  \n",
       "2  comm_use_subset  https://www.ncbi.nlm.nih.gov/pmc/articles/PMC6...  \n",
       "3  comm_use_subset  https://www.ncbi.nlm.nih.gov/pmc/articles/PMC4...  \n",
       "4  comm_use_subset  https://www.ncbi.nlm.nih.gov/pmc/articles/PMC6...  \n",
       "\n",
       "[5 rows x 22 columns]"
      ]
     },
     "execution_count": 20,
     "metadata": {},
     "output_type": "execute_result"
    }
   ],
   "source": [
    "df.head()"
   ]
  },
  {
   "cell_type": "code",
   "execution_count": 21,
   "metadata": {},
   "outputs": [],
   "source": [
    "df = pd.merge(df, pmc_text, left_on='pmcid', right_on='paper_id', how='left')"
   ]
  },
  {
   "cell_type": "code",
   "execution_count": 22,
   "metadata": {},
   "outputs": [
    {
     "data": {
      "text/html": [
       "<div>\n",
       "<style scoped>\n",
       "    .dataframe tbody tr th:only-of-type {\n",
       "        vertical-align: middle;\n",
       "    }\n",
       "\n",
       "    .dataframe tbody tr th {\n",
       "        vertical-align: top;\n",
       "    }\n",
       "\n",
       "    .dataframe thead th {\n",
       "        text-align: right;\n",
       "    }\n",
       "</style>\n",
       "<table border=\"1\" class=\"dataframe\">\n",
       "  <thead>\n",
       "    <tr style=\"text-align: right;\">\n",
       "      <th></th>\n",
       "      <th>paper_id_x</th>\n",
       "      <th>abstract_x</th>\n",
       "      <th>body_text_x</th>\n",
       "      <th>methods_x</th>\n",
       "      <th>results_x</th>\n",
       "      <th>cord_uid</th>\n",
       "      <th>source_x</th>\n",
       "      <th>title</th>\n",
       "      <th>doi</th>\n",
       "      <th>pmcid</th>\n",
       "      <th>...</th>\n",
       "      <th>Microsoft Academic Paper ID</th>\n",
       "      <th>WHO #Covidence</th>\n",
       "      <th>has_pdf_parse</th>\n",
       "      <th>has_pmc_xml_parse</th>\n",
       "      <th>full_text_file</th>\n",
       "      <th>url</th>\n",
       "      <th>paper_id_y</th>\n",
       "      <th>body_text_y</th>\n",
       "      <th>methods_y</th>\n",
       "      <th>results_y</th>\n",
       "    </tr>\n",
       "  </thead>\n",
       "  <tbody>\n",
       "    <tr>\n",
       "      <th>0</th>\n",
       "      <td>5e0c586f047ff909c8ed3fe171c8975a90608d08</td>\n",
       "      <td>Background: Porcine epidemic diarrhea virus (P...</td>\n",
       "      <td>Porcine epidemic diarrhea virus (PEDV), which ...</td>\n",
       "      <td></td>\n",
       "      <td></td>\n",
       "      <td>25tcxise</td>\n",
       "      <td>PMC</td>\n",
       "      <td>Neutralizing antibodies against porcine epidem...</td>\n",
       "      <td>10.1186/s12985-018-1042-3</td>\n",
       "      <td>PMC6117962</td>\n",
       "      <td>...</td>\n",
       "      <td>NaN</td>\n",
       "      <td>NaN</td>\n",
       "      <td>True</td>\n",
       "      <td>True</td>\n",
       "      <td>comm_use_subset</td>\n",
       "      <td>https://www.ncbi.nlm.nih.gov/pmc/articles/PMC6...</td>\n",
       "      <td>PMC6117962</td>\n",
       "      <td>Porcine epidemic diarrhea virus (PEDV), which ...</td>\n",
       "      <td>The Vero E6 cell line was cultured and maintai...</td>\n",
       "      <td>PEDV concentration was enriched 100 fold and p...</td>\n",
       "    </tr>\n",
       "    <tr>\n",
       "      <th>1</th>\n",
       "      <td>1579fbff7af9b156c6f49fee0526e48f852ea460</td>\n",
       "      <td>Currently, live-attenuated IBV vaccines are us...</td>\n",
       "      <td>Generation of rNDVs expressing S1, S2 or S pro...</td>\n",
       "      <td></td>\n",
       "      <td>Generation of rNDVs expressing S1, S2 or S pro...</td>\n",
       "      <td>o7y3wygc</td>\n",
       "      <td>PMC</td>\n",
       "      <td>A Recombinant Newcastle Disease Virus (NDV) Ex...</td>\n",
       "      <td>10.1038/s41598-018-30356-2</td>\n",
       "      <td>PMC6086832</td>\n",
       "      <td>...</td>\n",
       "      <td>NaN</td>\n",
       "      <td>NaN</td>\n",
       "      <td>True</td>\n",
       "      <td>True</td>\n",
       "      <td>comm_use_subset</td>\n",
       "      <td>https://www.ncbi.nlm.nih.gov/pmc/articles/PMC6...</td>\n",
       "      <td>PMC6086832</td>\n",
       "      <td>Infectious Bronchitis (IB) is an acute and hig...</td>\n",
       "      <td>Chicken embryo fibroblast (DF-1) cells and hum...</td>\n",
       "      <td>The expression cassettes containing the codon ...</td>\n",
       "    </tr>\n",
       "    <tr>\n",
       "      <th>2</th>\n",
       "      <td>e0668c4b793d0cad26639b070819334a94648123</td>\n",
       "      <td></td>\n",
       "      <td>The incidence of complete Achilles tendon rupt...</td>\n",
       "      <td></td>\n",
       "      <td></td>\n",
       "      <td>6h34gp3x</td>\n",
       "      <td>PMC</td>\n",
       "      <td>‘Hajj: what it means for general practice’</td>\n",
       "      <td>10.3399/bjgpopen18x101493</td>\n",
       "      <td>PMC6184103</td>\n",
       "      <td>...</td>\n",
       "      <td>NaN</td>\n",
       "      <td>NaN</td>\n",
       "      <td>True</td>\n",
       "      <td>True</td>\n",
       "      <td>comm_use_subset</td>\n",
       "      <td>https://www.ncbi.nlm.nih.gov/pmc/articles/PMC6...</td>\n",
       "      <td>PMC6184103</td>\n",
       "      <td>Hajj is the fifth pillar of Islam and is descr...</td>\n",
       "      <td></td>\n",
       "      <td></td>\n",
       "    </tr>\n",
       "  </tbody>\n",
       "</table>\n",
       "<p>3 rows × 26 columns</p>\n",
       "</div>"
      ],
      "text/plain": [
       "                                 paper_id_x  \\\n",
       "0  5e0c586f047ff909c8ed3fe171c8975a90608d08   \n",
       "1  1579fbff7af9b156c6f49fee0526e48f852ea460   \n",
       "2  e0668c4b793d0cad26639b070819334a94648123   \n",
       "\n",
       "                                          abstract_x  \\\n",
       "0  Background: Porcine epidemic diarrhea virus (P...   \n",
       "1  Currently, live-attenuated IBV vaccines are us...   \n",
       "2                                                      \n",
       "\n",
       "                                         body_text_x methods_x  \\\n",
       "0  Porcine epidemic diarrhea virus (PEDV), which ...             \n",
       "1  Generation of rNDVs expressing S1, S2 or S pro...             \n",
       "2  The incidence of complete Achilles tendon rupt...             \n",
       "\n",
       "                                           results_x  cord_uid source_x  \\\n",
       "0                                                     25tcxise      PMC   \n",
       "1  Generation of rNDVs expressing S1, S2 or S pro...  o7y3wygc      PMC   \n",
       "2                                                     6h34gp3x      PMC   \n",
       "\n",
       "                                               title  \\\n",
       "0  Neutralizing antibodies against porcine epidem...   \n",
       "1  A Recombinant Newcastle Disease Virus (NDV) Ex...   \n",
       "2         ‘Hajj: what it means for general practice’   \n",
       "\n",
       "                          doi       pmcid  ... Microsoft Academic Paper ID  \\\n",
       "0   10.1186/s12985-018-1042-3  PMC6117962  ...                         NaN   \n",
       "1  10.1038/s41598-018-30356-2  PMC6086832  ...                         NaN   \n",
       "2   10.3399/bjgpopen18x101493  PMC6184103  ...                         NaN   \n",
       "\n",
       "  WHO #Covidence has_pdf_parse has_pmc_xml_parse   full_text_file  \\\n",
       "0            NaN          True              True  comm_use_subset   \n",
       "1            NaN          True              True  comm_use_subset   \n",
       "2            NaN          True              True  comm_use_subset   \n",
       "\n",
       "                                                 url  paper_id_y  \\\n",
       "0  https://www.ncbi.nlm.nih.gov/pmc/articles/PMC6...  PMC6117962   \n",
       "1  https://www.ncbi.nlm.nih.gov/pmc/articles/PMC6...  PMC6086832   \n",
       "2  https://www.ncbi.nlm.nih.gov/pmc/articles/PMC6...  PMC6184103   \n",
       "\n",
       "                                         body_text_y  \\\n",
       "0  Porcine epidemic diarrhea virus (PEDV), which ...   \n",
       "1  Infectious Bronchitis (IB) is an acute and hig...   \n",
       "2  Hajj is the fifth pillar of Islam and is descr...   \n",
       "\n",
       "                                           methods_y  \\\n",
       "0  The Vero E6 cell line was cultured and maintai...   \n",
       "1  Chicken embryo fibroblast (DF-1) cells and hum...   \n",
       "2                                                      \n",
       "\n",
       "                                           results_y  \n",
       "0  PEDV concentration was enriched 100 fold and p...  \n",
       "1  The expression cassettes containing the codon ...  \n",
       "2                                                     \n",
       "\n",
       "[3 rows x 26 columns]"
      ]
     },
     "execution_count": 22,
     "metadata": {},
     "output_type": "execute_result"
    }
   ],
   "source": [
    "df.head(3)"
   ]
  },
  {
   "cell_type": "code",
   "execution_count": 23,
   "metadata": {},
   "outputs": [
    {
     "data": {
      "text/plain": [
       "Index(['paper_id_x', 'abstract_x', 'body_text_x', 'methods_x', 'results_x',\n",
       "       'cord_uid', 'source_x', 'title', 'doi', 'pmcid', 'pubmed_id', 'license',\n",
       "       'abstract_y', 'publish_time', 'authors', 'journal',\n",
       "       'Microsoft Academic Paper ID', 'WHO #Covidence', 'has_pdf_parse',\n",
       "       'has_pmc_xml_parse', 'full_text_file', 'url', 'paper_id_y',\n",
       "       'body_text_y', 'methods_y', 'results_y'],\n",
       "      dtype='object')"
      ]
     },
     "execution_count": 23,
     "metadata": {},
     "output_type": "execute_result"
    }
   ],
   "source": [
    "df.columns"
   ]
  },
  {
   "cell_type": "code",
   "execution_count": 24,
   "metadata": {},
   "outputs": [],
   "source": [
    "#df.drop(columns=['has_pdf_parse', 'has_pmc_xml_parse', 'Microsoft Academic Paper ID', 'WHO #Covidence'], inplace=True)"
   ]
  },
  {
   "cell_type": "code",
   "execution_count": 25,
   "metadata": {},
   "outputs": [
    {
     "data": {
      "text/html": [
       "<div>\n",
       "<style scoped>\n",
       "    .dataframe tbody tr th:only-of-type {\n",
       "        vertical-align: middle;\n",
       "    }\n",
       "\n",
       "    .dataframe tbody tr th {\n",
       "        vertical-align: top;\n",
       "    }\n",
       "\n",
       "    .dataframe thead th {\n",
       "        text-align: right;\n",
       "    }\n",
       "</style>\n",
       "<table border=\"1\" class=\"dataframe\">\n",
       "  <thead>\n",
       "    <tr style=\"text-align: right;\">\n",
       "      <th></th>\n",
       "      <th>paper_id_x</th>\n",
       "      <th>abstract_x</th>\n",
       "      <th>body_text_x</th>\n",
       "      <th>methods_x</th>\n",
       "      <th>results_x</th>\n",
       "      <th>cord_uid</th>\n",
       "      <th>source_x</th>\n",
       "      <th>title</th>\n",
       "      <th>doi</th>\n",
       "      <th>pmcid</th>\n",
       "      <th>...</th>\n",
       "      <th>Microsoft Academic Paper ID</th>\n",
       "      <th>WHO #Covidence</th>\n",
       "      <th>has_pdf_parse</th>\n",
       "      <th>has_pmc_xml_parse</th>\n",
       "      <th>full_text_file</th>\n",
       "      <th>url</th>\n",
       "      <th>paper_id_y</th>\n",
       "      <th>body_text_y</th>\n",
       "      <th>methods_y</th>\n",
       "      <th>results_y</th>\n",
       "    </tr>\n",
       "  </thead>\n",
       "  <tbody>\n",
       "    <tr>\n",
       "      <th>0</th>\n",
       "      <td>5e0c586f047ff909c8ed3fe171c8975a90608d08</td>\n",
       "      <td>Background: Porcine epidemic diarrhea virus (P...</td>\n",
       "      <td>Porcine epidemic diarrhea virus (PEDV), which ...</td>\n",
       "      <td></td>\n",
       "      <td></td>\n",
       "      <td>25tcxise</td>\n",
       "      <td>PMC</td>\n",
       "      <td>Neutralizing antibodies against porcine epidem...</td>\n",
       "      <td>10.1186/s12985-018-1042-3</td>\n",
       "      <td>PMC6117962</td>\n",
       "      <td>...</td>\n",
       "      <td>NaN</td>\n",
       "      <td>NaN</td>\n",
       "      <td>True</td>\n",
       "      <td>True</td>\n",
       "      <td>comm_use_subset</td>\n",
       "      <td>https://www.ncbi.nlm.nih.gov/pmc/articles/PMC6...</td>\n",
       "      <td>PMC6117962</td>\n",
       "      <td>Porcine epidemic diarrhea virus (PEDV), which ...</td>\n",
       "      <td>The Vero E6 cell line was cultured and maintai...</td>\n",
       "      <td>PEDV concentration was enriched 100 fold and p...</td>\n",
       "    </tr>\n",
       "    <tr>\n",
       "      <th>1</th>\n",
       "      <td>1579fbff7af9b156c6f49fee0526e48f852ea460</td>\n",
       "      <td>Currently, live-attenuated IBV vaccines are us...</td>\n",
       "      <td>Generation of rNDVs expressing S1, S2 or S pro...</td>\n",
       "      <td></td>\n",
       "      <td>Generation of rNDVs expressing S1, S2 or S pro...</td>\n",
       "      <td>o7y3wygc</td>\n",
       "      <td>PMC</td>\n",
       "      <td>A Recombinant Newcastle Disease Virus (NDV) Ex...</td>\n",
       "      <td>10.1038/s41598-018-30356-2</td>\n",
       "      <td>PMC6086832</td>\n",
       "      <td>...</td>\n",
       "      <td>NaN</td>\n",
       "      <td>NaN</td>\n",
       "      <td>True</td>\n",
       "      <td>True</td>\n",
       "      <td>comm_use_subset</td>\n",
       "      <td>https://www.ncbi.nlm.nih.gov/pmc/articles/PMC6...</td>\n",
       "      <td>PMC6086832</td>\n",
       "      <td>Infectious Bronchitis (IB) is an acute and hig...</td>\n",
       "      <td>Chicken embryo fibroblast (DF-1) cells and hum...</td>\n",
       "      <td>The expression cassettes containing the codon ...</td>\n",
       "    </tr>\n",
       "  </tbody>\n",
       "</table>\n",
       "<p>2 rows × 26 columns</p>\n",
       "</div>"
      ],
      "text/plain": [
       "                                 paper_id_x  \\\n",
       "0  5e0c586f047ff909c8ed3fe171c8975a90608d08   \n",
       "1  1579fbff7af9b156c6f49fee0526e48f852ea460   \n",
       "\n",
       "                                          abstract_x  \\\n",
       "0  Background: Porcine epidemic diarrhea virus (P...   \n",
       "1  Currently, live-attenuated IBV vaccines are us...   \n",
       "\n",
       "                                         body_text_x methods_x  \\\n",
       "0  Porcine epidemic diarrhea virus (PEDV), which ...             \n",
       "1  Generation of rNDVs expressing S1, S2 or S pro...             \n",
       "\n",
       "                                           results_x  cord_uid source_x  \\\n",
       "0                                                     25tcxise      PMC   \n",
       "1  Generation of rNDVs expressing S1, S2 or S pro...  o7y3wygc      PMC   \n",
       "\n",
       "                                               title  \\\n",
       "0  Neutralizing antibodies against porcine epidem...   \n",
       "1  A Recombinant Newcastle Disease Virus (NDV) Ex...   \n",
       "\n",
       "                          doi       pmcid  ... Microsoft Academic Paper ID  \\\n",
       "0   10.1186/s12985-018-1042-3  PMC6117962  ...                         NaN   \n",
       "1  10.1038/s41598-018-30356-2  PMC6086832  ...                         NaN   \n",
       "\n",
       "  WHO #Covidence has_pdf_parse has_pmc_xml_parse   full_text_file  \\\n",
       "0            NaN          True              True  comm_use_subset   \n",
       "1            NaN          True              True  comm_use_subset   \n",
       "\n",
       "                                                 url  paper_id_y  \\\n",
       "0  https://www.ncbi.nlm.nih.gov/pmc/articles/PMC6...  PMC6117962   \n",
       "1  https://www.ncbi.nlm.nih.gov/pmc/articles/PMC6...  PMC6086832   \n",
       "\n",
       "                                         body_text_y  \\\n",
       "0  Porcine epidemic diarrhea virus (PEDV), which ...   \n",
       "1  Infectious Bronchitis (IB) is an acute and hig...   \n",
       "\n",
       "                                           methods_y  \\\n",
       "0  The Vero E6 cell line was cultured and maintai...   \n",
       "1  Chicken embryo fibroblast (DF-1) cells and hum...   \n",
       "\n",
       "                                           results_y  \n",
       "0  PEDV concentration was enriched 100 fold and p...  \n",
       "1  The expression cassettes containing the codon ...  \n",
       "\n",
       "[2 rows x 26 columns]"
      ]
     },
     "execution_count": 25,
     "metadata": {},
     "output_type": "execute_result"
    }
   ],
   "source": [
    "df.head(2)"
   ]
  },
  {
   "cell_type": "markdown",
   "metadata": {},
   "source": [
    "# Exploration/Cleaning"
   ]
  },
  {
   "cell_type": "markdown",
   "metadata": {},
   "source": [
    "### Different Abstract in Metadata and JSON files"
   ]
  },
  {
   "cell_type": "markdown",
   "metadata": {},
   "source": [
    "abstract_x from json, abstract_y from metadata"
   ]
  },
  {
   "cell_type": "code",
   "execution_count": 26,
   "metadata": {},
   "outputs": [
    {
     "data": {
      "text/plain": [
       "(7983, 26)"
      ]
     },
     "execution_count": 26,
     "metadata": {},
     "output_type": "execute_result"
    }
   ],
   "source": [
    "df[df.abstract_x != df.abstract_y].shape"
   ]
  },
  {
   "cell_type": "code",
   "execution_count": 27,
   "metadata": {},
   "outputs": [
    {
     "data": {
      "text/html": [
       "<div>\n",
       "<style scoped>\n",
       "    .dataframe tbody tr th:only-of-type {\n",
       "        vertical-align: middle;\n",
       "    }\n",
       "\n",
       "    .dataframe tbody tr th {\n",
       "        vertical-align: top;\n",
       "    }\n",
       "\n",
       "    .dataframe thead th {\n",
       "        text-align: right;\n",
       "    }\n",
       "</style>\n",
       "<table border=\"1\" class=\"dataframe\">\n",
       "  <thead>\n",
       "    <tr style=\"text-align: right;\">\n",
       "      <th></th>\n",
       "      <th>abstract_x</th>\n",
       "      <th>abstract_y</th>\n",
       "      <th>url</th>\n",
       "    </tr>\n",
       "  </thead>\n",
       "  <tbody>\n",
       "    <tr>\n",
       "      <th>9545</th>\n",
       "      <td>Background: Anatid herpesvirus 1 (AHV-1) is an...</td>\n",
       "      <td>BACKGROUND: Anatid herpesvirus 1 (AHV-1) is an...</td>\n",
       "      <td>https://www.ncbi.nlm.nih.gov/pmc/articles/PMC2...</td>\n",
       "    </tr>\n",
       "    <tr>\n",
       "      <th>9546</th>\n",
       "      <td>Coronaviruses (CoVs) are positive-sense single...</td>\n",
       "      <td>NaN</td>\n",
       "      <td>https://www.ncbi.nlm.nih.gov/pmc/articles/PMC3...</td>\n",
       "    </tr>\n",
       "    <tr>\n",
       "      <th>9547</th>\n",
       "      <td>Viruses in avian hosts can pose threats to avi...</td>\n",
       "      <td>Viruses in avian hosts can pose threats to avi...</td>\n",
       "      <td>https://www.ncbi.nlm.nih.gov/pmc/articles/PMC5...</td>\n",
       "    </tr>\n",
       "    <tr>\n",
       "      <th>9548</th>\n",
       "      <td>Over 2.5 billion people are exposed to the ris...</td>\n",
       "      <td>BACKGROUND: Over 2.5 billion people are expose...</td>\n",
       "      <td>https://www.ncbi.nlm.nih.gov/pmc/articles/PMC4...</td>\n",
       "    </tr>\n",
       "    <tr>\n",
       "      <th>9549</th>\n",
       "      <td>Plasmacytoid dendritic cell (pDC)-mediated pro...</td>\n",
       "      <td>Plasmacytoid dendritic cell (pDC)-mediated pro...</td>\n",
       "      <td>https://www.ncbi.nlm.nih.gov/pmc/articles/PMC2...</td>\n",
       "    </tr>\n",
       "    <tr>\n",
       "      <th>9551</th>\n",
       "      <td>Background: Canine distemper, caused by Canine...</td>\n",
       "      <td>BACKGROUND: Canine distemper, caused by Canine...</td>\n",
       "      <td>https://www.ncbi.nlm.nih.gov/pmc/articles/PMC5...</td>\n",
       "    </tr>\n",
       "    <tr>\n",
       "      <th>9552</th>\n",
       "      <td>We hypothesized that postnatal development of ...</td>\n",
       "      <td>We hypothesized that postnatal development of ...</td>\n",
       "      <td>https://www.ncbi.nlm.nih.gov/pmc/articles/PMC6...</td>\n",
       "    </tr>\n",
       "    <tr>\n",
       "      <th>9553</th>\n",
       "      <td>Venereal syphilis is a multi-stage, sexually t...</td>\n",
       "      <td>Venereal syphilis is a multi-stage, sexually t...</td>\n",
       "      <td>https://www.ncbi.nlm.nih.gov/pmc/articles/PMC2...</td>\n",
       "    </tr>\n",
       "    <tr>\n",
       "      <th>9554</th>\n",
       "      <td>The emergence of Middle East respiratory syndr...</td>\n",
       "      <td>The emergence of Middle East respiratory syndr...</td>\n",
       "      <td>https://www.ncbi.nlm.nih.gov/pmc/articles/PMC4...</td>\n",
       "    </tr>\n",
       "    <tr>\n",
       "      <th>9556</th>\n",
       "      <td>Virus host shifts occur frequently, but the wh...</td>\n",
       "      <td>Virus host shifts occur frequently, but the wh...</td>\n",
       "      <td>https://www.ncbi.nlm.nih.gov/pmc/articles/PMC6...</td>\n",
       "    </tr>\n",
       "  </tbody>\n",
       "</table>\n",
       "</div>"
      ],
      "text/plain": [
       "                                             abstract_x  \\\n",
       "9545  Background: Anatid herpesvirus 1 (AHV-1) is an...   \n",
       "9546  Coronaviruses (CoVs) are positive-sense single...   \n",
       "9547  Viruses in avian hosts can pose threats to avi...   \n",
       "9548  Over 2.5 billion people are exposed to the ris...   \n",
       "9549  Plasmacytoid dendritic cell (pDC)-mediated pro...   \n",
       "9551  Background: Canine distemper, caused by Canine...   \n",
       "9552  We hypothesized that postnatal development of ...   \n",
       "9553  Venereal syphilis is a multi-stage, sexually t...   \n",
       "9554  The emergence of Middle East respiratory syndr...   \n",
       "9556  Virus host shifts occur frequently, but the wh...   \n",
       "\n",
       "                                             abstract_y  \\\n",
       "9545  BACKGROUND: Anatid herpesvirus 1 (AHV-1) is an...   \n",
       "9546                                                NaN   \n",
       "9547  Viruses in avian hosts can pose threats to avi...   \n",
       "9548  BACKGROUND: Over 2.5 billion people are expose...   \n",
       "9549  Plasmacytoid dendritic cell (pDC)-mediated pro...   \n",
       "9551  BACKGROUND: Canine distemper, caused by Canine...   \n",
       "9552  We hypothesized that postnatal development of ...   \n",
       "9553  Venereal syphilis is a multi-stage, sexually t...   \n",
       "9554  The emergence of Middle East respiratory syndr...   \n",
       "9556  Virus host shifts occur frequently, but the wh...   \n",
       "\n",
       "                                                    url  \n",
       "9545  https://www.ncbi.nlm.nih.gov/pmc/articles/PMC2...  \n",
       "9546  https://www.ncbi.nlm.nih.gov/pmc/articles/PMC3...  \n",
       "9547  https://www.ncbi.nlm.nih.gov/pmc/articles/PMC5...  \n",
       "9548  https://www.ncbi.nlm.nih.gov/pmc/articles/PMC4...  \n",
       "9549  https://www.ncbi.nlm.nih.gov/pmc/articles/PMC2...  \n",
       "9551  https://www.ncbi.nlm.nih.gov/pmc/articles/PMC5...  \n",
       "9552  https://www.ncbi.nlm.nih.gov/pmc/articles/PMC6...  \n",
       "9553  https://www.ncbi.nlm.nih.gov/pmc/articles/PMC2...  \n",
       "9554  https://www.ncbi.nlm.nih.gov/pmc/articles/PMC4...  \n",
       "9556  https://www.ncbi.nlm.nih.gov/pmc/articles/PMC6...  "
      ]
     },
     "execution_count": 27,
     "metadata": {},
     "output_type": "execute_result"
    }
   ],
   "source": [
    "df[df.abstract_x != df.abstract_y][['abstract_x', 'abstract_y', 'url']].tail(10)"
   ]
  },
  {
   "cell_type": "code",
   "execution_count": 28,
   "metadata": {},
   "outputs": [
    {
     "data": {
      "text/plain": [
       "'https://www.ncbi.nlm.nih.gov/pmc/articles/PMC6920936/'"
      ]
     },
     "execution_count": 28,
     "metadata": {},
     "output_type": "execute_result"
    }
   ],
   "source": [
    "df[df.abstract_x != df.abstract_y][['abstract_x', 'abstract_y', 'url']].url.iloc[-1]"
   ]
  },
  {
   "cell_type": "markdown",
   "metadata": {},
   "source": [
    "Checking some of the files online, it seems that where the abstract is missing in the metadata, the abstract in the JSON file is simply the beginning of the text."
   ]
  },
  {
   "cell_type": "code",
   "execution_count": 29,
   "metadata": {},
   "outputs": [
    {
     "name": "stderr",
     "output_type": "stream",
     "text": [
      "/Users/vidhig/anaconda3/lib/python3.7/site-packages/ipykernel_launcher.py:2: UserWarning: Boolean Series key will be reindexed to match DataFrame index.\n",
      "  \n"
     ]
    },
    {
     "data": {
      "text/html": [
       "<div>\n",
       "<style scoped>\n",
       "    .dataframe tbody tr th:only-of-type {\n",
       "        vertical-align: middle;\n",
       "    }\n",
       "\n",
       "    .dataframe tbody tr th {\n",
       "        vertical-align: top;\n",
       "    }\n",
       "\n",
       "    .dataframe thead th {\n",
       "        text-align: right;\n",
       "    }\n",
       "</style>\n",
       "<table border=\"1\" class=\"dataframe\">\n",
       "  <thead>\n",
       "    <tr style=\"text-align: right;\">\n",
       "      <th></th>\n",
       "      <th>abstract_x</th>\n",
       "      <th>abstract_y</th>\n",
       "      <th>url</th>\n",
       "      <th>body_text_x</th>\n",
       "      <th>body_text_y</th>\n",
       "    </tr>\n",
       "  </thead>\n",
       "  <tbody>\n",
       "    <tr>\n",
       "      <th>59</th>\n",
       "      <td>The Drosophila genome encodes 18 canonical nuc...</td>\n",
       "      <td>NaN</td>\n",
       "      <td>https://www.ncbi.nlm.nih.gov/pmc/articles/PMC1...</td>\n",
       "      <td>Nuclear receptors constitute a protein superfa...</td>\n",
       "      <td>Epidemiologists have used mathematical models ...</td>\n",
       "    </tr>\n",
       "    <tr>\n",
       "      <th>393</th>\n",
       "      <td>Emerging and reemerging infectious diseases (E...</td>\n",
       "      <td>NaN</td>\n",
       "      <td>https://www.ncbi.nlm.nih.gov/pmc/articles/PMC6...</td>\n",
       "      <td>R ecent events have shown that public health, ...</td>\n",
       "      <td>Recent events have shown that public health, a...</td>\n",
       "    </tr>\n",
       "    <tr>\n",
       "      <th>546</th>\n",
       "      <td>Epidemiological research on the pathogenesis, ...</td>\n",
       "      <td>NaN</td>\n",
       "      <td>https://www.ncbi.nlm.nih.gov/pmc/articles/PMC6...</td>\n",
       "      <td>Epidemiological research on the pathogenesis, ...</td>\n",
       "      <td>Epidemiological research on the pathogenesis, ...</td>\n",
       "    </tr>\n",
       "    <tr>\n",
       "      <th>696</th>\n",
       "      <td>Human fungal diseases differ fundamentally fro...</td>\n",
       "      <td>NaN</td>\n",
       "      <td>https://www.ncbi.nlm.nih.gov/pmc/articles/PMC7...</td>\n",
       "      <td>of all ages suffer from a serious fungal infec...</td>\n",
       "      <td>Human fungal diseases differ fundamentally fro...</td>\n",
       "    </tr>\n",
       "    <tr>\n",
       "      <th>874</th>\n",
       "      <td>Essays articulate a specific perspective on a ...</td>\n",
       "      <td>NaN</td>\n",
       "      <td>https://www.ncbi.nlm.nih.gov/pmc/articles/PMC2...</td>\n",
       "      <td>Within the past century, a number of ''emergin...</td>\n",
       "      <td>The human genome is a living document of ancie...</td>\n",
       "    </tr>\n",
       "    <tr>\n",
       "      <th>1062</th>\n",
       "      <td>Perspectives\\nGlobal atlas of zoonotic viruses...</td>\n",
       "      <td>NaN</td>\n",
       "      <td>https://www.ncbi.nlm.nih.gov/pmc/articles/PMC5...</td>\n",
       "      <td>At the Prince Mahidol Awards Conference on 30 ...</td>\n",
       "      <td>Novel viruses usually emerge in regions where ...</td>\n",
       "    </tr>\n",
       "    <tr>\n",
       "      <th>1086</th>\n",
       "      <td>Antibody-dependent enhancement (ADE) is a mech...</td>\n",
       "      <td>NaN</td>\n",
       "      <td>https://www.ncbi.nlm.nih.gov/pmc/articles/PMC3...</td>\n",
       "      <td>Antibody-dependent enhancement (ADE) is a mech...</td>\n",
       "      <td>Antibody-dependent enhancement (ADE) is a mech...</td>\n",
       "    </tr>\n",
       "    <tr>\n",
       "      <th>1307</th>\n",
       "      <td>Please cite this paper as: Chiu et al. (2014) ...</td>\n",
       "      <td>NaN</td>\n",
       "      <td>https://www.ncbi.nlm.nih.gov/pmc/articles/PMC4...</td>\n",
       "      <td>To the editor::\\nRespiratory viral infections ...</td>\n",
       "      <td>Please cite this paper as: Chiu et al. (2014) ...</td>\n",
       "    </tr>\n",
       "    <tr>\n",
       "      <th>1339</th>\n",
       "      <td>Data management and integration are complicate...</td>\n",
       "      <td>NaN</td>\n",
       "      <td>https://www.ncbi.nlm.nih.gov/pmc/articles/PMC1...</td>\n",
       "      <td>There is a growing awareness of the need to wo...</td>\n",
       "      <td>Epidemiologists have long used maps to track t...</td>\n",
       "    </tr>\n",
       "    <tr>\n",
       "      <th>1784</th>\n",
       "      <td>A number of sentences in the first paragraph o...</td>\n",
       "      <td>NaN</td>\n",
       "      <td>https://www.ncbi.nlm.nih.gov/pmc/articles/PMC4...</td>\n",
       "      <td>Aromatase is a cytochrome P-450 dependent enzy...</td>\n",
       "      <td>Aromatase is a cytochrome P-450 dependent enzy...</td>\n",
       "    </tr>\n",
       "    <tr>\n",
       "      <th>1894</th>\n",
       "      <td>Enveloped viruses need to fuse with a host cel...</td>\n",
       "      <td>NaN</td>\n",
       "      <td>https://www.ncbi.nlm.nih.gov/pmc/articles/PMC4...</td>\n",
       "      <td>To achieve successful infection enveloped viru...</td>\n",
       "      <td>This article was republished on December 15, 2...</td>\n",
       "    </tr>\n",
       "    <tr>\n",
       "      <th>1978</th>\n",
       "      <td>The need for a names-based cyber-infrastructur...</td>\n",
       "      <td>NaN</td>\n",
       "      <td>https://www.ncbi.nlm.nih.gov/pmc/articles/PMC4...</td>\n",
       "      <td>The 'big new biology' complements traditional ...</td>\n",
       "      <td>The need for a names-based cyber-infrastructur...</td>\n",
       "    </tr>\n",
       "    <tr>\n",
       "      <th>2219</th>\n",
       "      <td>Influenza A viruses (IAVs) are important zoono...</td>\n",
       "      <td>NaN</td>\n",
       "      <td>https://www.ncbi.nlm.nih.gov/pmc/articles/PMC4...</td>\n",
       "      <td>Influenza A viruses (IAVs) are important zoono...</td>\n",
       "      <td>Biochemical and structural studies indicate th...</td>\n",
       "    </tr>\n",
       "    <tr>\n",
       "      <th>2527</th>\n",
       "      <td>There was a lot of discussion about communicat...</td>\n",
       "      <td>NaN</td>\n",
       "      <td>https://www.ncbi.nlm.nih.gov/pmc/articles/PMC5...</td>\n",
       "      <td>experts were not involved in the process until...</td>\n",
       "      <td>There was a lot of discussion about communicat...</td>\n",
       "    </tr>\n",
       "    <tr>\n",
       "      <th>2766</th>\n",
       "      <td>Intensive Care Medicine Experimental 2016, 4(S...</td>\n",
       "      <td>NaN</td>\n",
       "      <td>https://www.ncbi.nlm.nih.gov/pmc/articles/PMC5...</td>\n",
       "      <td>Introduction: Patients meeting the Berlin defi...</td>\n",
       "      <td>\\nIntroduction: Pharmacological immunomodulato...</td>\n",
       "    </tr>\n",
       "    <tr>\n",
       "      <th>2872</th>\n",
       "      <td>Positive-strand (+)RNA viruses are important a...</td>\n",
       "      <td>NaN</td>\n",
       "      <td>https://www.ncbi.nlm.nih.gov/pmc/articles/PMC5...</td>\n",
       "      <td>All +RNA viruses (e.g., poliovirus, hepatitis ...</td>\n",
       "      <td>All +RNA viruses (e.g., poliovirus, hepatitis ...</td>\n",
       "    </tr>\n",
       "    <tr>\n",
       "      <th>3101</th>\n",
       "      <td>Middle East respiratory syndrome coronavirus (...</td>\n",
       "      <td>NaN</td>\n",
       "      <td>https://www.ncbi.nlm.nih.gov/pmc/articles/PMC6...</td>\n",
       "      <td>transmission in rabbits [30] . Fan and colleag...</td>\n",
       "      <td>Middle East respiratory syndrome coronavirus (...</td>\n",
       "    </tr>\n",
       "    <tr>\n",
       "      <th>3667</th>\n",
       "      <td>During cell division, chromosome segregation m...</td>\n",
       "      <td>NaN</td>\n",
       "      <td>https://www.ncbi.nlm.nih.gov/pmc/articles/PMC1...</td>\n",
       "      <td>The process of mitosis distributes chromosomes...</td>\n",
       "      <td>“All global environmental change eventually en...</td>\n",
       "    </tr>\n",
       "    <tr>\n",
       "      <th>3853</th>\n",
       "      <td>Next year will mark the 100th anniversary of t...</td>\n",
       "      <td>NaN</td>\n",
       "      <td>https://www.ncbi.nlm.nih.gov/pmc/articles/PMC7...</td>\n",
       "      <td>Next year will mark the 100th anniversary of t...</td>\n",
       "      <td>NaN</td>\n",
       "    </tr>\n",
       "    <tr>\n",
       "      <th>4070</th>\n",
       "      <td>Current evidence suggests that environmental c...</td>\n",
       "      <td>NaN</td>\n",
       "      <td>https://www.ncbi.nlm.nih.gov/pmc/articles/PMC6...</td>\n",
       "      <td>Although bat bites may be the main transmissio...</td>\n",
       "      <td>Although bat bites may be the main transmissio...</td>\n",
       "    </tr>\n",
       "    <tr>\n",
       "      <th>4647</th>\n",
       "      <td>Although it has been more than 40 years since ...</td>\n",
       "      <td>NaN</td>\n",
       "      <td>https://www.ncbi.nlm.nih.gov/pmc/articles/PMC7...</td>\n",
       "      <td>Although it has been more than 40 years since ...</td>\n",
       "      <td>Although it has been more than 40 years since ...</td>\n",
       "    </tr>\n",
       "    <tr>\n",
       "      <th>4880</th>\n",
       "      <td>for bringing the T84 cell line to our attentio...</td>\n",
       "      <td>NaN</td>\n",
       "      <td>https://www.ncbi.nlm.nih.gov/pmc/articles/PMC6...</td>\n",
       "      <td>Despite being frequently detected as a copatho...</td>\n",
       "      <td>Despite being frequently detected as a copatho...</td>\n",
       "    </tr>\n",
       "    <tr>\n",
       "      <th>5348</th>\n",
       "      <td>Emerging and re-emerging viral infections have...</td>\n",
       "      <td>NaN</td>\n",
       "      <td>https://www.ncbi.nlm.nih.gov/pmc/articles/PMC6...</td>\n",
       "      <td>Factors related to humans and society are the ...</td>\n",
       "      <td>Emerging and re-emerging viral infections have...</td>\n",
       "    </tr>\n",
       "    <tr>\n",
       "      <th>5466</th>\n",
       "      <td>The var multigene family encodes PfEMP1, which...</td>\n",
       "      <td>NaN</td>\n",
       "      <td>https://www.ncbi.nlm.nih.gov/pmc/articles/PMC1...</td>\n",
       "      <td>Malaria caused by Plasmodium falciparum is a g...</td>\n",
       "      <td>NaN</td>\n",
       "    </tr>\n",
       "    <tr>\n",
       "      <th>5922</th>\n",
       "      <td>Highly mutable, infinitely malleable, and all-...</td>\n",
       "      <td>NaN</td>\n",
       "      <td>https://www.ncbi.nlm.nih.gov/pmc/articles/PMC5...</td>\n",
       "      <td>Highly mutable, infinitely malleable, and all-...</td>\n",
       "      <td>Highly mutable, infinitely malleable, and all-...</td>\n",
       "    </tr>\n",
       "    <tr>\n",
       "      <th>6197</th>\n",
       "      <td>We agree with Doug Altman that correspondence ...</td>\n",
       "      <td>NaN</td>\n",
       "      <td>https://www.ncbi.nlm.nih.gov/pmc/articles/PMC1...</td>\n",
       "      <td>Editors of medical journals accept that publis...</td>\n",
       "      <td>In their attempt to defend heterosexual transm...</td>\n",
       "    </tr>\n",
       "    <tr>\n",
       "      <th>6207</th>\n",
       "      <td>which permits unrestricted use, distribution, ...</td>\n",
       "      <td>NaN</td>\n",
       "      <td>https://www.ncbi.nlm.nih.gov/pmc/articles/PMC6...</td>\n",
       "      <td>Introduction: Some studies show a high inciden...</td>\n",
       "      <td>Annals of Intensive Care 2019, 9(Suppl 1):COK-...</td>\n",
       "    </tr>\n",
       "    <tr>\n",
       "      <th>6350</th>\n",
       "      <td>i) \"CSF cultures were bacteriologically steril...</td>\n",
       "      <td>NaN</td>\n",
       "      <td>https://www.ncbi.nlm.nih.gov/pmc/articles/PMC5...</td>\n",
       "      <td>In the article titled \"A Rare Cause of Childho...</td>\n",
       "      <td>In the article titled “A Rare Cause of Childho...</td>\n",
       "    </tr>\n",
       "    <tr>\n",
       "      <th>6965</th>\n",
       "      <td>Up to 24 February 2020, there have been 77,269...</td>\n",
       "      <td>NaN</td>\n",
       "      <td>https://www.ncbi.nlm.nih.gov/pmc/articles/PMC7...</td>\n",
       "      <td>The echocardiographic features of COVID-19 are...</td>\n",
       "      <td>The echocardiographic features of COVID-19 are...</td>\n",
       "    </tr>\n",
       "    <tr>\n",
       "      <th>7087</th>\n",
       "      <td>Our understanding of non-coding RNA has signif...</td>\n",
       "      <td>NaN</td>\n",
       "      <td>https://www.ncbi.nlm.nih.gov/pmc/articles/PMC6...</td>\n",
       "      <td>Our understanding of non-coding RNA has signif...</td>\n",
       "      <td>Our understanding of non-coding RNA has signif...</td>\n",
       "    </tr>\n",
       "    <tr>\n",
       "      <th>7431</th>\n",
       "      <td>Since its establishment in 2005, the KPRC has ...</td>\n",
       "      <td>NaN</td>\n",
       "      <td>https://www.ncbi.nlm.nih.gov/pmc/articles/PMC5...</td>\n",
       "      <td>Following a warm welcome by Dr. Yong-Tang Zhen...</td>\n",
       "      <td>Following a warm welcome by Dr. Yong-Tang Zhen...</td>\n",
       "    </tr>\n",
       "    <tr>\n",
       "      <th>7746</th>\n",
       "      <td>Organization announced it as a pandemic. 2 Que...</td>\n",
       "      <td>NaN</td>\n",
       "      <td>https://www.ncbi.nlm.nih.gov/pmc/articles/PMC7...</td>\n",
       "      <td>What are our health expectations in a pandemic...</td>\n",
       "      <td>For weeks, we were warned of a potential coron...</td>\n",
       "    </tr>\n",
       "    <tr>\n",
       "      <th>8507</th>\n",
       "      <td>The outcome of viral infection depends on the ...</td>\n",
       "      <td>NaN</td>\n",
       "      <td>https://www.ncbi.nlm.nih.gov/pmc/articles/PMC7...</td>\n",
       "      <td>a1111111111 a1111111111 a1111111111 a111111111...</td>\n",
       "      <td>The bacterial component of the microbiota can ...</td>\n",
       "    </tr>\n",
       "    <tr>\n",
       "      <th>8528</th>\n",
       "      <td>Viral genomes are protected within a proteinac...</td>\n",
       "      <td>NaN</td>\n",
       "      <td>https://www.ncbi.nlm.nih.gov/pmc/articles/PMC4...</td>\n",
       "      <td>endosomal pH in turn triggers additional struc...</td>\n",
       "      <td>Viral genomes are protected within a proteinac...</td>\n",
       "    </tr>\n",
       "    <tr>\n",
       "      <th>8614</th>\n",
       "      <td>Emerging and reemerging viruses that cause res...</td>\n",
       "      <td>NaN</td>\n",
       "      <td>https://www.ncbi.nlm.nih.gov/pmc/articles/PMC4...</td>\n",
       "      <td>Emerging and reemerging viruses that cause res...</td>\n",
       "      <td>Dear Editor,\\nEmerging and reemerging viruses ...</td>\n",
       "    </tr>\n",
       "    <tr>\n",
       "      <th>8695</th>\n",
       "      <td>The Asia-Pacific region is a geographic source...</td>\n",
       "      <td>NaN</td>\n",
       "      <td>https://www.ncbi.nlm.nih.gov/pmc/articles/PMC5...</td>\n",
       "      <td>The Asia-Pacific region is a geographic source...</td>\n",
       "      <td>The Asia-Pacific region is a geographic source...</td>\n",
       "    </tr>\n",
       "    <tr>\n",
       "      <th>8843</th>\n",
       "      <td>On the morning of September 25th 2017, grievou...</td>\n",
       "      <td>NaN</td>\n",
       "      <td>https://www.ncbi.nlm.nih.gov/pmc/articles/PMC5...</td>\n",
       "      <td>and opened up a brilliant chapter of Computati...</td>\n",
       "      <td>On the morning of September 25th 2017, grievou...</td>\n",
       "    </tr>\n",
       "    <tr>\n",
       "      <th>8975</th>\n",
       "      <td>Health-Emergency Disaster Risk Management (Hea...</td>\n",
       "      <td>NaN</td>\n",
       "      <td>https://www.ncbi.nlm.nih.gov/pmc/articles/PMC7...</td>\n",
       "      <td>Health-Emergency Disaster Risk Management (Hea...</td>\n",
       "      <td>Health-Emergency Disaster Risk Management (Hea...</td>\n",
       "    </tr>\n",
       "    <tr>\n",
       "      <th>9166</th>\n",
       "      <td>Introduction Autophagy is well known as one of...</td>\n",
       "      <td>NaN</td>\n",
       "      <td>https://www.ncbi.nlm.nih.gov/pmc/articles/PMC3...</td>\n",
       "      <td>Introduction Acute myocardial depression in se...</td>\n",
       "      <td>Laboratory testing for viral infections is not...</td>\n",
       "    </tr>\n",
       "    <tr>\n",
       "      <th>9374</th>\n",
       "      <td>We read with great interest the article by Kha...</td>\n",
       "      <td>NaN</td>\n",
       "      <td>https://www.ncbi.nlm.nih.gov/pmc/articles/PMC5...</td>\n",
       "      <td>of ACE2 via the MAS1 receptor (and not via the...</td>\n",
       "      <td>We read with great interest the article by Kha...</td>\n",
       "    </tr>\n",
       "    <tr>\n",
       "      <th>9473</th>\n",
       "      <td>Phyllostomid bat microbiome composition is ass...</td>\n",
       "      <td>NaN</td>\n",
       "      <td>https://www.ncbi.nlm.nih.gov/pmc/articles/PMC6...</td>\n",
       "      <td>Phyllostomid bat microbiome composition is ass...</td>\n",
       "      <td>The authors declare that the research was cond...</td>\n",
       "    </tr>\n",
       "    <tr>\n",
       "      <th>9546</th>\n",
       "      <td>Coronaviruses (CoVs) are positive-sense single...</td>\n",
       "      <td>NaN</td>\n",
       "      <td>https://www.ncbi.nlm.nih.gov/pmc/articles/PMC3...</td>\n",
       "      <td>RNA viruses rely primarily on low-fidelity rep...</td>\n",
       "      <td>Coronaviruses (CoVs) are positive-sense single...</td>\n",
       "    </tr>\n",
       "  </tbody>\n",
       "</table>\n",
       "</div>"
      ],
      "text/plain": [
       "                                             abstract_x abstract_y  \\\n",
       "59    The Drosophila genome encodes 18 canonical nuc...        NaN   \n",
       "393   Emerging and reemerging infectious diseases (E...        NaN   \n",
       "546   Epidemiological research on the pathogenesis, ...        NaN   \n",
       "696   Human fungal diseases differ fundamentally fro...        NaN   \n",
       "874   Essays articulate a specific perspective on a ...        NaN   \n",
       "1062  Perspectives\\nGlobal atlas of zoonotic viruses...        NaN   \n",
       "1086  Antibody-dependent enhancement (ADE) is a mech...        NaN   \n",
       "1307  Please cite this paper as: Chiu et al. (2014) ...        NaN   \n",
       "1339  Data management and integration are complicate...        NaN   \n",
       "1784  A number of sentences in the first paragraph o...        NaN   \n",
       "1894  Enveloped viruses need to fuse with a host cel...        NaN   \n",
       "1978  The need for a names-based cyber-infrastructur...        NaN   \n",
       "2219  Influenza A viruses (IAVs) are important zoono...        NaN   \n",
       "2527  There was a lot of discussion about communicat...        NaN   \n",
       "2766  Intensive Care Medicine Experimental 2016, 4(S...        NaN   \n",
       "2872  Positive-strand (+)RNA viruses are important a...        NaN   \n",
       "3101  Middle East respiratory syndrome coronavirus (...        NaN   \n",
       "3667  During cell division, chromosome segregation m...        NaN   \n",
       "3853  Next year will mark the 100th anniversary of t...        NaN   \n",
       "4070  Current evidence suggests that environmental c...        NaN   \n",
       "4647  Although it has been more than 40 years since ...        NaN   \n",
       "4880  for bringing the T84 cell line to our attentio...        NaN   \n",
       "5348  Emerging and re-emerging viral infections have...        NaN   \n",
       "5466  The var multigene family encodes PfEMP1, which...        NaN   \n",
       "5922  Highly mutable, infinitely malleable, and all-...        NaN   \n",
       "6197  We agree with Doug Altman that correspondence ...        NaN   \n",
       "6207  which permits unrestricted use, distribution, ...        NaN   \n",
       "6350  i) \"CSF cultures were bacteriologically steril...        NaN   \n",
       "6965  Up to 24 February 2020, there have been 77,269...        NaN   \n",
       "7087  Our understanding of non-coding RNA has signif...        NaN   \n",
       "7431  Since its establishment in 2005, the KPRC has ...        NaN   \n",
       "7746  Organization announced it as a pandemic. 2 Que...        NaN   \n",
       "8507  The outcome of viral infection depends on the ...        NaN   \n",
       "8528  Viral genomes are protected within a proteinac...        NaN   \n",
       "8614  Emerging and reemerging viruses that cause res...        NaN   \n",
       "8695  The Asia-Pacific region is a geographic source...        NaN   \n",
       "8843  On the morning of September 25th 2017, grievou...        NaN   \n",
       "8975  Health-Emergency Disaster Risk Management (Hea...        NaN   \n",
       "9166  Introduction Autophagy is well known as one of...        NaN   \n",
       "9374  We read with great interest the article by Kha...        NaN   \n",
       "9473  Phyllostomid bat microbiome composition is ass...        NaN   \n",
       "9546  Coronaviruses (CoVs) are positive-sense single...        NaN   \n",
       "\n",
       "                                                    url  \\\n",
       "59    https://www.ncbi.nlm.nih.gov/pmc/articles/PMC1...   \n",
       "393   https://www.ncbi.nlm.nih.gov/pmc/articles/PMC6...   \n",
       "546   https://www.ncbi.nlm.nih.gov/pmc/articles/PMC6...   \n",
       "696   https://www.ncbi.nlm.nih.gov/pmc/articles/PMC7...   \n",
       "874   https://www.ncbi.nlm.nih.gov/pmc/articles/PMC2...   \n",
       "1062  https://www.ncbi.nlm.nih.gov/pmc/articles/PMC5...   \n",
       "1086  https://www.ncbi.nlm.nih.gov/pmc/articles/PMC3...   \n",
       "1307  https://www.ncbi.nlm.nih.gov/pmc/articles/PMC4...   \n",
       "1339  https://www.ncbi.nlm.nih.gov/pmc/articles/PMC1...   \n",
       "1784  https://www.ncbi.nlm.nih.gov/pmc/articles/PMC4...   \n",
       "1894  https://www.ncbi.nlm.nih.gov/pmc/articles/PMC4...   \n",
       "1978  https://www.ncbi.nlm.nih.gov/pmc/articles/PMC4...   \n",
       "2219  https://www.ncbi.nlm.nih.gov/pmc/articles/PMC4...   \n",
       "2527  https://www.ncbi.nlm.nih.gov/pmc/articles/PMC5...   \n",
       "2766  https://www.ncbi.nlm.nih.gov/pmc/articles/PMC5...   \n",
       "2872  https://www.ncbi.nlm.nih.gov/pmc/articles/PMC5...   \n",
       "3101  https://www.ncbi.nlm.nih.gov/pmc/articles/PMC6...   \n",
       "3667  https://www.ncbi.nlm.nih.gov/pmc/articles/PMC1...   \n",
       "3853  https://www.ncbi.nlm.nih.gov/pmc/articles/PMC7...   \n",
       "4070  https://www.ncbi.nlm.nih.gov/pmc/articles/PMC6...   \n",
       "4647  https://www.ncbi.nlm.nih.gov/pmc/articles/PMC7...   \n",
       "4880  https://www.ncbi.nlm.nih.gov/pmc/articles/PMC6...   \n",
       "5348  https://www.ncbi.nlm.nih.gov/pmc/articles/PMC6...   \n",
       "5466  https://www.ncbi.nlm.nih.gov/pmc/articles/PMC1...   \n",
       "5922  https://www.ncbi.nlm.nih.gov/pmc/articles/PMC5...   \n",
       "6197  https://www.ncbi.nlm.nih.gov/pmc/articles/PMC1...   \n",
       "6207  https://www.ncbi.nlm.nih.gov/pmc/articles/PMC6...   \n",
       "6350  https://www.ncbi.nlm.nih.gov/pmc/articles/PMC5...   \n",
       "6965  https://www.ncbi.nlm.nih.gov/pmc/articles/PMC7...   \n",
       "7087  https://www.ncbi.nlm.nih.gov/pmc/articles/PMC6...   \n",
       "7431  https://www.ncbi.nlm.nih.gov/pmc/articles/PMC5...   \n",
       "7746  https://www.ncbi.nlm.nih.gov/pmc/articles/PMC7...   \n",
       "8507  https://www.ncbi.nlm.nih.gov/pmc/articles/PMC7...   \n",
       "8528  https://www.ncbi.nlm.nih.gov/pmc/articles/PMC4...   \n",
       "8614  https://www.ncbi.nlm.nih.gov/pmc/articles/PMC4...   \n",
       "8695  https://www.ncbi.nlm.nih.gov/pmc/articles/PMC5...   \n",
       "8843  https://www.ncbi.nlm.nih.gov/pmc/articles/PMC5...   \n",
       "8975  https://www.ncbi.nlm.nih.gov/pmc/articles/PMC7...   \n",
       "9166  https://www.ncbi.nlm.nih.gov/pmc/articles/PMC3...   \n",
       "9374  https://www.ncbi.nlm.nih.gov/pmc/articles/PMC5...   \n",
       "9473  https://www.ncbi.nlm.nih.gov/pmc/articles/PMC6...   \n",
       "9546  https://www.ncbi.nlm.nih.gov/pmc/articles/PMC3...   \n",
       "\n",
       "                                            body_text_x  \\\n",
       "59    Nuclear receptors constitute a protein superfa...   \n",
       "393   R ecent events have shown that public health, ...   \n",
       "546   Epidemiological research on the pathogenesis, ...   \n",
       "696   of all ages suffer from a serious fungal infec...   \n",
       "874   Within the past century, a number of ''emergin...   \n",
       "1062  At the Prince Mahidol Awards Conference on 30 ...   \n",
       "1086  Antibody-dependent enhancement (ADE) is a mech...   \n",
       "1307  To the editor::\\nRespiratory viral infections ...   \n",
       "1339  There is a growing awareness of the need to wo...   \n",
       "1784  Aromatase is a cytochrome P-450 dependent enzy...   \n",
       "1894  To achieve successful infection enveloped viru...   \n",
       "1978  The 'big new biology' complements traditional ...   \n",
       "2219  Influenza A viruses (IAVs) are important zoono...   \n",
       "2527  experts were not involved in the process until...   \n",
       "2766  Introduction: Patients meeting the Berlin defi...   \n",
       "2872  All +RNA viruses (e.g., poliovirus, hepatitis ...   \n",
       "3101  transmission in rabbits [30] . Fan and colleag...   \n",
       "3667  The process of mitosis distributes chromosomes...   \n",
       "3853  Next year will mark the 100th anniversary of t...   \n",
       "4070  Although bat bites may be the main transmissio...   \n",
       "4647  Although it has been more than 40 years since ...   \n",
       "4880  Despite being frequently detected as a copatho...   \n",
       "5348  Factors related to humans and society are the ...   \n",
       "5466  Malaria caused by Plasmodium falciparum is a g...   \n",
       "5922  Highly mutable, infinitely malleable, and all-...   \n",
       "6197  Editors of medical journals accept that publis...   \n",
       "6207  Introduction: Some studies show a high inciden...   \n",
       "6350  In the article titled \"A Rare Cause of Childho...   \n",
       "6965  The echocardiographic features of COVID-19 are...   \n",
       "7087  Our understanding of non-coding RNA has signif...   \n",
       "7431  Following a warm welcome by Dr. Yong-Tang Zhen...   \n",
       "7746  What are our health expectations in a pandemic...   \n",
       "8507  a1111111111 a1111111111 a1111111111 a111111111...   \n",
       "8528  endosomal pH in turn triggers additional struc...   \n",
       "8614  Emerging and reemerging viruses that cause res...   \n",
       "8695  The Asia-Pacific region is a geographic source...   \n",
       "8843  and opened up a brilliant chapter of Computati...   \n",
       "8975  Health-Emergency Disaster Risk Management (Hea...   \n",
       "9166  Introduction Acute myocardial depression in se...   \n",
       "9374  of ACE2 via the MAS1 receptor (and not via the...   \n",
       "9473  Phyllostomid bat microbiome composition is ass...   \n",
       "9546  RNA viruses rely primarily on low-fidelity rep...   \n",
       "\n",
       "                                            body_text_y  \n",
       "59    Epidemiologists have used mathematical models ...  \n",
       "393   Recent events have shown that public health, a...  \n",
       "546   Epidemiological research on the pathogenesis, ...  \n",
       "696   Human fungal diseases differ fundamentally fro...  \n",
       "874   The human genome is a living document of ancie...  \n",
       "1062  Novel viruses usually emerge in regions where ...  \n",
       "1086  Antibody-dependent enhancement (ADE) is a mech...  \n",
       "1307  Please cite this paper as: Chiu et al. (2014) ...  \n",
       "1339  Epidemiologists have long used maps to track t...  \n",
       "1784  Aromatase is a cytochrome P-450 dependent enzy...  \n",
       "1894  This article was republished on December 15, 2...  \n",
       "1978  The need for a names-based cyber-infrastructur...  \n",
       "2219  Biochemical and structural studies indicate th...  \n",
       "2527  There was a lot of discussion about communicat...  \n",
       "2766  \\nIntroduction: Pharmacological immunomodulato...  \n",
       "2872  All +RNA viruses (e.g., poliovirus, hepatitis ...  \n",
       "3101  Middle East respiratory syndrome coronavirus (...  \n",
       "3667  “All global environmental change eventually en...  \n",
       "3853                                                NaN  \n",
       "4070  Although bat bites may be the main transmissio...  \n",
       "4647  Although it has been more than 40 years since ...  \n",
       "4880  Despite being frequently detected as a copatho...  \n",
       "5348  Emerging and re-emerging viral infections have...  \n",
       "5466                                                NaN  \n",
       "5922  Highly mutable, infinitely malleable, and all-...  \n",
       "6197  In their attempt to defend heterosexual transm...  \n",
       "6207  Annals of Intensive Care 2019, 9(Suppl 1):COK-...  \n",
       "6350  In the article titled “A Rare Cause of Childho...  \n",
       "6965  The echocardiographic features of COVID-19 are...  \n",
       "7087  Our understanding of non-coding RNA has signif...  \n",
       "7431  Following a warm welcome by Dr. Yong-Tang Zhen...  \n",
       "7746  For weeks, we were warned of a potential coron...  \n",
       "8507  The bacterial component of the microbiota can ...  \n",
       "8528  Viral genomes are protected within a proteinac...  \n",
       "8614  Dear Editor,\\nEmerging and reemerging viruses ...  \n",
       "8695  The Asia-Pacific region is a geographic source...  \n",
       "8843  On the morning of September 25th 2017, grievou...  \n",
       "8975  Health-Emergency Disaster Risk Management (Hea...  \n",
       "9166  Laboratory testing for viral infections is not...  \n",
       "9374  We read with great interest the article by Kha...  \n",
       "9473  The authors declare that the research was cond...  \n",
       "9546  Coronaviruses (CoVs) are positive-sense single...  "
      ]
     },
     "execution_count": 29,
     "metadata": {},
     "output_type": "execute_result"
    }
   ],
   "source": [
    "df[df.abstract_x != df.abstract_y][['abstract_x', 'abstract_y', 'url', 'body_text_x', 'body_text_y']][\n",
    "    (df.abstract_y.isnull()) & (df.abstract_x != '') & (~df.url.isnull())]"
   ]
  },
  {
   "cell_type": "markdown",
   "metadata": {},
   "source": [
    "body_text_x is from pdf, body_text_y from pmc"
   ]
  },
  {
   "cell_type": "code",
   "execution_count": 30,
   "metadata": {},
   "outputs": [
    {
     "data": {
      "text/plain": [
       "(9557, 26)"
      ]
     },
     "execution_count": 30,
     "metadata": {},
     "output_type": "execute_result"
    }
   ],
   "source": [
    "df.shape"
   ]
  },
  {
   "cell_type": "code",
   "execution_count": 31,
   "metadata": {},
   "outputs": [
    {
     "data": {
      "text/plain": [
       "(0, 1016)"
      ]
     },
     "execution_count": 31,
     "metadata": {},
     "output_type": "execute_result"
    }
   ],
   "source": [
    "df.abstract_x.isnull().sum(), (df.abstract_x =='').sum() # missing abstracts in json files"
   ]
  },
  {
   "cell_type": "code",
   "execution_count": 32,
   "metadata": {},
   "outputs": [
    {
     "data": {
      "text/plain": [
       "(1107, 0)"
      ]
     },
     "execution_count": 32,
     "metadata": {},
     "output_type": "execute_result"
    }
   ],
   "source": [
    "df.abstract_y.isnull().sum(), (df.abstract_y=='').sum() # missing abstracts in metadata"
   ]
  },
  {
   "cell_type": "markdown",
   "metadata": {},
   "source": [
    "Since the abstracts from the metadata seem more reliable we generally use these, but fill the missing values with the abstract from the extracted values from the JSON file."
   ]
  },
  {
   "cell_type": "code",
   "execution_count": 33,
   "metadata": {},
   "outputs": [],
   "source": [
    "df.loc[df.abstract_y.isnull() & (df.abstract_x != ''), 'abstract_y'] = df[(df.abstract_y.isnull()) & (df.abstract_x != '')].abstract_x"
   ]
  },
  {
   "cell_type": "code",
   "execution_count": 34,
   "metadata": {},
   "outputs": [
    {
     "data": {
      "text/plain": [
       "539"
      ]
     },
     "execution_count": 34,
     "metadata": {},
     "output_type": "execute_result"
    }
   ],
   "source": [
    "df.abstract_y.isnull().sum()"
   ]
  },
  {
   "cell_type": "markdown",
   "metadata": {},
   "source": [
    "the remaining missing values are also empty in the json files"
   ]
  },
  {
   "cell_type": "code",
   "execution_count": 35,
   "metadata": {},
   "outputs": [
    {
     "data": {
      "text/plain": [
       "0"
      ]
     },
     "execution_count": 35,
     "metadata": {},
     "output_type": "execute_result"
    }
   ],
   "source": [
    "(df.abstract_y.isnull() & (df.abstract_x!='')).sum()"
   ]
  },
  {
   "cell_type": "code",
   "execution_count": 36,
   "metadata": {},
   "outputs": [],
   "source": [
    "df.rename(columns = {'abstract_y': 'abstract'}, inplace=True)\n",
    "df.drop('abstract_x', axis=1, inplace=True)"
   ]
  },
  {
   "cell_type": "code",
   "execution_count": 37,
   "metadata": {},
   "outputs": [
    {
     "data": {
      "text/plain": [
       "Index(['paper_id_x', 'body_text_x', 'methods_x', 'results_x', 'cord_uid',\n",
       "       'source_x', 'title', 'doi', 'pmcid', 'pubmed_id', 'license', 'abstract',\n",
       "       'publish_time', 'authors', 'journal', 'Microsoft Academic Paper ID',\n",
       "       'WHO #Covidence', 'has_pdf_parse', 'has_pmc_xml_parse',\n",
       "       'full_text_file', 'url', 'paper_id_y', 'body_text_y', 'methods_y',\n",
       "       'results_y'],\n",
       "      dtype='object')"
      ]
     },
     "execution_count": 37,
     "metadata": {},
     "output_type": "execute_result"
    }
   ],
   "source": [
    "df.columns"
   ]
  },
  {
   "cell_type": "markdown",
   "metadata": {},
   "source": [
    "We still have to compare the text body from pdf and pmc files."
   ]
  },
  {
   "cell_type": "code",
   "execution_count": 38,
   "metadata": {},
   "outputs": [
    {
     "data": {
      "text/plain": [
       "(9557, 25)"
      ]
     },
     "execution_count": 38,
     "metadata": {},
     "output_type": "execute_result"
    }
   ],
   "source": [
    "df.shape"
   ]
  },
  {
   "cell_type": "markdown",
   "metadata": {},
   "source": [
    "# Quick comparison of both texts"
   ]
  },
  {
   "cell_type": "code",
   "execution_count": 39,
   "metadata": {},
   "outputs": [
    {
     "data": {
      "text/plain": [
       "(9557, 25)"
      ]
     },
     "execution_count": 39,
     "metadata": {},
     "output_type": "execute_result"
    }
   ],
   "source": [
    "df.shape"
   ]
  },
  {
   "cell_type": "code",
   "execution_count": 40,
   "metadata": {},
   "outputs": [
    {
     "data": {
      "text/plain": [
       "9557"
      ]
     },
     "execution_count": 40,
     "metadata": {},
     "output_type": "execute_result"
    }
   ],
   "source": [
    "(df.body_text_x != df.body_text_y).sum()"
   ]
  },
  {
   "cell_type": "code",
   "execution_count": 41,
   "metadata": {},
   "outputs": [
    {
     "data": {
      "text/plain": [
       "'The incidence of complete Achilles tendon rupture is 18 per 100 000 patient-years 1 and is usually diagnosed clinically by GPs. The extent of clinical misdiagnosis is unknown in Norway, but may be high. 2 This is important as delayed treatment has unfavourable consequences. 1, 3 We report how a GP, with no clinical ultrasound experience, recorded images with a pocket-sized ultrasound device (PSUD) under supervision to confirm a complete Achilles tendon rupture. This could present a new indicatio'"
      ]
     },
     "execution_count": 41,
     "metadata": {},
     "output_type": "execute_result"
    }
   ],
   "source": [
    "df[(df.body_text_x != df.body_text_y) & df.body_text_y.notnull()][['body_text_x', 'body_text_y']].head(10).iloc[2].values[0][:500]"
   ]
  },
  {
   "cell_type": "code",
   "execution_count": 42,
   "metadata": {},
   "outputs": [
    {
     "data": {
      "text/plain": [
       "\"Hajj is the fifth pillar of Islam and is described in the Quran, as Almighty God says: 'Pilgrimage to this House is an obligation by God upon whoever is able among the people' (3:97).3 It is obligatory for every Muslim adult with mental capacity to perform the Hajj once in a lifetime, if reasonably able to do so without excessive hardship. The pilgrimage lasts 5 days, although pilgrims usually travel for longer. The Hajj occurs 10 days earlier each year (adhering to the lunar calendar), and in 2\""
      ]
     },
     "execution_count": 42,
     "metadata": {},
     "output_type": "execute_result"
    }
   ],
   "source": [
    "df[(df.body_text_x != df.body_text_y) & df.body_text_y.notnull()][['body_text_x', 'body_text_y']].head(10).iloc[2].values[1][:500]"
   ]
  },
  {
   "cell_type": "code",
   "execution_count": 43,
   "metadata": {},
   "outputs": [
    {
     "data": {
      "text/html": [
       "<div>\n",
       "<style scoped>\n",
       "    .dataframe tbody tr th:only-of-type {\n",
       "        vertical-align: middle;\n",
       "    }\n",
       "\n",
       "    .dataframe tbody tr th {\n",
       "        vertical-align: top;\n",
       "    }\n",
       "\n",
       "    .dataframe thead th {\n",
       "        text-align: right;\n",
       "    }\n",
       "</style>\n",
       "<table border=\"1\" class=\"dataframe\">\n",
       "  <thead>\n",
       "    <tr style=\"text-align: right;\">\n",
       "      <th></th>\n",
       "      <th>paper_id_x</th>\n",
       "      <th>body_text_x</th>\n",
       "      <th>methods_x</th>\n",
       "      <th>results_x</th>\n",
       "      <th>cord_uid</th>\n",
       "      <th>source_x</th>\n",
       "      <th>title</th>\n",
       "      <th>doi</th>\n",
       "      <th>pmcid</th>\n",
       "      <th>pubmed_id</th>\n",
       "      <th>...</th>\n",
       "      <th>Microsoft Academic Paper ID</th>\n",
       "      <th>WHO #Covidence</th>\n",
       "      <th>has_pdf_parse</th>\n",
       "      <th>has_pmc_xml_parse</th>\n",
       "      <th>full_text_file</th>\n",
       "      <th>url</th>\n",
       "      <th>paper_id_y</th>\n",
       "      <th>body_text_y</th>\n",
       "      <th>methods_y</th>\n",
       "      <th>results_y</th>\n",
       "    </tr>\n",
       "  </thead>\n",
       "  <tbody>\n",
       "    <tr>\n",
       "      <th>0</th>\n",
       "      <td>5e0c586f047ff909c8ed3fe171c8975a90608d08</td>\n",
       "      <td>Porcine epidemic diarrhea virus (PEDV), which ...</td>\n",
       "      <td></td>\n",
       "      <td></td>\n",
       "      <td>25tcxise</td>\n",
       "      <td>PMC</td>\n",
       "      <td>Neutralizing antibodies against porcine epidem...</td>\n",
       "      <td>10.1186/s12985-018-1042-3</td>\n",
       "      <td>PMC6117962</td>\n",
       "      <td>30165871</td>\n",
       "      <td>...</td>\n",
       "      <td>NaN</td>\n",
       "      <td>NaN</td>\n",
       "      <td>True</td>\n",
       "      <td>True</td>\n",
       "      <td>comm_use_subset</td>\n",
       "      <td>https://www.ncbi.nlm.nih.gov/pmc/articles/PMC6...</td>\n",
       "      <td>PMC6117962</td>\n",
       "      <td>Porcine epidemic diarrhea virus (PEDV), which ...</td>\n",
       "      <td>The Vero E6 cell line was cultured and maintai...</td>\n",
       "      <td>PEDV concentration was enriched 100 fold and p...</td>\n",
       "    </tr>\n",
       "    <tr>\n",
       "      <th>1</th>\n",
       "      <td>1579fbff7af9b156c6f49fee0526e48f852ea460</td>\n",
       "      <td>Generation of rNDVs expressing S1, S2 or S pro...</td>\n",
       "      <td></td>\n",
       "      <td>Generation of rNDVs expressing S1, S2 or S pro...</td>\n",
       "      <td>o7y3wygc</td>\n",
       "      <td>PMC</td>\n",
       "      <td>A Recombinant Newcastle Disease Virus (NDV) Ex...</td>\n",
       "      <td>10.1038/s41598-018-30356-2</td>\n",
       "      <td>PMC6086832</td>\n",
       "      <td>30097608</td>\n",
       "      <td>...</td>\n",
       "      <td>NaN</td>\n",
       "      <td>NaN</td>\n",
       "      <td>True</td>\n",
       "      <td>True</td>\n",
       "      <td>comm_use_subset</td>\n",
       "      <td>https://www.ncbi.nlm.nih.gov/pmc/articles/PMC6...</td>\n",
       "      <td>PMC6086832</td>\n",
       "      <td>Infectious Bronchitis (IB) is an acute and hig...</td>\n",
       "      <td>Chicken embryo fibroblast (DF-1) cells and hum...</td>\n",
       "      <td>The expression cassettes containing the codon ...</td>\n",
       "    </tr>\n",
       "    <tr>\n",
       "      <th>2</th>\n",
       "      <td>e0668c4b793d0cad26639b070819334a94648123</td>\n",
       "      <td>The incidence of complete Achilles tendon rupt...</td>\n",
       "      <td></td>\n",
       "      <td></td>\n",
       "      <td>6h34gp3x</td>\n",
       "      <td>PMC</td>\n",
       "      <td>‘Hajj: what it means for general practice’</td>\n",
       "      <td>10.3399/bjgpopen18x101493</td>\n",
       "      <td>PMC6184103</td>\n",
       "      <td>30564715</td>\n",
       "      <td>...</td>\n",
       "      <td>NaN</td>\n",
       "      <td>NaN</td>\n",
       "      <td>True</td>\n",
       "      <td>True</td>\n",
       "      <td>comm_use_subset</td>\n",
       "      <td>https://www.ncbi.nlm.nih.gov/pmc/articles/PMC6...</td>\n",
       "      <td>PMC6184103</td>\n",
       "      <td>Hajj is the fifth pillar of Islam and is descr...</td>\n",
       "      <td></td>\n",
       "      <td></td>\n",
       "    </tr>\n",
       "    <tr>\n",
       "      <th>3</th>\n",
       "      <td>38aa050ad79d8a1d7022c33535255ce9d47914e5</td>\n",
       "      <td>Arenaviruses are enveloped RNA viruses with bi...</td>\n",
       "      <td></td>\n",
       "      <td></td>\n",
       "      <td>7smnk0ob</td>\n",
       "      <td>PMC</td>\n",
       "      <td>Potent Inhibition of Junín Virus Infection by ...</td>\n",
       "      <td>10.1371/journal.pntd.0002933</td>\n",
       "      <td>PMC4046933</td>\n",
       "      <td>24901990</td>\n",
       "      <td>...</td>\n",
       "      <td>NaN</td>\n",
       "      <td>NaN</td>\n",
       "      <td>True</td>\n",
       "      <td>True</td>\n",
       "      <td>comm_use_subset</td>\n",
       "      <td>https://www.ncbi.nlm.nih.gov/pmc/articles/PMC4...</td>\n",
       "      <td>PMC4046933</td>\n",
       "      <td>Arenaviruses are enveloped RNA viruses with bi...</td>\n",
       "      <td>The pathogenic strain Romero JUNV was obtained...</td>\n",
       "      <td>To understand if IFN has direct impact on JUNV...</td>\n",
       "    </tr>\n",
       "    <tr>\n",
       "      <th>4</th>\n",
       "      <td>61722c462b054f36461375e96e502cbf22648c04</td>\n",
       "      <td>In this study, the anti-dengue activity of nic...</td>\n",
       "      <td></td>\n",
       "      <td></td>\n",
       "      <td>wmfwl2bh</td>\n",
       "      <td>PMC</td>\n",
       "      <td>Neutralization of Acidic Intracellular Vesicle...</td>\n",
       "      <td>10.1038/s41598-019-45095-1</td>\n",
       "      <td>PMC6582152</td>\n",
       "      <td>31213630</td>\n",
       "      <td>...</td>\n",
       "      <td>NaN</td>\n",
       "      <td>NaN</td>\n",
       "      <td>True</td>\n",
       "      <td>True</td>\n",
       "      <td>comm_use_subset</td>\n",
       "      <td>https://www.ncbi.nlm.nih.gov/pmc/articles/PMC6...</td>\n",
       "      <td>PMC6582152</td>\n",
       "      <td>Dengue virus (DENV) represents a major mosquit...</td>\n",
       "      <td>C6/36 mosquito cells (ATCC® CRL-1660TM) and Ve...</td>\n",
       "      <td>In this study, the anti-dengue activity of nic...</td>\n",
       "    </tr>\n",
       "  </tbody>\n",
       "</table>\n",
       "<p>5 rows × 25 columns</p>\n",
       "</div>"
      ],
      "text/plain": [
       "                                 paper_id_x  \\\n",
       "0  5e0c586f047ff909c8ed3fe171c8975a90608d08   \n",
       "1  1579fbff7af9b156c6f49fee0526e48f852ea460   \n",
       "2  e0668c4b793d0cad26639b070819334a94648123   \n",
       "3  38aa050ad79d8a1d7022c33535255ce9d47914e5   \n",
       "4  61722c462b054f36461375e96e502cbf22648c04   \n",
       "\n",
       "                                         body_text_x methods_x  \\\n",
       "0  Porcine epidemic diarrhea virus (PEDV), which ...             \n",
       "1  Generation of rNDVs expressing S1, S2 or S pro...             \n",
       "2  The incidence of complete Achilles tendon rupt...             \n",
       "3  Arenaviruses are enveloped RNA viruses with bi...             \n",
       "4  In this study, the anti-dengue activity of nic...             \n",
       "\n",
       "                                           results_x  cord_uid source_x  \\\n",
       "0                                                     25tcxise      PMC   \n",
       "1  Generation of rNDVs expressing S1, S2 or S pro...  o7y3wygc      PMC   \n",
       "2                                                     6h34gp3x      PMC   \n",
       "3                                                     7smnk0ob      PMC   \n",
       "4                                                     wmfwl2bh      PMC   \n",
       "\n",
       "                                               title  \\\n",
       "0  Neutralizing antibodies against porcine epidem...   \n",
       "1  A Recombinant Newcastle Disease Virus (NDV) Ex...   \n",
       "2         ‘Hajj: what it means for general practice’   \n",
       "3  Potent Inhibition of Junín Virus Infection by ...   \n",
       "4  Neutralization of Acidic Intracellular Vesicle...   \n",
       "\n",
       "                            doi       pmcid pubmed_id  ...  \\\n",
       "0     10.1186/s12985-018-1042-3  PMC6117962  30165871  ...   \n",
       "1    10.1038/s41598-018-30356-2  PMC6086832  30097608  ...   \n",
       "2     10.3399/bjgpopen18x101493  PMC6184103  30564715  ...   \n",
       "3  10.1371/journal.pntd.0002933  PMC4046933  24901990  ...   \n",
       "4    10.1038/s41598-019-45095-1  PMC6582152  31213630  ...   \n",
       "\n",
       "  Microsoft Academic Paper ID WHO #Covidence has_pdf_parse has_pmc_xml_parse  \\\n",
       "0                         NaN            NaN          True              True   \n",
       "1                         NaN            NaN          True              True   \n",
       "2                         NaN            NaN          True              True   \n",
       "3                         NaN            NaN          True              True   \n",
       "4                         NaN            NaN          True              True   \n",
       "\n",
       "    full_text_file                                                url  \\\n",
       "0  comm_use_subset  https://www.ncbi.nlm.nih.gov/pmc/articles/PMC6...   \n",
       "1  comm_use_subset  https://www.ncbi.nlm.nih.gov/pmc/articles/PMC6...   \n",
       "2  comm_use_subset  https://www.ncbi.nlm.nih.gov/pmc/articles/PMC6...   \n",
       "3  comm_use_subset  https://www.ncbi.nlm.nih.gov/pmc/articles/PMC4...   \n",
       "4  comm_use_subset  https://www.ncbi.nlm.nih.gov/pmc/articles/PMC6...   \n",
       "\n",
       "   paper_id_y                                        body_text_y  \\\n",
       "0  PMC6117962  Porcine epidemic diarrhea virus (PEDV), which ...   \n",
       "1  PMC6086832  Infectious Bronchitis (IB) is an acute and hig...   \n",
       "2  PMC6184103  Hajj is the fifth pillar of Islam and is descr...   \n",
       "3  PMC4046933  Arenaviruses are enveloped RNA viruses with bi...   \n",
       "4  PMC6582152  Dengue virus (DENV) represents a major mosquit...   \n",
       "\n",
       "                                           methods_y  \\\n",
       "0  The Vero E6 cell line was cultured and maintai...   \n",
       "1  Chicken embryo fibroblast (DF-1) cells and hum...   \n",
       "2                                                      \n",
       "3  The pathogenic strain Romero JUNV was obtained...   \n",
       "4  C6/36 mosquito cells (ATCC® CRL-1660TM) and Ve...   \n",
       "\n",
       "                                           results_y  \n",
       "0  PEDV concentration was enriched 100 fold and p...  \n",
       "1  The expression cassettes containing the codon ...  \n",
       "2                                                     \n",
       "3  To understand if IFN has direct impact on JUNV...  \n",
       "4  In this study, the anti-dengue activity of nic...  \n",
       "\n",
       "[5 rows x 25 columns]"
      ]
     },
     "execution_count": 43,
     "metadata": {},
     "output_type": "execute_result"
    }
   ],
   "source": [
    "df[df.body_text_x != df.body_text_y].head()"
   ]
  },
  {
   "cell_type": "code",
   "execution_count": 44,
   "metadata": {},
   "outputs": [],
   "source": [
    "#df.iloc[34885].body_text_x[:500]"
   ]
  },
  {
   "cell_type": "code",
   "execution_count": 45,
   "metadata": {},
   "outputs": [],
   "source": [
    "#df.iloc[34885].body_text_y[:500]"
   ]
  },
  {
   "cell_type": "code",
   "execution_count": 46,
   "metadata": {},
   "outputs": [],
   "source": [
    "#df.iloc[34885].url"
   ]
  },
  {
   "cell_type": "code",
   "execution_count": 47,
   "metadata": {},
   "outputs": [],
   "source": [
    "#df.iloc[34888].body_text_x[:500]"
   ]
  },
  {
   "cell_type": "code",
   "execution_count": 48,
   "metadata": {},
   "outputs": [],
   "source": [
    "#df.iloc[34888].body_text_y[:500]"
   ]
  },
  {
   "cell_type": "code",
   "execution_count": 49,
   "metadata": {},
   "outputs": [],
   "source": [
    "#df.iloc[34888].url"
   ]
  },
  {
   "cell_type": "code",
   "execution_count": 50,
   "metadata": {},
   "outputs": [
    {
     "data": {
      "text/plain": [
       "'Despite remarkable progress in the control and treatment of infectious diseases, the problem of emerging and re-emerging pathogens is likely to be one of the main issues of medical science and public health in the twenty-first century [1] . In this respect viral diseases are of particular concern, because advances in the field of antiviral drugs have lagged behind those regarding bactericidal drugs and antibiotics. It was shown by the emergence of the severe acute respiratory syndrome (SARS) tha'"
      ]
     },
     "execution_count": 50,
     "metadata": {},
     "output_type": "execute_result"
    }
   ],
   "source": [
    "df.iloc[1337].body_text_x[:500]"
   ]
  },
  {
   "cell_type": "code",
   "execution_count": 51,
   "metadata": {},
   "outputs": [
    {
     "data": {
      "text/plain": [
       "'Despite remarkable progress in the control and treatment of infectious diseases, the problem of emerging and re-emerging pathogens is likely to be one of the main issues of medical science and public health in the twenty-first century [1]. In this respect viral diseases are of particular concern, because advances in the field of antiviral drugs have lagged behind those regarding bactericidal drugs and antibiotics. It was shown by the emergence of the severe acute respiratory syndrome (SARS) that'"
      ]
     },
     "execution_count": 51,
     "metadata": {},
     "output_type": "execute_result"
    }
   ],
   "source": [
    "df.iloc[1337].body_text_y[:500]"
   ]
  },
  {
   "cell_type": "code",
   "execution_count": 52,
   "metadata": {},
   "outputs": [
    {
     "data": {
      "text/plain": [
       "'https://www.ncbi.nlm.nih.gov/pmc/articles/PMC3169512/'"
      ]
     },
     "execution_count": 52,
     "metadata": {},
     "output_type": "execute_result"
    }
   ],
   "source": [
    "df.iloc[1337].url"
   ]
  },
  {
   "cell_type": "code",
   "execution_count": 53,
   "metadata": {},
   "outputs": [
    {
     "data": {
      "text/plain": [
       "'The Hospital Authority (HA) is a statutory body established under the Hospital Authority Ordinance in 1990, which manages all the public hospitals and institutes in Hong Kong (HK). The strategic priorities of Hong Kong Hospital Authority (HKHA) are to (i) allay staff shortage and high turnover; (ii) better manage growing service demand; (iii) ensure service quality and safety; (iv) enhance partnership with patients and community; (v) ensure adequate resources to meet the service demand; and (vi)'"
      ]
     },
     "execution_count": 53,
     "metadata": {},
     "output_type": "execute_result"
    }
   ],
   "source": [
    "df.iloc[1242].body_text_x[:500]"
   ]
  },
  {
   "cell_type": "code",
   "execution_count": 54,
   "metadata": {},
   "outputs": [
    {
     "data": {
      "text/plain": [
       "'The Hospital Authority (HA) is a statutory body established under the Hospital Authority Ordinance in 1990, which manages all the public hospitals and institutes in Hong Kong (HK). The strategic priorities of Hong Kong Hospital Authority (HKHA) are to (i) allay staff shortage and high turnover; (ii) better manage growing service demand; (iii) ensure service quality and safety; (iv) enhance partnership with patients and community; (v) ensure adequate resources to meet the service demand; and (vi)'"
      ]
     },
     "execution_count": 54,
     "metadata": {},
     "output_type": "execute_result"
    }
   ],
   "source": [
    "df.iloc[1242].body_text_y[:500]"
   ]
  },
  {
   "cell_type": "code",
   "execution_count": 55,
   "metadata": {},
   "outputs": [
    {
     "data": {
      "text/plain": [
       "'https://www.ncbi.nlm.nih.gov/pmc/articles/PMC5590922/'"
      ]
     },
     "execution_count": 55,
     "metadata": {},
     "output_type": "execute_result"
    }
   ],
   "source": [
    "df.iloc[1242].url"
   ]
  },
  {
   "cell_type": "markdown",
   "metadata": {},
   "source": [
    "Where available we use the text from the pmc file (body_text_y), trusting the statement that it is of higher quality."
   ]
  },
  {
   "cell_type": "code",
   "execution_count": 56,
   "metadata": {},
   "outputs": [
    {
     "data": {
      "text/plain": [
       "(0, 945)"
      ]
     },
     "execution_count": 56,
     "metadata": {},
     "output_type": "execute_result"
    }
   ],
   "source": [
    "df.body_text_x.isnull().sum(), df.body_text_y.isnull().sum()"
   ]
  },
  {
   "cell_type": "code",
   "execution_count": 57,
   "metadata": {},
   "outputs": [
    {
     "data": {
      "text/plain": [
       "(0, 0)"
      ]
     },
     "execution_count": 57,
     "metadata": {},
     "output_type": "execute_result"
    }
   ],
   "source": [
    "(df.body_text_x == '').sum(), (df.body_text_y == '').sum()"
   ]
  },
  {
   "cell_type": "code",
   "execution_count": 58,
   "metadata": {},
   "outputs": [],
   "source": [
    "df.loc[df.body_text_y.notnull(), 'body_text_x'] = df.loc[df.body_text_y.notnull(), 'body_text_y']"
   ]
  },
  {
   "cell_type": "code",
   "execution_count": 59,
   "metadata": {},
   "outputs": [
    {
     "data": {
      "text/plain": [
       "0"
      ]
     },
     "execution_count": 59,
     "metadata": {},
     "output_type": "execute_result"
    }
   ],
   "source": [
    "df.body_text_x.isnull().sum()"
   ]
  },
  {
   "cell_type": "code",
   "execution_count": 60,
   "metadata": {},
   "outputs": [],
   "source": [
    "df.rename(columns = {'body_text_x': 'body_text'}, inplace=True)\n",
    "df.drop('body_text_y', axis=1, inplace=True)"
   ]
  },
  {
   "cell_type": "code",
   "execution_count": 61,
   "metadata": {},
   "outputs": [
    {
     "data": {
      "text/plain": [
       "Index(['paper_id_x', 'body_text', 'methods_x', 'results_x', 'cord_uid',\n",
       "       'source_x', 'title', 'doi', 'pmcid', 'pubmed_id', 'license', 'abstract',\n",
       "       'publish_time', 'authors', 'journal', 'Microsoft Academic Paper ID',\n",
       "       'WHO #Covidence', 'has_pdf_parse', 'has_pmc_xml_parse',\n",
       "       'full_text_file', 'url', 'paper_id_y', 'methods_y', 'results_y'],\n",
       "      dtype='object')"
      ]
     },
     "execution_count": 61,
     "metadata": {},
     "output_type": "execute_result"
    }
   ],
   "source": [
    "df.columns"
   ]
  },
  {
   "cell_type": "code",
   "execution_count": 62,
   "metadata": {},
   "outputs": [
    {
     "data": {
      "text/html": [
       "<div>\n",
       "<style scoped>\n",
       "    .dataframe tbody tr th:only-of-type {\n",
       "        vertical-align: middle;\n",
       "    }\n",
       "\n",
       "    .dataframe tbody tr th {\n",
       "        vertical-align: top;\n",
       "    }\n",
       "\n",
       "    .dataframe thead th {\n",
       "        text-align: right;\n",
       "    }\n",
       "</style>\n",
       "<table border=\"1\" class=\"dataframe\">\n",
       "  <thead>\n",
       "    <tr style=\"text-align: right;\">\n",
       "      <th></th>\n",
       "      <th>methods_x</th>\n",
       "      <th>methods_y</th>\n",
       "      <th>url</th>\n",
       "    </tr>\n",
       "  </thead>\n",
       "  <tbody>\n",
       "    <tr>\n",
       "      <th>0</th>\n",
       "      <td></td>\n",
       "      <td>The Vero E6 cell line was cultured and maintai...</td>\n",
       "      <td>https://www.ncbi.nlm.nih.gov/pmc/articles/PMC6...</td>\n",
       "    </tr>\n",
       "    <tr>\n",
       "      <th>1</th>\n",
       "      <td></td>\n",
       "      <td>Chicken embryo fibroblast (DF-1) cells and hum...</td>\n",
       "      <td>https://www.ncbi.nlm.nih.gov/pmc/articles/PMC6...</td>\n",
       "    </tr>\n",
       "    <tr>\n",
       "      <th>2</th>\n",
       "      <td></td>\n",
       "      <td></td>\n",
       "      <td>https://www.ncbi.nlm.nih.gov/pmc/articles/PMC6...</td>\n",
       "    </tr>\n",
       "    <tr>\n",
       "      <th>3</th>\n",
       "      <td></td>\n",
       "      <td>The pathogenic strain Romero JUNV was obtained...</td>\n",
       "      <td>https://www.ncbi.nlm.nih.gov/pmc/articles/PMC4...</td>\n",
       "    </tr>\n",
       "    <tr>\n",
       "      <th>4</th>\n",
       "      <td></td>\n",
       "      <td>C6/36 mosquito cells (ATCC® CRL-1660TM) and Ve...</td>\n",
       "      <td>https://www.ncbi.nlm.nih.gov/pmc/articles/PMC6...</td>\n",
       "    </tr>\n",
       "    <tr>\n",
       "      <th>...</th>\n",
       "      <td>...</td>\n",
       "      <td>...</td>\n",
       "      <td>...</td>\n",
       "    </tr>\n",
       "    <tr>\n",
       "      <th>9552</th>\n",
       "      <td>Prior to beginning studies involving animals t...</td>\n",
       "      <td>Prior to beginning studies involving animals t...</td>\n",
       "      <td>https://www.ncbi.nlm.nih.gov/pmc/articles/PMC6...</td>\n",
       "    </tr>\n",
       "    <tr>\n",
       "      <th>9553</th>\n",
       "      <td>The diagnosis of secondary syphilis was based ...</td>\n",
       "      <td>SS patients from Cali, Colombia were recruited...</td>\n",
       "      <td>https://www.ncbi.nlm.nih.gov/pmc/articles/PMC2...</td>\n",
       "    </tr>\n",
       "    <tr>\n",
       "      <th>9554</th>\n",
       "      <td></td>\n",
       "      <td>All animal experiments were approved by the In...</td>\n",
       "      <td>https://www.ncbi.nlm.nih.gov/pmc/articles/PMC4...</td>\n",
       "    </tr>\n",
       "    <tr>\n",
       "      <th>9555</th>\n",
       "      <td>The following are available online at http://w...</td>\n",
       "      <td>Vero cells were grown in modified Eagle’s medi...</td>\n",
       "      <td>https://www.ncbi.nlm.nih.gov/pmc/articles/PMC5...</td>\n",
       "    </tr>\n",
       "    <tr>\n",
       "      <th>9556</th>\n",
       "      <td></td>\n",
       "      <td>Fifteen M. rubra colonies, collected in their ...</td>\n",
       "      <td>https://www.ncbi.nlm.nih.gov/pmc/articles/PMC6...</td>\n",
       "    </tr>\n",
       "  </tbody>\n",
       "</table>\n",
       "<p>8612 rows × 3 columns</p>\n",
       "</div>"
      ],
      "text/plain": [
       "                                              methods_x  \\\n",
       "0                                                         \n",
       "1                                                         \n",
       "2                                                         \n",
       "3                                                         \n",
       "4                                                         \n",
       "...                                                 ...   \n",
       "9552  Prior to beginning studies involving animals t...   \n",
       "9553  The diagnosis of secondary syphilis was based ...   \n",
       "9554                                                      \n",
       "9555  The following are available online at http://w...   \n",
       "9556                                                      \n",
       "\n",
       "                                              methods_y  \\\n",
       "0     The Vero E6 cell line was cultured and maintai...   \n",
       "1     Chicken embryo fibroblast (DF-1) cells and hum...   \n",
       "2                                                         \n",
       "3     The pathogenic strain Romero JUNV was obtained...   \n",
       "4     C6/36 mosquito cells (ATCC® CRL-1660TM) and Ve...   \n",
       "...                                                 ...   \n",
       "9552  Prior to beginning studies involving animals t...   \n",
       "9553  SS patients from Cali, Colombia were recruited...   \n",
       "9554  All animal experiments were approved by the In...   \n",
       "9555  Vero cells were grown in modified Eagle’s medi...   \n",
       "9556  Fifteen M. rubra colonies, collected in their ...   \n",
       "\n",
       "                                                    url  \n",
       "0     https://www.ncbi.nlm.nih.gov/pmc/articles/PMC6...  \n",
       "1     https://www.ncbi.nlm.nih.gov/pmc/articles/PMC6...  \n",
       "2     https://www.ncbi.nlm.nih.gov/pmc/articles/PMC6...  \n",
       "3     https://www.ncbi.nlm.nih.gov/pmc/articles/PMC4...  \n",
       "4     https://www.ncbi.nlm.nih.gov/pmc/articles/PMC6...  \n",
       "...                                                 ...  \n",
       "9552  https://www.ncbi.nlm.nih.gov/pmc/articles/PMC6...  \n",
       "9553  https://www.ncbi.nlm.nih.gov/pmc/articles/PMC2...  \n",
       "9554  https://www.ncbi.nlm.nih.gov/pmc/articles/PMC4...  \n",
       "9555  https://www.ncbi.nlm.nih.gov/pmc/articles/PMC5...  \n",
       "9556  https://www.ncbi.nlm.nih.gov/pmc/articles/PMC6...  \n",
       "\n",
       "[8612 rows x 3 columns]"
      ]
     },
     "execution_count": 62,
     "metadata": {},
     "output_type": "execute_result"
    }
   ],
   "source": [
    "df[['methods_x', 'methods_y', 'url']][df.methods_y.notnull()]"
   ]
  },
  {
   "cell_type": "code",
   "execution_count": 63,
   "metadata": {},
   "outputs": [
    {
     "data": {
      "text/plain": [
       "(6269, 0)"
      ]
     },
     "execution_count": 63,
     "metadata": {},
     "output_type": "execute_result"
    }
   ],
   "source": [
    "(df.methods_x == '').sum(), df.methods_x.isnull().sum()"
   ]
  },
  {
   "cell_type": "code",
   "execution_count": 64,
   "metadata": {},
   "outputs": [
    {
     "data": {
      "text/plain": [
       "(2050, 945)"
      ]
     },
     "execution_count": 64,
     "metadata": {},
     "output_type": "execute_result"
    }
   ],
   "source": [
    "(df.methods_y == '').sum(), df.methods_y.isnull().sum()"
   ]
  },
  {
   "cell_type": "code",
   "execution_count": 65,
   "metadata": {},
   "outputs": [],
   "source": [
    "# use methods_y (from pmc) when it's available\n",
    "mask = (df.methods_y.notnull()) & (df.methods_y != '')\n",
    "df.loc[mask, 'methods_x'] = df.loc[mask, 'methods_y']\n",
    "\n",
    "# same for results\n",
    "mask = (df.results_y.notnull()) & (df.results_y != '')\n",
    "df.loc[mask, 'results_x'] = df.loc[mask, 'results_y']"
   ]
  },
  {
   "cell_type": "code",
   "execution_count": 66,
   "metadata": {},
   "outputs": [
    {
     "data": {
      "text/plain": [
       "(2827, 0)"
      ]
     },
     "execution_count": 66,
     "metadata": {},
     "output_type": "execute_result"
    }
   ],
   "source": [
    "(df.results_x == '').sum(), df.results_x.isnull().sum()"
   ]
  },
  {
   "cell_type": "code",
   "execution_count": 67,
   "metadata": {},
   "outputs": [
    {
     "data": {
      "text/plain": [
       "(2134, 945)"
      ]
     },
     "execution_count": 67,
     "metadata": {},
     "output_type": "execute_result"
    }
   ],
   "source": [
    "(df.results_y == '').sum(), df.results_y.isnull().sum()"
   ]
  },
  {
   "cell_type": "code",
   "execution_count": 68,
   "metadata": {},
   "outputs": [],
   "source": [
    "df.rename(columns = {'methods_x': 'methods', 'results_x': 'results'}, inplace=True)\n",
    "df.drop(columns=['methods_y', 'results_y'], inplace=True)"
   ]
  },
  {
   "cell_type": "code",
   "execution_count": 69,
   "metadata": {},
   "outputs": [],
   "source": [
    "df.rename(columns = {'paper_id_x': 'paper_id', 'source_x': 'source'}, inplace=True)"
   ]
  },
  {
   "cell_type": "code",
   "execution_count": 70,
   "metadata": {},
   "outputs": [
    {
     "data": {
      "text/plain": [
       "Index(['paper_id', 'body_text', 'methods', 'results', 'cord_uid', 'source',\n",
       "       'title', 'doi', 'pmcid', 'pubmed_id', 'license', 'abstract',\n",
       "       'publish_time', 'authors', 'journal', 'Microsoft Academic Paper ID',\n",
       "       'WHO #Covidence', 'has_pdf_parse', 'has_pmc_xml_parse',\n",
       "       'full_text_file', 'url', 'paper_id_y'],\n",
       "      dtype='object')"
      ]
     },
     "execution_count": 70,
     "metadata": {},
     "output_type": "execute_result"
    }
   ],
   "source": [
    "df.columns"
   ]
  },
  {
   "cell_type": "code",
   "execution_count": 71,
   "metadata": {},
   "outputs": [
    {
     "data": {
      "text/html": [
       "<div>\n",
       "<style scoped>\n",
       "    .dataframe tbody tr th:only-of-type {\n",
       "        vertical-align: middle;\n",
       "    }\n",
       "\n",
       "    .dataframe tbody tr th {\n",
       "        vertical-align: top;\n",
       "    }\n",
       "\n",
       "    .dataframe thead th {\n",
       "        text-align: right;\n",
       "    }\n",
       "</style>\n",
       "<table border=\"1\" class=\"dataframe\">\n",
       "  <thead>\n",
       "    <tr style=\"text-align: right;\">\n",
       "      <th></th>\n",
       "      <th>paper_id</th>\n",
       "      <th>body_text</th>\n",
       "      <th>methods</th>\n",
       "      <th>results</th>\n",
       "      <th>cord_uid</th>\n",
       "      <th>source</th>\n",
       "      <th>title</th>\n",
       "      <th>doi</th>\n",
       "      <th>pmcid</th>\n",
       "      <th>pubmed_id</th>\n",
       "      <th>...</th>\n",
       "      <th>publish_time</th>\n",
       "      <th>authors</th>\n",
       "      <th>journal</th>\n",
       "      <th>Microsoft Academic Paper ID</th>\n",
       "      <th>WHO #Covidence</th>\n",
       "      <th>has_pdf_parse</th>\n",
       "      <th>has_pmc_xml_parse</th>\n",
       "      <th>full_text_file</th>\n",
       "      <th>url</th>\n",
       "      <th>paper_id_y</th>\n",
       "    </tr>\n",
       "  </thead>\n",
       "  <tbody>\n",
       "    <tr>\n",
       "      <th>0</th>\n",
       "      <td>5e0c586f047ff909c8ed3fe171c8975a90608d08</td>\n",
       "      <td>Porcine epidemic diarrhea virus (PEDV), which ...</td>\n",
       "      <td>The Vero E6 cell line was cultured and maintai...</td>\n",
       "      <td>PEDV concentration was enriched 100 fold and p...</td>\n",
       "      <td>25tcxise</td>\n",
       "      <td>PMC</td>\n",
       "      <td>Neutralizing antibodies against porcine epidem...</td>\n",
       "      <td>10.1186/s12985-018-1042-3</td>\n",
       "      <td>PMC6117962</td>\n",
       "      <td>30165871</td>\n",
       "      <td>...</td>\n",
       "      <td>2018-08-30</td>\n",
       "      <td>Gong, Lang; Lin, Ying; Qin, Jianru; Li, Qianni...</td>\n",
       "      <td>Virol J</td>\n",
       "      <td>NaN</td>\n",
       "      <td>NaN</td>\n",
       "      <td>True</td>\n",
       "      <td>True</td>\n",
       "      <td>comm_use_subset</td>\n",
       "      <td>https://www.ncbi.nlm.nih.gov/pmc/articles/PMC6...</td>\n",
       "      <td>PMC6117962</td>\n",
       "    </tr>\n",
       "    <tr>\n",
       "      <th>1</th>\n",
       "      <td>1579fbff7af9b156c6f49fee0526e48f852ea460</td>\n",
       "      <td>Infectious Bronchitis (IB) is an acute and hig...</td>\n",
       "      <td>Chicken embryo fibroblast (DF-1) cells and hum...</td>\n",
       "      <td>The expression cassettes containing the codon ...</td>\n",
       "      <td>o7y3wygc</td>\n",
       "      <td>PMC</td>\n",
       "      <td>A Recombinant Newcastle Disease Virus (NDV) Ex...</td>\n",
       "      <td>10.1038/s41598-018-30356-2</td>\n",
       "      <td>PMC6086832</td>\n",
       "      <td>30097608</td>\n",
       "      <td>...</td>\n",
       "      <td>2018-08-10</td>\n",
       "      <td>Shirvani, Edris; Paldurai, Anandan; Manoharan,...</td>\n",
       "      <td>Sci Rep</td>\n",
       "      <td>NaN</td>\n",
       "      <td>NaN</td>\n",
       "      <td>True</td>\n",
       "      <td>True</td>\n",
       "      <td>comm_use_subset</td>\n",
       "      <td>https://www.ncbi.nlm.nih.gov/pmc/articles/PMC6...</td>\n",
       "      <td>PMC6086832</td>\n",
       "    </tr>\n",
       "    <tr>\n",
       "      <th>2</th>\n",
       "      <td>e0668c4b793d0cad26639b070819334a94648123</td>\n",
       "      <td>Hajj is the fifth pillar of Islam and is descr...</td>\n",
       "      <td></td>\n",
       "      <td></td>\n",
       "      <td>6h34gp3x</td>\n",
       "      <td>PMC</td>\n",
       "      <td>‘Hajj: what it means for general practice’</td>\n",
       "      <td>10.3399/bjgpopen18x101493</td>\n",
       "      <td>PMC6184103</td>\n",
       "      <td>30564715</td>\n",
       "      <td>...</td>\n",
       "      <td>2018-04-18</td>\n",
       "      <td>Mughal, Faraz; Chew-Graham, Carolyn A; Saad, A...</td>\n",
       "      <td>BJGP Open</td>\n",
       "      <td>NaN</td>\n",
       "      <td>NaN</td>\n",
       "      <td>True</td>\n",
       "      <td>True</td>\n",
       "      <td>comm_use_subset</td>\n",
       "      <td>https://www.ncbi.nlm.nih.gov/pmc/articles/PMC6...</td>\n",
       "      <td>PMC6184103</td>\n",
       "    </tr>\n",
       "    <tr>\n",
       "      <th>3</th>\n",
       "      <td>38aa050ad79d8a1d7022c33535255ce9d47914e5</td>\n",
       "      <td>Arenaviruses are enveloped RNA viruses with bi...</td>\n",
       "      <td>The pathogenic strain Romero JUNV was obtained...</td>\n",
       "      <td>To understand if IFN has direct impact on JUNV...</td>\n",
       "      <td>7smnk0ob</td>\n",
       "      <td>PMC</td>\n",
       "      <td>Potent Inhibition of Junín Virus Infection by ...</td>\n",
       "      <td>10.1371/journal.pntd.0002933</td>\n",
       "      <td>PMC4046933</td>\n",
       "      <td>24901990</td>\n",
       "      <td>...</td>\n",
       "      <td>2014-06-05</td>\n",
       "      <td>Huang, Cheng; Walker, Aida G.; Grant, Ashley M...</td>\n",
       "      <td>PLoS Negl Trop Dis</td>\n",
       "      <td>NaN</td>\n",
       "      <td>NaN</td>\n",
       "      <td>True</td>\n",
       "      <td>True</td>\n",
       "      <td>comm_use_subset</td>\n",
       "      <td>https://www.ncbi.nlm.nih.gov/pmc/articles/PMC4...</td>\n",
       "      <td>PMC4046933</td>\n",
       "    </tr>\n",
       "    <tr>\n",
       "      <th>4</th>\n",
       "      <td>61722c462b054f36461375e96e502cbf22648c04</td>\n",
       "      <td>Dengue virus (DENV) represents a major mosquit...</td>\n",
       "      <td>C6/36 mosquito cells (ATCC® CRL-1660TM) and Ve...</td>\n",
       "      <td>In this study, the anti-dengue activity of nic...</td>\n",
       "      <td>wmfwl2bh</td>\n",
       "      <td>PMC</td>\n",
       "      <td>Neutralization of Acidic Intracellular Vesicle...</td>\n",
       "      <td>10.1038/s41598-019-45095-1</td>\n",
       "      <td>PMC6582152</td>\n",
       "      <td>31213630</td>\n",
       "      <td>...</td>\n",
       "      <td>2019-06-18</td>\n",
       "      <td>Jung, Eunhye; Nam, Sangwoo; Oh, Hyeryeon; Jun,...</td>\n",
       "      <td>Sci Rep</td>\n",
       "      <td>NaN</td>\n",
       "      <td>NaN</td>\n",
       "      <td>True</td>\n",
       "      <td>True</td>\n",
       "      <td>comm_use_subset</td>\n",
       "      <td>https://www.ncbi.nlm.nih.gov/pmc/articles/PMC6...</td>\n",
       "      <td>PMC6582152</td>\n",
       "    </tr>\n",
       "  </tbody>\n",
       "</table>\n",
       "<p>5 rows × 22 columns</p>\n",
       "</div>"
      ],
      "text/plain": [
       "                                   paper_id  \\\n",
       "0  5e0c586f047ff909c8ed3fe171c8975a90608d08   \n",
       "1  1579fbff7af9b156c6f49fee0526e48f852ea460   \n",
       "2  e0668c4b793d0cad26639b070819334a94648123   \n",
       "3  38aa050ad79d8a1d7022c33535255ce9d47914e5   \n",
       "4  61722c462b054f36461375e96e502cbf22648c04   \n",
       "\n",
       "                                           body_text  \\\n",
       "0  Porcine epidemic diarrhea virus (PEDV), which ...   \n",
       "1  Infectious Bronchitis (IB) is an acute and hig...   \n",
       "2  Hajj is the fifth pillar of Islam and is descr...   \n",
       "3  Arenaviruses are enveloped RNA viruses with bi...   \n",
       "4  Dengue virus (DENV) represents a major mosquit...   \n",
       "\n",
       "                                             methods  \\\n",
       "0  The Vero E6 cell line was cultured and maintai...   \n",
       "1  Chicken embryo fibroblast (DF-1) cells and hum...   \n",
       "2                                                      \n",
       "3  The pathogenic strain Romero JUNV was obtained...   \n",
       "4  C6/36 mosquito cells (ATCC® CRL-1660TM) and Ve...   \n",
       "\n",
       "                                             results  cord_uid source  \\\n",
       "0  PEDV concentration was enriched 100 fold and p...  25tcxise    PMC   \n",
       "1  The expression cassettes containing the codon ...  o7y3wygc    PMC   \n",
       "2                                                     6h34gp3x    PMC   \n",
       "3  To understand if IFN has direct impact on JUNV...  7smnk0ob    PMC   \n",
       "4  In this study, the anti-dengue activity of nic...  wmfwl2bh    PMC   \n",
       "\n",
       "                                               title  \\\n",
       "0  Neutralizing antibodies against porcine epidem...   \n",
       "1  A Recombinant Newcastle Disease Virus (NDV) Ex...   \n",
       "2         ‘Hajj: what it means for general practice’   \n",
       "3  Potent Inhibition of Junín Virus Infection by ...   \n",
       "4  Neutralization of Acidic Intracellular Vesicle...   \n",
       "\n",
       "                            doi       pmcid pubmed_id  ... publish_time  \\\n",
       "0     10.1186/s12985-018-1042-3  PMC6117962  30165871  ...   2018-08-30   \n",
       "1    10.1038/s41598-018-30356-2  PMC6086832  30097608  ...   2018-08-10   \n",
       "2     10.3399/bjgpopen18x101493  PMC6184103  30564715  ...   2018-04-18   \n",
       "3  10.1371/journal.pntd.0002933  PMC4046933  24901990  ...   2014-06-05   \n",
       "4    10.1038/s41598-019-45095-1  PMC6582152  31213630  ...   2019-06-18   \n",
       "\n",
       "                                             authors             journal  \\\n",
       "0  Gong, Lang; Lin, Ying; Qin, Jianru; Li, Qianni...             Virol J   \n",
       "1  Shirvani, Edris; Paldurai, Anandan; Manoharan,...             Sci Rep   \n",
       "2  Mughal, Faraz; Chew-Graham, Carolyn A; Saad, A...           BJGP Open   \n",
       "3  Huang, Cheng; Walker, Aida G.; Grant, Ashley M...  PLoS Negl Trop Dis   \n",
       "4  Jung, Eunhye; Nam, Sangwoo; Oh, Hyeryeon; Jun,...             Sci Rep   \n",
       "\n",
       "  Microsoft Academic Paper ID WHO #Covidence has_pdf_parse has_pmc_xml_parse  \\\n",
       "0                         NaN            NaN          True              True   \n",
       "1                         NaN            NaN          True              True   \n",
       "2                         NaN            NaN          True              True   \n",
       "3                         NaN            NaN          True              True   \n",
       "4                         NaN            NaN          True              True   \n",
       "\n",
       "    full_text_file                                                url  \\\n",
       "0  comm_use_subset  https://www.ncbi.nlm.nih.gov/pmc/articles/PMC6...   \n",
       "1  comm_use_subset  https://www.ncbi.nlm.nih.gov/pmc/articles/PMC6...   \n",
       "2  comm_use_subset  https://www.ncbi.nlm.nih.gov/pmc/articles/PMC6...   \n",
       "3  comm_use_subset  https://www.ncbi.nlm.nih.gov/pmc/articles/PMC4...   \n",
       "4  comm_use_subset  https://www.ncbi.nlm.nih.gov/pmc/articles/PMC6...   \n",
       "\n",
       "   paper_id_y  \n",
       "0  PMC6117962  \n",
       "1  PMC6086832  \n",
       "2  PMC6184103  \n",
       "3  PMC4046933  \n",
       "4  PMC6582152  \n",
       "\n",
       "[5 rows x 22 columns]"
      ]
     },
     "execution_count": 71,
     "metadata": {},
     "output_type": "execute_result"
    }
   ],
   "source": [
    "df.head()"
   ]
  },
  {
   "cell_type": "markdown",
   "metadata": {},
   "source": [
    "# Duplicates"
   ]
  },
  {
   "cell_type": "markdown",
   "metadata": {},
   "source": [
    "Some paper ids are duplicated"
   ]
  },
  {
   "cell_type": "code",
   "execution_count": 72,
   "metadata": {},
   "outputs": [
    {
     "data": {
      "text/plain": [
       "9557"
      ]
     },
     "execution_count": 72,
     "metadata": {},
     "output_type": "execute_result"
    }
   ],
   "source": [
    "len(df)"
   ]
  },
  {
   "cell_type": "code",
   "execution_count": 73,
   "metadata": {},
   "outputs": [
    {
     "data": {
      "text/plain": [
       "9557"
      ]
     },
     "execution_count": 73,
     "metadata": {},
     "output_type": "execute_result"
    }
   ],
   "source": [
    "df.paper_id.nunique()"
   ]
  },
  {
   "cell_type": "code",
   "execution_count": 74,
   "metadata": {},
   "outputs": [
    {
     "data": {
      "text/html": [
       "<div>\n",
       "<style scoped>\n",
       "    .dataframe tbody tr th:only-of-type {\n",
       "        vertical-align: middle;\n",
       "    }\n",
       "\n",
       "    .dataframe tbody tr th {\n",
       "        vertical-align: top;\n",
       "    }\n",
       "\n",
       "    .dataframe thead th {\n",
       "        text-align: right;\n",
       "    }\n",
       "</style>\n",
       "<table border=\"1\" class=\"dataframe\">\n",
       "  <thead>\n",
       "    <tr style=\"text-align: right;\">\n",
       "      <th></th>\n",
       "      <th>paper_id</th>\n",
       "      <th>body_text</th>\n",
       "    </tr>\n",
       "  </thead>\n",
       "  <tbody>\n",
       "  </tbody>\n",
       "</table>\n",
       "</div>"
      ],
      "text/plain": [
       "Empty DataFrame\n",
       "Columns: [paper_id, body_text]\n",
       "Index: []"
      ]
     },
     "execution_count": 74,
     "metadata": {},
     "output_type": "execute_result"
    }
   ],
   "source": [
    "df[df.duplicated(subset=['paper_id'], keep=False)][['paper_id', 'body_text']]"
   ]
  },
  {
   "cell_type": "markdown",
   "metadata": {},
   "source": [
    "But luckily they also have the same text body. So we will just keep one article per paper_id.\n",
    "Check for example [https://www.sciencedirect.com/science/article/pii/S1386653209701295?via%3Dihub](https://www.sciencedirect.com/science/article/pii/S1386653209701295?via%3Dihub) and [https://www.sciencedirect.com/science/article/pii/S1386653209701325?via%3Dihub](https://www.sciencedirect.com/science/article/pii/S1386653209701325?via%3Dihub) - they have the same content."
   ]
  },
  {
   "cell_type": "code",
   "execution_count": 75,
   "metadata": {},
   "outputs": [
    {
     "data": {
      "text/plain": [
       "(0, 22)"
      ]
     },
     "execution_count": 75,
     "metadata": {},
     "output_type": "execute_result"
    }
   ],
   "source": [
    "df[df.duplicated(subset=['paper_id', 'body_text'], keep=False)].shape"
   ]
  },
  {
   "cell_type": "code",
   "execution_count": 76,
   "metadata": {},
   "outputs": [],
   "source": [
    "df.drop_duplicates(['paper_id', 'body_text'], inplace=True)"
   ]
  },
  {
   "cell_type": "code",
   "execution_count": 77,
   "metadata": {},
   "outputs": [
    {
     "data": {
      "text/plain": [
       "9557"
      ]
     },
     "execution_count": 77,
     "metadata": {},
     "output_type": "execute_result"
    }
   ],
   "source": [
    "len(df)"
   ]
  },
  {
   "cell_type": "code",
   "execution_count": 78,
   "metadata": {},
   "outputs": [
    {
     "data": {
      "text/html": [
       "<div>\n",
       "<style scoped>\n",
       "    .dataframe tbody tr th:only-of-type {\n",
       "        vertical-align: middle;\n",
       "    }\n",
       "\n",
       "    .dataframe tbody tr th {\n",
       "        vertical-align: top;\n",
       "    }\n",
       "\n",
       "    .dataframe thead th {\n",
       "        text-align: right;\n",
       "    }\n",
       "</style>\n",
       "<table border=\"1\" class=\"dataframe\">\n",
       "  <thead>\n",
       "    <tr style=\"text-align: right;\">\n",
       "      <th></th>\n",
       "      <th>paper_id</th>\n",
       "      <th>body_text</th>\n",
       "      <th>methods</th>\n",
       "      <th>results</th>\n",
       "      <th>cord_uid</th>\n",
       "      <th>source</th>\n",
       "      <th>title</th>\n",
       "      <th>doi</th>\n",
       "      <th>pmcid</th>\n",
       "      <th>pubmed_id</th>\n",
       "      <th>...</th>\n",
       "      <th>publish_time</th>\n",
       "      <th>authors</th>\n",
       "      <th>journal</th>\n",
       "      <th>Microsoft Academic Paper ID</th>\n",
       "      <th>WHO #Covidence</th>\n",
       "      <th>has_pdf_parse</th>\n",
       "      <th>has_pmc_xml_parse</th>\n",
       "      <th>full_text_file</th>\n",
       "      <th>url</th>\n",
       "      <th>paper_id_y</th>\n",
       "    </tr>\n",
       "  </thead>\n",
       "  <tbody>\n",
       "  </tbody>\n",
       "</table>\n",
       "<p>0 rows × 22 columns</p>\n",
       "</div>"
      ],
      "text/plain": [
       "Empty DataFrame\n",
       "Columns: [paper_id, body_text, methods, results, cord_uid, source, title, doi, pmcid, pubmed_id, license, abstract, publish_time, authors, journal, Microsoft Academic Paper ID, WHO #Covidence, has_pdf_parse, has_pmc_xml_parse, full_text_file, url, paper_id_y]\n",
       "Index: []\n",
       "\n",
       "[0 rows x 22 columns]"
      ]
     },
     "execution_count": 78,
     "metadata": {},
     "output_type": "execute_result"
    }
   ],
   "source": [
    "df[df.duplicated(['paper_id'], keep=False)].head(2)"
   ]
  },
  {
   "cell_type": "code",
   "execution_count": 79,
   "metadata": {},
   "outputs": [],
   "source": [
    "df.drop_duplicates(['paper_id'], inplace=True)"
   ]
  },
  {
   "cell_type": "code",
   "execution_count": 80,
   "metadata": {},
   "outputs": [
    {
     "data": {
      "text/plain": [
       "9557"
      ]
     },
     "execution_count": 80,
     "metadata": {},
     "output_type": "execute_result"
    }
   ],
   "source": [
    "df.paper_id.nunique()"
   ]
  },
  {
   "cell_type": "code",
   "execution_count": 81,
   "metadata": {},
   "outputs": [
    {
     "data": {
      "text/plain": [
       "(9557, 22)"
      ]
     },
     "execution_count": 81,
     "metadata": {},
     "output_type": "execute_result"
    }
   ],
   "source": [
    "df.shape"
   ]
  },
  {
   "cell_type": "markdown",
   "metadata": {},
   "source": [
    "Now the paper_id is unique."
   ]
  },
  {
   "cell_type": "code",
   "execution_count": 82,
   "metadata": {},
   "outputs": [
    {
     "data": {
      "text/plain": [
       "paper_id                          0\n",
       "body_text                         0\n",
       "methods                           0\n",
       "results                           0\n",
       "cord_uid                        849\n",
       "source                          849\n",
       "title                           849\n",
       "doi                             915\n",
       "pmcid                           863\n",
       "pubmed_id                      1045\n",
       "license                         849\n",
       "abstract                        539\n",
       "publish_time                    849\n",
       "authors                         871\n",
       "journal                         939\n",
       "Microsoft Academic Paper ID    9490\n",
       "WHO #Covidence                 9457\n",
       "has_pdf_parse                   849\n",
       "has_pmc_xml_parse               849\n",
       "full_text_file                  849\n",
       "url                             849\n",
       "paper_id_y                      945\n",
       "dtype: int64"
      ]
     },
     "execution_count": 82,
     "metadata": {},
     "output_type": "execute_result"
    }
   ],
   "source": [
    "df.isnull().sum()"
   ]
  },
  {
   "cell_type": "markdown",
   "metadata": {},
   "source": [
    "# Some new columns for convenience"
   ]
  },
  {
   "cell_type": "code",
   "execution_count": 83,
   "metadata": {},
   "outputs": [],
   "source": [
    "# some new columns for convenience\n",
    "df['publish_year'] = df.publish_time.str[:4].fillna(-1).astype(int) # 360 times None\n",
    "# df['link'] = 'http://dx.doi.org/' + df.doi #dataset now has url column"
   ]
  },
  {
   "cell_type": "code",
   "execution_count": 84,
   "metadata": {},
   "outputs": [
    {
     "data": {
      "text/plain": [
       "Index(['paper_id', 'body_text', 'methods', 'results', 'cord_uid', 'source',\n",
       "       'title', 'doi', 'pmcid', 'pubmed_id', 'license', 'abstract',\n",
       "       'publish_time', 'authors', 'journal', 'Microsoft Academic Paper ID',\n",
       "       'WHO #Covidence', 'has_pdf_parse', 'has_pmc_xml_parse',\n",
       "       'full_text_file', 'url', 'paper_id_y', 'publish_year'],\n",
       "      dtype='object')"
      ]
     },
     "execution_count": 84,
     "metadata": {},
     "output_type": "execute_result"
    }
   ],
   "source": [
    "df.columns"
   ]
  },
  {
   "cell_type": "code",
   "execution_count": 85,
   "metadata": {},
   "outputs": [
    {
     "data": {
      "text/plain": [
       "0       Porcine epidemic diarrhea virus (PEDV), which ...\n",
       "1       Infectious Bronchitis (IB) is an acute and hig...\n",
       "2       Hajj is the fifth pillar of Islam and is descr...\n",
       "3       Arenaviruses are enveloped RNA viruses with bi...\n",
       "4       Dengue virus (DENV) represents a major mosquit...\n",
       "                              ...                        \n",
       "9552    Early nutritional environment affects long ter...\n",
       "9553    Syphilis is a sexually transmitted disease (ST...\n",
       "9554    The MERS-CoV receptor DPP4 is the main host re...\n",
       "9555    Arenaviruses are enveloped RNA viruses contain...\n",
       "9556    Emerging infectious diseases (EIDs) can cause ...\n",
       "Name: body_text, Length: 9557, dtype: object"
      ]
     },
     "execution_count": 85,
     "metadata": {},
     "output_type": "execute_result"
    }
   ],
   "source": [
    "df.body_text"
   ]
  },
  {
   "cell_type": "code",
   "execution_count": 86,
   "metadata": {},
   "outputs": [],
   "source": [
    "df['is_covid19'] = df.body_text.str.contains('COVID-19|covid|sar cov 2|SARS-CoV-2|2019-nCov|2019 ncov|SARS Coronavirus 2|2019 Novel Coronavirus|coronavirus 2019| Wuhan coronavirus|wuhan pneumonia|wuhan virus', case=False)"
   ]
  },
  {
   "cell_type": "code",
   "execution_count": 87,
   "metadata": {},
   "outputs": [
    {
     "data": {
      "text/plain": [
       "318"
      ]
     },
     "execution_count": 87,
     "metadata": {},
     "output_type": "execute_result"
    }
   ],
   "source": [
    "df.is_covid19.sum()"
   ]
  },
  {
   "cell_type": "markdown",
   "metadata": {},
   "source": [
    "# Language Detection to remove non-english articles and abstracts"
   ]
  },
  {
   "cell_type": "markdown",
   "metadata": {},
   "source": [
    "from IPython.utils import io\n",
    "\n",
    "with io.capture_output() as captured:\n",
    "    !pip install scispacy\n",
    "    !pip install https://s3-us-west-2.amazonaws.com/ai2-s2-scispacy/releases/v0.2.4/en_core_sci_lg-0.2.4.tar.gz\n",
    "    !pip install spacy-langdetect\n",
    "    !pip install spac scispacy spacy_langdetect https://s3-us-west-2.amazonaws.com/ai2-s2-scispacy/releases/v0.2.3/en_core_sci_lg-0.2.3.tar.gz"
   ]
  },
  {
   "cell_type": "code",
   "execution_count": 88,
   "metadata": {},
   "outputs": [],
   "source": [
    "# !pip install spacy-langdetect"
   ]
  },
  {
   "cell_type": "code",
   "execution_count": 89,
   "metadata": {},
   "outputs": [],
   "source": [
    "import scispacy\n",
    "import spacy\n",
    "import en_core_sci_lg\n",
    "from spacy_langdetect import LanguageDetector"
   ]
  },
  {
   "cell_type": "code",
   "execution_count": 90,
   "metadata": {},
   "outputs": [],
   "source": [
    "# medium model\n",
    "nlp = en_core_sci_lg.load(disable=[\"tagger\", \"ner\"])\n",
    "nlp.max_length = 2000000\n",
    "nlp.add_pipe(LanguageDetector(), name='language_detector', last=True)"
   ]
  },
  {
   "cell_type": "code",
   "execution_count": 91,
   "metadata": {},
   "outputs": [
    {
     "data": {
      "text/plain": [
       "{'language': 'en', 'score': 0.999998063116629}"
      ]
     },
     "execution_count": 91,
     "metadata": {},
     "output_type": "execute_result"
    }
   ],
   "source": [
    "doc = nlp('This is some English text. Das ist ein Haus. This is a house.')\n",
    "doc._.language"
   ]
  },
  {
   "cell_type": "code",
   "execution_count": 92,
   "metadata": {},
   "outputs": [
    {
     "name": "stdout",
     "output_type": "stream",
     "text": [
      "{'language': 'en', 'score': 0.9999989411217607}\n",
      "{'language': 'de', 'score': 0.9999976255795803}\n",
      "{'language': 'en', 'score': 0.9999979286758364}\n"
     ]
    }
   ],
   "source": [
    "for s in doc.sents:\n",
    "    print(s._.language)"
   ]
  },
  {
   "cell_type": "code",
   "execution_count": 93,
   "metadata": {},
   "outputs": [],
   "source": [
    "#doc = nlp(df[df.paper_id == '1a8a4dbbaa94ced4ef6af69ec7a09d3fa4c0eece'].body_text.iloc[0])"
   ]
  },
  {
   "cell_type": "code",
   "execution_count": 94,
   "metadata": {},
   "outputs": [],
   "source": [
    "#doc[:500]"
   ]
  },
  {
   "cell_type": "code",
   "execution_count": 95,
   "metadata": {},
   "outputs": [],
   "source": [
    "doc_engl = ''\n",
    "for s in doc.sents:\n",
    "    if (s._.language['language'] == 'en'):\n",
    "        doc_engl += s.text "
   ]
  },
  {
   "cell_type": "code",
   "execution_count": 96,
   "metadata": {},
   "outputs": [
    {
     "data": {
      "text/plain": [
       "'This is some English text.This is a house.'"
      ]
     },
     "execution_count": 96,
     "metadata": {},
     "output_type": "execute_result"
    }
   ],
   "source": [
    "doc_engl[:2000]"
   ]
  },
  {
   "cell_type": "markdown",
   "metadata": {},
   "source": [
    "Check language of each text body (only use the first 2000 characters)."
   ]
  },
  {
   "cell_type": "code",
   "execution_count": 97,
   "metadata": {},
   "outputs": [
    {
     "data": {
      "text/plain": [
       "en         9540\n",
       "zh-cn         3\n",
       "ru            2\n",
       "fr            2\n",
       "ko            2\n",
       "UNKNOWN       2\n",
       "ro            1\n",
       "tl            1\n",
       "id            1\n",
       "de            1\n",
       "pt            1\n",
       "so            1\n",
       "Name: text_language, dtype: int64"
      ]
     },
     "execution_count": 97,
     "metadata": {},
     "output_type": "execute_result"
    }
   ],
   "source": [
    "df['text_language'] = df.body_text.apply(lambda x: nlp(str(x[:2000]))._.language['language'])\n",
    "\n",
    "df.text_language.value_counts()"
   ]
  },
  {
   "cell_type": "markdown",
   "metadata": {},
   "source": [
    "## Number of non-english texts to drop."
   ]
  },
  {
   "cell_type": "code",
   "execution_count": 98,
   "metadata": {},
   "outputs": [
    {
     "data": {
      "text/plain": [
       "(17, 25)"
      ]
     },
     "execution_count": 98,
     "metadata": {},
     "output_type": "execute_result"
    }
   ],
   "source": [
    "df.loc[df[df.text_language != 'en'].index].shape"
   ]
  },
  {
   "cell_type": "code",
   "execution_count": 99,
   "metadata": {},
   "outputs": [],
   "source": [
    "df = df.drop(df[df.text_language != 'en'].index)"
   ]
  },
  {
   "cell_type": "code",
   "execution_count": 100,
   "metadata": {},
   "outputs": [
    {
     "data": {
      "text/plain": [
       "Index(['paper_id', 'body_text', 'methods', 'results', 'cord_uid', 'source',\n",
       "       'title', 'doi', 'pmcid', 'pubmed_id', 'license', 'abstract',\n",
       "       'publish_time', 'authors', 'journal', 'Microsoft Academic Paper ID',\n",
       "       'WHO #Covidence', 'has_pdf_parse', 'has_pmc_xml_parse',\n",
       "       'full_text_file', 'url', 'paper_id_y', 'publish_year', 'is_covid19',\n",
       "       'text_language'],\n",
       "      dtype='object')"
      ]
     },
     "execution_count": 100,
     "metadata": {},
     "output_type": "execute_result"
    }
   ],
   "source": [
    "df.columns"
   ]
  },
  {
   "cell_type": "code",
   "execution_count": 101,
   "metadata": {},
   "outputs": [],
   "source": [
    "df1 = df"
   ]
  },
  {
   "cell_type": "code",
   "execution_count": 102,
   "metadata": {},
   "outputs": [],
   "source": [
    "df = df[['paper_id', 'title', 'results', 'abstract', 'publish_time', 'journal', 'publish_year', 'is_covid19']]"
   ]
  },
  {
   "cell_type": "markdown",
   "metadata": {},
   "source": [
    "# Export as .csv"
   ]
  },
  {
   "cell_type": "code",
   "execution_count": 103,
   "metadata": {},
   "outputs": [
    {
     "data": {
      "text/html": [
       "<div>\n",
       "<style scoped>\n",
       "    .dataframe tbody tr th:only-of-type {\n",
       "        vertical-align: middle;\n",
       "    }\n",
       "\n",
       "    .dataframe tbody tr th {\n",
       "        vertical-align: top;\n",
       "    }\n",
       "\n",
       "    .dataframe thead th {\n",
       "        text-align: right;\n",
       "    }\n",
       "</style>\n",
       "<table border=\"1\" class=\"dataframe\">\n",
       "  <thead>\n",
       "    <tr style=\"text-align: right;\">\n",
       "      <th></th>\n",
       "      <th>paper_id</th>\n",
       "      <th>title</th>\n",
       "      <th>results</th>\n",
       "      <th>abstract</th>\n",
       "      <th>publish_time</th>\n",
       "      <th>journal</th>\n",
       "      <th>publish_year</th>\n",
       "      <th>is_covid19</th>\n",
       "    </tr>\n",
       "  </thead>\n",
       "  <tbody>\n",
       "    <tr>\n",
       "      <th>0</th>\n",
       "      <td>5e0c586f047ff909c8ed3fe171c8975a90608d08</td>\n",
       "      <td>Neutralizing antibodies against porcine epidem...</td>\n",
       "      <td>PEDV concentration was enriched 100 fold and p...</td>\n",
       "      <td>BACKGROUND: Porcine epidemic diarrhea virus (P...</td>\n",
       "      <td>2018-08-30</td>\n",
       "      <td>Virol J</td>\n",
       "      <td>2018</td>\n",
       "      <td>False</td>\n",
       "    </tr>\n",
       "    <tr>\n",
       "      <th>1</th>\n",
       "      <td>1579fbff7af9b156c6f49fee0526e48f852ea460</td>\n",
       "      <td>A Recombinant Newcastle Disease Virus (NDV) Ex...</td>\n",
       "      <td>The expression cassettes containing the codon ...</td>\n",
       "      <td>Infectious bronchitis virus (IBV) causes a hig...</td>\n",
       "      <td>2018-08-10</td>\n",
       "      <td>Sci Rep</td>\n",
       "      <td>2018</td>\n",
       "      <td>False</td>\n",
       "    </tr>\n",
       "    <tr>\n",
       "      <th>2</th>\n",
       "      <td>e0668c4b793d0cad26639b070819334a94648123</td>\n",
       "      <td>‘Hajj: what it means for general practice’</td>\n",
       "      <td></td>\n",
       "      <td>NaN</td>\n",
       "      <td>2018-04-18</td>\n",
       "      <td>BJGP Open</td>\n",
       "      <td>2018</td>\n",
       "      <td>False</td>\n",
       "    </tr>\n",
       "    <tr>\n",
       "      <th>3</th>\n",
       "      <td>38aa050ad79d8a1d7022c33535255ce9d47914e5</td>\n",
       "      <td>Potent Inhibition of Junín Virus Infection by ...</td>\n",
       "      <td>To understand if IFN has direct impact on JUNV...</td>\n",
       "      <td>The new world arenavirus Junín virus (JUNV) is...</td>\n",
       "      <td>2014-06-05</td>\n",
       "      <td>PLoS Negl Trop Dis</td>\n",
       "      <td>2014</td>\n",
       "      <td>False</td>\n",
       "    </tr>\n",
       "    <tr>\n",
       "      <th>4</th>\n",
       "      <td>61722c462b054f36461375e96e502cbf22648c04</td>\n",
       "      <td>Neutralization of Acidic Intracellular Vesicle...</td>\n",
       "      <td>In this study, the anti-dengue activity of nic...</td>\n",
       "      <td>Dengue fever is one of the most important mosq...</td>\n",
       "      <td>2019-06-18</td>\n",
       "      <td>Sci Rep</td>\n",
       "      <td>2019</td>\n",
       "      <td>False</td>\n",
       "    </tr>\n",
       "  </tbody>\n",
       "</table>\n",
       "</div>"
      ],
      "text/plain": [
       "                                   paper_id  \\\n",
       "0  5e0c586f047ff909c8ed3fe171c8975a90608d08   \n",
       "1  1579fbff7af9b156c6f49fee0526e48f852ea460   \n",
       "2  e0668c4b793d0cad26639b070819334a94648123   \n",
       "3  38aa050ad79d8a1d7022c33535255ce9d47914e5   \n",
       "4  61722c462b054f36461375e96e502cbf22648c04   \n",
       "\n",
       "                                               title  \\\n",
       "0  Neutralizing antibodies against porcine epidem...   \n",
       "1  A Recombinant Newcastle Disease Virus (NDV) Ex...   \n",
       "2         ‘Hajj: what it means for general practice’   \n",
       "3  Potent Inhibition of Junín Virus Infection by ...   \n",
       "4  Neutralization of Acidic Intracellular Vesicle...   \n",
       "\n",
       "                                             results  \\\n",
       "0  PEDV concentration was enriched 100 fold and p...   \n",
       "1  The expression cassettes containing the codon ...   \n",
       "2                                                      \n",
       "3  To understand if IFN has direct impact on JUNV...   \n",
       "4  In this study, the anti-dengue activity of nic...   \n",
       "\n",
       "                                            abstract publish_time  \\\n",
       "0  BACKGROUND: Porcine epidemic diarrhea virus (P...   2018-08-30   \n",
       "1  Infectious bronchitis virus (IBV) causes a hig...   2018-08-10   \n",
       "2                                                NaN   2018-04-18   \n",
       "3  The new world arenavirus Junín virus (JUNV) is...   2014-06-05   \n",
       "4  Dengue fever is one of the most important mosq...   2019-06-18   \n",
       "\n",
       "              journal  publish_year  is_covid19  \n",
       "0             Virol J          2018       False  \n",
       "1             Sci Rep          2018       False  \n",
       "2           BJGP Open          2018       False  \n",
       "3  PLoS Negl Trop Dis          2014       False  \n",
       "4             Sci Rep          2019       False  "
      ]
     },
     "execution_count": 103,
     "metadata": {},
     "output_type": "execute_result"
    }
   ],
   "source": [
    "df.head()"
   ]
  },
  {
   "cell_type": "code",
   "execution_count": 104,
   "metadata": {},
   "outputs": [
    {
     "name": "stderr",
     "output_type": "stream",
     "text": [
      "/Users/vidhig/anaconda3/lib/python3.7/site-packages/pandas/core/generic.py:6786: SettingWithCopyWarning: \n",
      "A value is trying to be set on a copy of a slice from a DataFrame\n",
      "\n",
      "See the caveats in the documentation: http://pandas.pydata.org/pandas-docs/stable/user_guide/indexing.html#returning-a-view-versus-a-copy\n",
      "  self._update_inplace(new_data)\n"
     ]
    }
   ],
   "source": [
    "df['abstract'].replace('', np.nan, inplace=True)\n",
    "df['results'].replace('', np.nan, inplace=True)\n",
    "df = df.dropna()"
   ]
  },
  {
   "cell_type": "code",
   "execution_count": 105,
   "metadata": {},
   "outputs": [],
   "source": [
    "results = df.drop('abstract', axis = 1)\n",
    "abstract = df.drop('results', axis = 1)"
   ]
  },
  {
   "cell_type": "code",
   "execution_count": 106,
   "metadata": {},
   "outputs": [],
   "source": [
    "results['section_num'] = 1\n",
    "abstract['section_num'] = 0"
   ]
  },
  {
   "cell_type": "code",
   "execution_count": 107,
   "metadata": {},
   "outputs": [],
   "source": [
    "results = results.rename({'results' : 'text'}, axis = 1)\n",
    "abstract = abstract.rename({'abstract' : 'text'}, axis = 1)"
   ]
  },
  {
   "cell_type": "code",
   "execution_count": 108,
   "metadata": {},
   "outputs": [],
   "source": [
    "import datetime"
   ]
  },
  {
   "cell_type": "code",
   "execution_count": 109,
   "metadata": {},
   "outputs": [],
   "source": [
    "commercial_df = pd.concat([abstract, results]) "
   ]
  },
  {
   "cell_type": "code",
   "execution_count": 110,
   "metadata": {},
   "outputs": [],
   "source": [
    "commercial_df['publish_month'] = pd.DatetimeIndex(commercial_df['publish_time']).month"
   ]
  },
  {
   "cell_type": "code",
   "execution_count": 111,
   "metadata": {},
   "outputs": [],
   "source": [
    "commercial_df = commercial_df.drop('publish_time', axis = 1)"
   ]
  },
  {
   "cell_type": "code",
   "execution_count": 112,
   "metadata": {},
   "outputs": [],
   "source": [
    "commercial_df.to_csv('../dataset/processed-files/commercial.csv', index=False)"
   ]
  },
  {
   "cell_type": "code",
   "execution_count": 113,
   "metadata": {},
   "outputs": [
    {
     "data": {
      "text/html": [
       "<div>\n",
       "<style scoped>\n",
       "    .dataframe tbody tr th:only-of-type {\n",
       "        vertical-align: middle;\n",
       "    }\n",
       "\n",
       "    .dataframe tbody tr th {\n",
       "        vertical-align: top;\n",
       "    }\n",
       "\n",
       "    .dataframe thead th {\n",
       "        text-align: right;\n",
       "    }\n",
       "</style>\n",
       "<table border=\"1\" class=\"dataframe\">\n",
       "  <thead>\n",
       "    <tr style=\"text-align: right;\">\n",
       "      <th></th>\n",
       "      <th>paper_id</th>\n",
       "      <th>title</th>\n",
       "      <th>text</th>\n",
       "      <th>journal</th>\n",
       "      <th>publish_year</th>\n",
       "      <th>is_covid19</th>\n",
       "      <th>section_num</th>\n",
       "      <th>publish_month</th>\n",
       "    </tr>\n",
       "  </thead>\n",
       "  <tbody>\n",
       "    <tr>\n",
       "      <th>0</th>\n",
       "      <td>5e0c586f047ff909c8ed3fe171c8975a90608d08</td>\n",
       "      <td>Neutralizing antibodies against porcine epidem...</td>\n",
       "      <td>BACKGROUND: Porcine epidemic diarrhea virus (P...</td>\n",
       "      <td>Virol J</td>\n",
       "      <td>2018</td>\n",
       "      <td>False</td>\n",
       "      <td>0</td>\n",
       "      <td>8</td>\n",
       "    </tr>\n",
       "    <tr>\n",
       "      <th>1</th>\n",
       "      <td>1579fbff7af9b156c6f49fee0526e48f852ea460</td>\n",
       "      <td>A Recombinant Newcastle Disease Virus (NDV) Ex...</td>\n",
       "      <td>Infectious bronchitis virus (IBV) causes a hig...</td>\n",
       "      <td>Sci Rep</td>\n",
       "      <td>2018</td>\n",
       "      <td>False</td>\n",
       "      <td>0</td>\n",
       "      <td>8</td>\n",
       "    </tr>\n",
       "    <tr>\n",
       "      <th>3</th>\n",
       "      <td>38aa050ad79d8a1d7022c33535255ce9d47914e5</td>\n",
       "      <td>Potent Inhibition of Junín Virus Infection by ...</td>\n",
       "      <td>The new world arenavirus Junín virus (JUNV) is...</td>\n",
       "      <td>PLoS Negl Trop Dis</td>\n",
       "      <td>2014</td>\n",
       "      <td>False</td>\n",
       "      <td>0</td>\n",
       "      <td>6</td>\n",
       "    </tr>\n",
       "    <tr>\n",
       "      <th>4</th>\n",
       "      <td>61722c462b054f36461375e96e502cbf22648c04</td>\n",
       "      <td>Neutralization of Acidic Intracellular Vesicle...</td>\n",
       "      <td>Dengue fever is one of the most important mosq...</td>\n",
       "      <td>Sci Rep</td>\n",
       "      <td>2019</td>\n",
       "      <td>False</td>\n",
       "      <td>0</td>\n",
       "      <td>6</td>\n",
       "    </tr>\n",
       "    <tr>\n",
       "      <th>5</th>\n",
       "      <td>7107f088cbed45d8a06a026276ccf4d602d50f10</td>\n",
       "      <td>Microglia Play a Major Role in Direct Viral-In...</td>\n",
       "      <td>Microglia are the resident macrophage-like pop...</td>\n",
       "      <td>Clin Dev Immunol</td>\n",
       "      <td>2013</td>\n",
       "      <td>False</td>\n",
       "      <td>0</td>\n",
       "      <td>6</td>\n",
       "    </tr>\n",
       "    <tr>\n",
       "      <th>...</th>\n",
       "      <td>...</td>\n",
       "      <td>...</td>\n",
       "      <td>...</td>\n",
       "      <td>...</td>\n",
       "      <td>...</td>\n",
       "      <td>...</td>\n",
       "      <td>...</td>\n",
       "      <td>...</td>\n",
       "    </tr>\n",
       "    <tr>\n",
       "      <th>9552</th>\n",
       "      <td>228650bc0429064d800d4b9c5fb0e00c2533a579</td>\n",
       "      <td>Lipidome profiles of postnatal day 2 vaginal s...</td>\n",
       "      <td>The discovery phase identified a total of 1486...</td>\n",
       "      <td>PLoS One</td>\n",
       "      <td>2019</td>\n",
       "      <td>False</td>\n",
       "      <td>1</td>\n",
       "      <td>9</td>\n",
       "    </tr>\n",
       "    <tr>\n",
       "      <th>9553</th>\n",
       "      <td>2246e28681bde69c65dc9081df367bb661997f19</td>\n",
       "      <td>Secondary Syphilis in Cali, Colombia: New Conc...</td>\n",
       "      <td>A total of 57 patients (age 18–64 years, media...</td>\n",
       "      <td>PLoS Negl Trop Dis</td>\n",
       "      <td>2010</td>\n",
       "      <td>False</td>\n",
       "      <td>1</td>\n",
       "      <td>5</td>\n",
       "    </tr>\n",
       "    <tr>\n",
       "      <th>9554</th>\n",
       "      <td>577c6a13f9ef70e9756890fc66e98f537c01ac0a</td>\n",
       "      <td>Replication and shedding of MERS-CoV in Jamaic...</td>\n",
       "      <td>The MERS-CoV receptor DPP4 is the main host re...</td>\n",
       "      <td>Sci Rep</td>\n",
       "      <td>2016</td>\n",
       "      <td>False</td>\n",
       "      <td>1</td>\n",
       "      <td>2</td>\n",
       "    </tr>\n",
       "    <tr>\n",
       "      <th>9555</th>\n",
       "      <td>c5c2bc7a07670d6fb970d84a59aab3832752a3f1</td>\n",
       "      <td>Role of the ERK1/2 Signaling Pathway in the Re...</td>\n",
       "      <td>Clade B New World (NW) arenaviruses, including...</td>\n",
       "      <td>Viruses</td>\n",
       "      <td>2018</td>\n",
       "      <td>False</td>\n",
       "      <td>1</td>\n",
       "      <td>4</td>\n",
       "    </tr>\n",
       "    <tr>\n",
       "      <th>9556</th>\n",
       "      <td>ba29366173f97f54a22e5c410b3d05e9a9649d28</td>\n",
       "      <td>Foodborne Transmission of Deformed Wing Virus ...</td>\n",
       "      <td>All the samples from T1 (colonies fed for four...</td>\n",
       "      <td>Insects</td>\n",
       "      <td>2019</td>\n",
       "      <td>False</td>\n",
       "      <td>1</td>\n",
       "      <td>11</td>\n",
       "    </tr>\n",
       "  </tbody>\n",
       "</table>\n",
       "<p>12878 rows × 8 columns</p>\n",
       "</div>"
      ],
      "text/plain": [
       "                                      paper_id  \\\n",
       "0     5e0c586f047ff909c8ed3fe171c8975a90608d08   \n",
       "1     1579fbff7af9b156c6f49fee0526e48f852ea460   \n",
       "3     38aa050ad79d8a1d7022c33535255ce9d47914e5   \n",
       "4     61722c462b054f36461375e96e502cbf22648c04   \n",
       "5     7107f088cbed45d8a06a026276ccf4d602d50f10   \n",
       "...                                        ...   \n",
       "9552  228650bc0429064d800d4b9c5fb0e00c2533a579   \n",
       "9553  2246e28681bde69c65dc9081df367bb661997f19   \n",
       "9554  577c6a13f9ef70e9756890fc66e98f537c01ac0a   \n",
       "9555  c5c2bc7a07670d6fb970d84a59aab3832752a3f1   \n",
       "9556  ba29366173f97f54a22e5c410b3d05e9a9649d28   \n",
       "\n",
       "                                                  title  \\\n",
       "0     Neutralizing antibodies against porcine epidem...   \n",
       "1     A Recombinant Newcastle Disease Virus (NDV) Ex...   \n",
       "3     Potent Inhibition of Junín Virus Infection by ...   \n",
       "4     Neutralization of Acidic Intracellular Vesicle...   \n",
       "5     Microglia Play a Major Role in Direct Viral-In...   \n",
       "...                                                 ...   \n",
       "9552  Lipidome profiles of postnatal day 2 vaginal s...   \n",
       "9553  Secondary Syphilis in Cali, Colombia: New Conc...   \n",
       "9554  Replication and shedding of MERS-CoV in Jamaic...   \n",
       "9555  Role of the ERK1/2 Signaling Pathway in the Re...   \n",
       "9556  Foodborne Transmission of Deformed Wing Virus ...   \n",
       "\n",
       "                                                   text             journal  \\\n",
       "0     BACKGROUND: Porcine epidemic diarrhea virus (P...             Virol J   \n",
       "1     Infectious bronchitis virus (IBV) causes a hig...             Sci Rep   \n",
       "3     The new world arenavirus Junín virus (JUNV) is...  PLoS Negl Trop Dis   \n",
       "4     Dengue fever is one of the most important mosq...             Sci Rep   \n",
       "5     Microglia are the resident macrophage-like pop...    Clin Dev Immunol   \n",
       "...                                                 ...                 ...   \n",
       "9552  The discovery phase identified a total of 1486...            PLoS One   \n",
       "9553  A total of 57 patients (age 18–64 years, media...  PLoS Negl Trop Dis   \n",
       "9554  The MERS-CoV receptor DPP4 is the main host re...             Sci Rep   \n",
       "9555  Clade B New World (NW) arenaviruses, including...             Viruses   \n",
       "9556  All the samples from T1 (colonies fed for four...             Insects   \n",
       "\n",
       "      publish_year  is_covid19  section_num  publish_month  \n",
       "0             2018       False            0              8  \n",
       "1             2018       False            0              8  \n",
       "3             2014       False            0              6  \n",
       "4             2019       False            0              6  \n",
       "5             2013       False            0              6  \n",
       "...            ...         ...          ...            ...  \n",
       "9552          2019       False            1              9  \n",
       "9553          2010       False            1              5  \n",
       "9554          2016       False            1              2  \n",
       "9555          2018       False            1              4  \n",
       "9556          2019       False            1             11  \n",
       "\n",
       "[12878 rows x 8 columns]"
      ]
     },
     "execution_count": 113,
     "metadata": {},
     "output_type": "execute_result"
    }
   ],
   "source": [
    "commercial_df"
   ]
  },
  {
   "cell_type": "code",
   "execution_count": null,
   "metadata": {},
   "outputs": [],
   "source": []
  },
  {
   "cell_type": "code",
   "execution_count": null,
   "metadata": {},
   "outputs": [],
   "source": []
  },
  {
   "cell_type": "code",
   "execution_count": null,
   "metadata": {},
   "outputs": [],
   "source": []
  },
  {
   "cell_type": "code",
   "execution_count": null,
   "metadata": {},
   "outputs": [],
   "source": []
  },
  {
   "cell_type": "code",
   "execution_count": null,
   "metadata": {},
   "outputs": [],
   "source": []
  },
  {
   "cell_type": "code",
   "execution_count": null,
   "metadata": {},
   "outputs": [],
   "source": []
  }
 ],
 "metadata": {
  "kernelspec": {
   "display_name": "Python 3",
   "language": "python",
   "name": "python3"
  },
  "language_info": {
   "codemirror_mode": {
    "name": "ipython",
    "version": 3
   },
   "file_extension": ".py",
   "mimetype": "text/x-python",
   "name": "python",
   "nbconvert_exporter": "python",
   "pygments_lexer": "ipython3",
   "version": "3.7.5"
  }
 },
 "nbformat": 4,
 "nbformat_minor": 4
}
